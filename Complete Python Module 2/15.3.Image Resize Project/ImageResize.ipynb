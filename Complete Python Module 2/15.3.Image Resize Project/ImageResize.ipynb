{
 "cells": [
  {
   "cell_type": "markdown",
   "metadata": {
    "colab": {},
    "colab_type": "code",
    "id": "LqnLQq4Q0mOK"
   },
   "source": [
    "<img src=\"https://d24cdstip7q8pz.cloudfront.net/t/ineuron1/content/common/images/final%20logo.png\" height=50 alt-text=\"iNeuron.ai logo\">"
   ]
  },
  {
   "cell_type": "markdown",
   "metadata": {},
   "source": [
    "\n",
    "**Its a python script code and have following specification;**\n",
    "\n",
    "- Used to resize the images, change the type (.jpg to .png and etc.).\n",
    "- Image name can also be changed using this code.\n",
    "- Image can be copied to any desired location in local system."
   ]
  },
  {
   "cell_type": "code",
   "execution_count": 16,
   "metadata": {},
   "outputs": [
    {
     "name": "stdout",
     "output_type": "stream",
     "text": [
      "Orignal size (5184,3456)\n",
      "photo-1484053801020-3a74ca659b03.jpg is renamed to Image_1.png with size (1200,800)\n",
      "Orignal size (7360,4912)\n",
      "photo-1493976040374-85c8e12f0c0e.jpg is renamed to Image_2.png with size (1200,800)\n",
      "Orignal size (3840,2160)\n",
      "photo-1507143550189-fed454f93097.jpg is renamed to Image_3.png with size (1200,800)\n",
      "Orignal size (5865,3915)\n",
      "photo-1513938709626-033611b8cc03.jpg is renamed to Image_4.png with size (1200,800)\n",
      "Orignal size (5184,3456)\n",
      "photo-1542281286-9e0a16bb7366.jpg is renamed to Image_5.png with size (1200,800)\n",
      "Orignal size (3992,2992)\n",
      "photo-1542397284385-6010376c5337.jpg is renamed to Image_6.png with size (1200,800)\n",
      "Orignal size (7952,5304)\n",
      "photo-1542640244-7e672d6cef4e.jpg is renamed to Image_7.png with size (1200,800)\n",
      "Orignal size (5464,3070)\n",
      "photo-1543739970-9f00688c2285.jpg is renamed to Image_8.png with size (1200,800)\n",
      "Orignal size (7212,4813)\n",
      "photo-1543868100-d3b62207712e.jpg is renamed to Image_9.png with size (1200,800)\n",
      "Orignal size (5861,3907)\n",
      "photo-1547185942-2b5661136b1b.jpg is renamed to Image_10.png with size (1200,800)\n",
      "------------------------------------------------------------------------------------\n",
      "Image Resizing Complete\n"
     ]
    }
   ],
   "source": [
    "'''\n",
    "Company: iNeuron\n",
    "Author: Ravi Chaurasia\n",
    "\n",
    "'''\n",
    "\n",
    "## Importing important used library\n",
    "from pil import Image\n",
    "import fnmatch\n",
    "import os\n",
    "\n",
    "## Function to resize and rename the images\n",
    "def image_processing(im_name,i,f,in_folder,out_folder):\n",
    "\n",
    "    ## Assigning new name\n",
    "    new_im_name = 'Image_' + str(i)+f  \n",
    "    \n",
    "    ## the orignal image name from Folder\n",
    "    image = Image.open(in_folder+f'/{im_name}') \n",
    "\n",
    "    ## Size of the image in pixels (size of orginal image is not mandatory to check)\n",
    "    width, height = image.size\n",
    "    print(f'Orignal size ({width},{height})')\n",
    "    \n",
    "    ## Resize the Image\n",
    "    image = image.resize(newsize)\n",
    "\n",
    "    ## Save image to a specified folder\n",
    "    image.save(out_folder+f'/{new_im_name}') \n",
    "\n",
    "    ## Checking new resize Image\n",
    "    width, height = image.size\n",
    "    \n",
    "    ## Printing completed statement\n",
    "    print(f'{im_name} is renamed to {new_im_name} with size ({width},{height})')\n",
    "    \n",
    "\n",
    "if __name__ == '__main__':\n",
    "    \n",
    "    ## Input folder name\n",
    "    in_folder='Images'\n",
    "    \n",
    "    ## Output folder name\n",
    "    out_folder='ResizedImages'\n",
    "    \n",
    "    ## Create if no output folder exist\n",
    "    if not os.path.exists(out_folder):\n",
    "        os.makedirs(out_folder)\n",
    "\n",
    "    ## List of images with extension pf .jpg\n",
    "    im_names = [f for f in os.listdir(os.getcwd() + '\\\\'+in_folder) if fnmatch.fnmatch(f, '*.jpg')]\n",
    "\n",
    "    ## Specify resizing size (width, height)\n",
    "    newsize = (1200, 800)  \n",
    "    \n",
    "    ## Intilize image number\n",
    "    i = 1 \n",
    "    \n",
    "    ## Output image format\n",
    "    format_name = '.png'\n",
    "    \n",
    "    ## Iterating over Input image list\n",
    "    for im in im_names: \n",
    "        \n",
    "        ## Calling image processing function\n",
    "        image_processing(im,i,format_name,in_folder,out_folder)\n",
    "        \n",
    "        ## image number increment\n",
    "        i += 1 \n",
    "\n",
    "    print(84*'-'+'\\nImage Resizing Complete')"
   ]
  },
  {
   "cell_type": "code",
   "execution_count": null,
   "metadata": {},
   "outputs": [],
   "source": []
  },
  {
   "cell_type": "code",
   "execution_count": null,
   "metadata": {},
   "outputs": [],
   "source": []
  }
 ],
 "metadata": {
  "kernelspec": {
   "display_name": "Python 3",
   "language": "python",
   "name": "python3"
  },
  "language_info": {
   "codemirror_mode": {
    "name": "ipython",
    "version": 3
   },
   "file_extension": ".py",
   "mimetype": "text/x-python",
   "name": "python",
   "nbconvert_exporter": "python",
   "pygments_lexer": "ipython3",
   "version": "3.6.5"
  }
 },
 "nbformat": 4,
 "nbformat_minor": 2
}
