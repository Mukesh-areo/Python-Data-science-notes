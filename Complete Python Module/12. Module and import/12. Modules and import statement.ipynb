{
 "cells": [
  {
   "cell_type": "markdown",
   "metadata": {
    "colab_type": "text",
    "id": "MBaIRwURT5OB"
   },
   "source": [
    "<img src=\"https://d24cdstip7q8pz.cloudfront.net/t/ineuron1/content/common/images/final%20logo.png\" height=60 alt-text=\"iNeuron.ai logo\">"
   ]
  },
  {
   "cell_type": "markdown",
   "metadata": {
    "colab_type": "text",
    "id": "lNESDcb2T3xz"
   },
   "source": [
    "## 12.1 Modules and import statement\n",
    "\n",
    "`Modules` in Python refer to file containing set of statements and definitions. \n",
    "\n",
    "A file containing Python code, for any thing like say-> addition.py, is called as a module, and the name of module would be addition.\n",
    "\n",
    "Now, we have addition python file as a module ready and we can import into another program or module.\n",
    "We can use this modules to break larger programs into smaller one and most importantly this modules provide reusability of code. We can reuse this module whenever required instead of rewriting code every time.\n",
    "\n",
    "We can create a module and define the most reusable functions and import it to another module, instead of copying their definitions into different programs."
   ]
  },
  {
   "cell_type": "code",
   "execution_count": null,
   "metadata": {
    "colab": {},
    "colab_type": "code",
    "id": "Ipk0TuuOT3x2"
   },
   "outputs": [],
   "source": [
    "#Let us create addition.py file and add below code to that file\n",
    "# Module addition demo\n",
    "\n",
    "def addition(a, b):\n",
    "   \"\"\"This program return the addition of a and b\"\"\"\n",
    "\n",
    "   result = a + b\n",
    "   return result"
   ]
  },
  {
   "cell_type": "markdown",
   "metadata": {
    "colab_type": "text",
    "id": "CnScmKboT3x9"
   },
   "source": [
    "## 12.2 Import module in python another module\n",
    "\n",
    "We can use import keyword to import python module to different program. To import pre-defined python module, we can do as below:-"
   ]
  },
  {
   "cell_type": "code",
   "execution_count": null,
   "metadata": {
    "colab": {},
    "colab_type": "code",
    "id": "YXh6tPA9T3x_"
   },
   "outputs": [],
   "source": [
    "import addition"
   ]
  },
  {
   "cell_type": "markdown",
   "metadata": {
    "colab_type": "text",
    "id": "6MJl6jEPT3yF"
   },
   "source": [
    "This will import the module only. To access functions defined in that module, we can use \".\" operator to access. Lets say we can call addition method of addition module as below:-"
   ]
  },
  {
   "cell_type": "code",
   "execution_count": null,
   "metadata": {
    "colab": {},
    "colab_type": "code",
    "id": "37tzBsPTT3yG",
    "outputId": "fe30fd34-f4ba-40c0-bd81-e2cf006b912f"
   },
   "outputs": [
    {
     "data": {
      "text/plain": [
       "10"
      ]
     },
     "execution_count": 4,
     "metadata": {
      "tags": []
     },
     "output_type": "execute_result"
    }
   ],
   "source": [
    "addition.addition(5,5) # This will call the addition method of addition module."
   ]
  },
  {
   "cell_type": "markdown",
   "metadata": {
    "colab_type": "text",
    "id": "2Qk-8-o7T3yM"
   },
   "source": [
    "This is the user defined module. In python, there are many built-in standard modules available and we can use that and import similar way as we did for our custom addition mosule."
   ]
  },
  {
   "cell_type": "markdown",
   "metadata": {
    "colab_type": "text",
    "id": "xxUHVgRCT3yN"
   },
   "source": [
    "List of python standard libraries, \n",
    ">**Refer:-**  https://docs.python.org/3/py-modindex.html"
   ]
  },
  {
   "cell_type": "code",
   "execution_count": null,
   "metadata": {
    "colab": {},
    "colab_type": "code",
    "id": "tFfOdUKHT3yO",
    "outputId": "e4b12c1f-995b-433c-b4ef-f7f8881ecee4"
   },
   "outputs": [
    {
     "data": {
      "text/plain": [
       "2.0"
      ]
     },
     "execution_count": 5,
     "metadata": {
      "tags": []
     },
     "output_type": "execute_result"
    }
   ],
   "source": [
    "# One simple example of math module which we are using from day 1\n",
    "\n",
    "import math # Here importing standard math module\n",
    "\n",
    "math.sqrt(4) # here accessing method sqt which exists in math module same like we are using for custom modules as shown above"
   ]
  },
  {
   "cell_type": "code",
   "execution_count": null,
   "metadata": {
    "colab": {},
    "colab_type": "code",
    "id": "lXBKjyyWT3yT"
   },
   "outputs": [],
   "source": [
    "# There are several ways for importing modules. Till now we are just using import statement for importing module.\n",
    "\n",
    "# We can do this with other ways also"
   ]
  },
  {
   "cell_type": "code",
   "execution_count": null,
   "metadata": {
    "colab": {},
    "colab_type": "code",
    "id": "5C60HD7_T3yX",
    "outputId": "eb42bfe1-e880-45c8-8168-9bf6416abccb"
   },
   "outputs": [
    {
     "data": {
      "text/plain": [
       "0.8414709848078965"
      ]
     },
     "execution_count": 8,
     "metadata": {
      "tags": []
     },
     "output_type": "execute_result"
    }
   ],
   "source": [
    "# ANother approach for importing is using rename as \n",
    "import math as m # Focus on \"as m\"\n",
    "\n",
    "m.sin(1) # Accessing methods using renamed one"
   ]
  },
  {
   "cell_type": "code",
   "execution_count": null,
   "metadata": {
    "colab": {},
    "colab_type": "code",
    "id": "Vb_wpEoOT3ye",
    "outputId": "d15ac4f9-9184-41b2-8e22-e229f420ce0e"
   },
   "outputs": [
    {
     "data": {
      "text/plain": [
       "5.0"
      ]
     },
     "execution_count": 9,
     "metadata": {
      "tags": []
     },
     "output_type": "execute_result"
    }
   ],
   "source": [
    "# Another approach for importing is using from keyword and we can import specific methods or multiple methods or all methods\n",
    "\n",
    "from math import sqrt # here importing sqrt only  one method from module\n",
    "\n",
    "sqrt(25) # Now we can access it without . operator"
   ]
  },
  {
   "cell_type": "code",
   "execution_count": null,
   "metadata": {
    "colab": {},
    "colab_type": "code",
    "id": "B_zC-TGFT3yi",
    "outputId": "2fbf6c6e-828e-468e-83a0-ac4e83c2974e"
   },
   "outputs": [
    {
     "name": "stdout",
     "output_type": "stream",
     "text": [
      "7.745966692414834\n",
      "3.141592653589793\n"
     ]
    }
   ],
   "source": [
    "from math import sqrt, pi # Here importing multile methods from math\n",
    "\n",
    "print(sqrt(60))\n",
    "print(pi)"
   ]
  },
  {
   "cell_type": "code",
   "execution_count": null,
   "metadata": {
    "colab": {},
    "colab_type": "code",
    "id": "DBXkyc8OT3ym",
    "outputId": "28d52b13-b086-4dc8-e77e-ee8a82619f85"
   },
   "outputs": [
    {
     "ename": "NameError",
     "evalue": "name 'sin' is not defined",
     "output_type": "error",
     "traceback": [
      "\u001b[1;31m---------------------------------------------------------------------------\u001b[0m",
      "\u001b[1;31mNameError\u001b[0m                                 Traceback (most recent call last)",
      "\u001b[1;32m<ipython-input-12-47b39c6bb11a>\u001b[0m in \u001b[0;36m<module>\u001b[1;34m\u001b[0m\n\u001b[1;32m----> 1\u001b[1;33m \u001b[0msin\u001b[0m\u001b[1;33m(\u001b[0m\u001b[1;36m5\u001b[0m\u001b[1;33m)\u001b[0m\u001b[1;33m\u001b[0m\u001b[1;33m\u001b[0m\u001b[0m\n\u001b[0m",
      "\u001b[1;31mNameError\u001b[0m: name 'sin' is not defined"
     ]
    }
   ],
   "source": [
    "sin(5) # As we haven't imported sin method so we can not access that as only 2 methods we have imported."
   ]
  },
  {
   "cell_type": "code",
   "execution_count": null,
   "metadata": {
    "colab": {},
    "colab_type": "code",
    "id": "OoVZFdBIT3yq",
    "outputId": "4a47c359-4307-4b5d-f1b6-fbf040b4fd08"
   },
   "outputs": [
    {
     "name": "stdout",
     "output_type": "stream",
     "text": [
      "0.0\n",
      "3.141592653589793\n",
      "5.744562646538029\n"
     ]
    }
   ],
   "source": [
    "from math import * # Here importing all methods from math  module hence we can access every method\n",
    "\n",
    "print(sin(0))\n",
    "print(pi)\n",
    "print(sqrt(33))"
   ]
  },
  {
   "cell_type": "markdown",
   "metadata": {
    "colab_type": "text",
    "id": "5l-kzSKyT3yv"
   },
   "source": [
    "The Python will import a module only once in a session. This will makes things efficient. Lets check how it works:-"
   ]
  },
  {
   "cell_type": "code",
   "execution_count": null,
   "metadata": {
    "colab": {},
    "colab_type": "code",
    "id": "Gvwy9S2uT3y8",
    "outputId": "8a91143d-0d57-45e6-ac3d-9a07eb3bf85f"
   },
   "outputs": [
    {
     "name": "stdout",
     "output_type": "stream",
     "text": [
      "This is importing only once in a session\n"
     ]
    }
   ],
   "source": [
    "# Create one file importing.py and paste below code:-\n",
    "\n",
    "# This example is for reloading import module\n",
    "# Import will be once in a single session\n",
    "\n",
    "print(\"This is importing only once in a session\") "
   ]
  },
  {
   "cell_type": "code",
   "execution_count": null,
   "metadata": {
    "colab": {},
    "colab_type": "code",
    "id": "J4eIyR5qT3zG"
   },
   "outputs": [],
   "source": [
    "#Now lets check by importing module multiple times"
   ]
  },
  {
   "cell_type": "code",
   "execution_count": null,
   "metadata": {
    "colab": {},
    "colab_type": "code",
    "id": "0GqFqPexT3zQ",
    "outputId": "88b26399-62d8-4094-d658-b2fc1558d5f7"
   },
   "outputs": [
    {
     "name": "stdout",
     "output_type": "stream",
     "text": [
      "This is importing only once in a session\n"
     ]
    }
   ],
   "source": [
    "import importing\n",
    "import importing\n",
    "import importing\n",
    "import importing\n",
    "# Here it is printed only once"
   ]
  },
  {
   "cell_type": "code",
   "execution_count": null,
   "metadata": {
    "colab": {},
    "colab_type": "code",
    "id": "Fi0u_02MT3zY"
   },
   "outputs": [],
   "source": [
    "import importing # As it is already imported now print statement will not execute"
   ]
  },
  {
   "cell_type": "code",
   "execution_count": null,
   "metadata": {
    "colab": {},
    "colab_type": "code",
    "id": "N_D5bpwqT3zi"
   },
   "outputs": [],
   "source": [
    "# But if we want to reload the module if some changes has been made then there will be reload module which we can use for reloading which exists in imp module"
   ]
  },
  {
   "cell_type": "code",
   "execution_count": null,
   "metadata": {
    "colab": {},
    "colab_type": "code",
    "id": "tAmod1lJT3zq"
   },
   "outputs": [],
   "source": [
    "import importing"
   ]
  },
  {
   "cell_type": "code",
   "execution_count": null,
   "metadata": {
    "colab": {},
    "colab_type": "code",
    "id": "JtjSKEtJT3zz",
    "outputId": "29885c60-a53b-416d-c59e-51c931dab19f"
   },
   "outputs": [
    {
     "name": "stdout",
     "output_type": "stream",
     "text": [
      "This is importing only once in a session\n"
     ]
    },
    {
     "data": {
      "text/plain": [
       "<module 'importing' from 'D:\\\\ineuron internship\\\\Course contents\\\\Python\\\\importing.py'>"
      ]
     },
     "execution_count": 21,
     "metadata": {
      "tags": []
     },
     "output_type": "execute_result"
    }
   ],
   "source": [
    "import importing\n",
    "import imp\n",
    "imp.reload(importing)"
   ]
  },
  {
   "cell_type": "code",
   "execution_count": null,
   "metadata": {
    "colab": {},
    "colab_type": "code",
    "id": "2qbpzpo9T3z9",
    "outputId": "b71b395e-af99-4e62-c83c-18103f7d9627"
   },
   "outputs": [
    {
     "data": {
      "text/plain": [
       "['__builtins__',\n",
       " '__cached__',\n",
       " '__doc__',\n",
       " '__file__',\n",
       " '__loader__',\n",
       " '__name__',\n",
       " '__package__',\n",
       " '__spec__',\n",
       " 'addition']"
      ]
     },
     "execution_count": 22,
     "metadata": {
      "tags": []
     },
     "output_type": "execute_result"
    }
   ],
   "source": [
    "# For  listing out list of methods defined in a module, we can use dir() built in function\n",
    "dir(addition)"
   ]
  },
  {
   "cell_type": "code",
   "execution_count": null,
   "metadata": {
    "colab": {},
    "colab_type": "code",
    "id": "BgPdAPweT30H"
   },
   "outputs": [],
   "source": [
    "#Lets see another example"
   ]
  },
  {
   "cell_type": "markdown",
   "metadata": {
    "colab_type": "text",
    "id": "Fzz7WDKOT30P"
   },
   "source": [
    "we have a dictionary and two methods as defined below and fetching courses offered. Put below code in python file and save it as example_module.py and will import that module."
   ]
  },
  {
   "cell_type": "code",
   "execution_count": null,
   "metadata": {
    "colab": {},
    "colab_type": "code",
    "id": "_nymVseLT30S"
   },
   "outputs": [],
   "source": [
    "import example_module"
   ]
  },
  {
   "cell_type": "code",
   "execution_count": null,
   "metadata": {
    "colab": {},
    "colab_type": "code",
    "id": "oqN1loqcT30Z",
    "outputId": "4dfa82ba-d02f-411f-9c81-cb12a4fa4488"
   },
   "outputs": [
    {
     "data": {
      "text/plain": [
       "'Greetings from iNeuron'"
      ]
     },
     "execution_count": 43,
     "metadata": {
      "tags": []
     },
     "output_type": "execute_result"
    }
   ],
   "source": [
    "# Calling greetings function of example_module\n",
    "example_module.greetings()"
   ]
  },
  {
   "cell_type": "code",
   "execution_count": null,
   "metadata": {
    "colab": {},
    "colab_type": "code",
    "id": "fQ0-MzvUT30h",
    "outputId": "52c8658b-0494-4a0e-98bd-5d1e6bfb7618"
   },
   "outputs": [
    {
     "data": {
      "text/plain": [
       "['Data Science', 'Machine learning', 'Deep learning']"
      ]
     },
     "execution_count": 44,
     "metadata": {
      "tags": []
     },
     "output_type": "execute_result"
    }
   ],
   "source": [
    "# get_course() function for getting courrses offered from a dictionary\n",
    "example_module.get_course()"
   ]
  },
  {
   "cell_type": "code",
   "execution_count": null,
   "metadata": {
    "colab": {},
    "colab_type": "code",
    "id": "ml9lKo0nT30q"
   },
   "outputs": [],
   "source": [
    "# see below is a summary of different types of import"
   ]
  },
  {
   "cell_type": "code",
   "execution_count": null,
   "metadata": {
    "colab": {},
    "colab_type": "code",
    "id": "qAelUGY9T30x"
   },
   "outputs": [],
   "source": [
    "\"\"\"Different import methods summary\"\"\"\n",
    "\n",
    "# Built-in library imports. Below is the built in methods in python\n",
    "import math\n",
    "import datetime\n",
    "import os\n",
    "\n",
    "# Import using from. importing only needed function of the module.\n",
    "from datetime import datetime\n",
    "from math import pi\n",
    "\n",
    "# importing of local module using from.\n",
    "from example_module import get_course # Check our previous example"
   ]
  },
  {
   "cell_type": "markdown",
   "metadata": {
    "colab_type": "text",
    "id": "sMiSz7zfT307"
   },
   "source": [
    "If we have hierarachy structure, then we can import module as relative module orabsolute module. Lets have a look into this.\n",
    "\n",
    "Lets say project structure will be as below:-"
   ]
  },
  {
   "cell_type": "markdown",
   "metadata": {
    "colab_type": "text",
    "id": "Pyzr4CbCT309"
   },
   "source": [
    "    └── MainProject\n",
    "    ├── Pkg1\n",
    "    │   ├── m1.py (function11 and function12 defined here)\n",
    "    │   └── m2.py (function21 and function22 defined here)\n",
    "    └── Pkg2\n",
    "        ├── m3.py (function31 and function32 defined here)\n",
    "        ├── m4.py (function41 and function42 defined here)\n",
    "        └── SubPkg2\n",
    "            └── m5.py (function411 and function422 defined here)"
   ]
  },
  {
   "cell_type": "markdown",
   "metadata": {
    "colab_type": "text",
    "id": "AjAUkHblT30_"
   },
   "source": [
    "So, here MainProject is the main  directory, where it contains two pckages pkg1 and pkg2. Inside pkg1, there is 2 files, m1.py where two functions defined function11 and function12 and in m2.py, function21 and function22 is defined.\n",
    "Similar in pkg2 , two files m3 and m4 and one subpkg2 inside that another file m5 containing functions defined in those files."
   ]
  },
  {
   "cell_type": "markdown",
   "metadata": {
    "colab_type": "text",
    "id": "5T9P7SKDT31B"
   },
   "source": [
    "## 12.3 Absolute imports\n",
    "from pkg1 import m1\n",
    "\n",
    "from pkg1.m2 import function21\n",
    "\n",
    "from pkg2 import clam4ss1\n",
    "\n",
    "from pkg2.SubPkg2.m5 import function411\n"
   ]
  },
  {
   "cell_type": "markdown",
   "metadata": {
    "colab_type": "text",
    "id": "CrHOZHA7T31C"
   },
   "source": [
    "Absolute imports are straightforward and very clear and easily understandable, but if we have a very hierarachical sub modules then based on the nested directory structures, import become verbose and we can use of relative imports over there."
   ]
  },
  {
   "cell_type": "code",
   "execution_count": null,
   "metadata": {
    "colab": {},
    "colab_type": "code",
    "id": "synAfNu9T31E"
   },
   "outputs": [],
   "source": [
    "### Lets look for relative import"
   ]
  },
  {
   "cell_type": "markdown",
   "metadata": {
    "colab_type": "text",
    "id": "HnFG-GQIT31L"
   },
   "source": [
    "Relative import will depend on the current location of the module and the location of the module or the package to be imported"
   ]
  },
  {
   "cell_type": "markdown",
   "metadata": {
    "colab_type": "text",
    "id": "3Y0_sQXfT31M"
   },
   "source": [
    "from .pkg1 import m1\n",
    "\n",
    "from ..pkg_with_parent_folder import function\n",
    "\n",
    "Whenever the project is upwards parent directory, we can increase .(dot) accordingly while importing."
   ]
  },
  {
   "cell_type": "code",
   "execution_count": null,
   "metadata": {
    "colab": {},
    "colab_type": "code",
    "id": "c7JBAWPeT31O"
   },
   "outputs": [],
   "source": []
  }
 ],
 "metadata": {
  "colab": {
   "collapsed_sections": [],
   "name": "12. Modules and import statement.ipynb",
   "provenance": [],
   "toc_visible": true
  },
  "kernelspec": {
   "display_name": "Python 3",
   "language": "python",
   "name": "python3"
  },
  "language_info": {
   "codemirror_mode": {
    "name": "ipython",
    "version": 3
   },
   "file_extension": ".py",
   "mimetype": "text/x-python",
   "name": "python",
   "nbconvert_exporter": "python",
   "pygments_lexer": "ipython3",
   "version": "3.8.5"
  }
 },
 "nbformat": 4,
 "nbformat_minor": 1
}
