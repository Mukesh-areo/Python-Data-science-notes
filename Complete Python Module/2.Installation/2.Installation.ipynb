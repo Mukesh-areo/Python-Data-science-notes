{
 "cells": [
  {
   "cell_type": "markdown",
   "metadata": {
    "colab_type": "text",
    "id": "L9dZZUB4drt_"
   },
   "source": [
    "<img src=\"https://d24cdstip7q8pz.cloudfront.net/t/ineuron1/content/common/images/final%20logo.png\" height=50 alt-text=\"iNeuron.ai logo\">"
   ]
  },
  {
   "cell_type": "markdown",
   "metadata": {
    "colab_type": "text",
    "id": "Q8tin7oS0jVV"
   },
   "source": [
    "# 2) Installation\n",
    "**These are some installation topic which going to covered in this notebook:**\n",
    "- Anaconda Python\n",
    "- Sublime Text \n",
    "- VS code\n",
    "- Pyhton IDLE\n",
    "- Atom \n",
    "- Jypter notebook\n",
    "- Jypyter lab\n",
    "- Spyder"
   ]
  },
  {
   "cell_type": "markdown",
   "metadata": {
    "colab_type": "text",
    "id": "SklIDOY20jVX"
   },
   "source": [
    "## 2.1 Anaconda Python Distribution\n",
    "Anaconda is an open-source package manager, environment manager, and distribution of the Python and R programming languages. It is commonly used for large-scale data processing, scientific computing, and predictive analytics, serving data scientists, developers, business analysts, and those working in DevOps.\n",
    "\n",
    "Anaconda offers a collection of over 720 open-source packages, and is available in both free and paid versions. The Anaconda distribution ships with the conda command-line utility. You can learn more about Anaconda and conda by reading the Anaconda Documentation pages.\n",
    "\n",
    "### Why Anaconda?\n",
    "* User level install of the version of python you want\n",
    "* Able to install/update packages completely independent of system libraries or admin privileges\n",
    "* conda tool installs binary packages, rather than requiring compile resources like pip - again, handy if you have limited privileges for installing necessary libraries.\n",
    "* More or less eliminates the headaches of trying to figure out which version/release of package X is compatible with which version/release of package Y, both of which are required for the install of package Z\n",
    "* Comes either in full-meal-deal version, with numpy, scipy, PyQt, spyder IDE, etc. or in minimal / alacarte version (miniconda) where you can install what you want, when you need it\n",
    "* No risk of messing up required system libraries\n"
   ]
  },
  {
   "cell_type": "markdown",
   "metadata": {},
   "source": [
    "## Anaconda Installation in various environments"
   ]
  },
  {
   "cell_type": "markdown",
   "metadata": {
    "colab_type": "text",
    "id": "UJYenrb70jVZ"
   },
   "source": [
    "\n",
    "### 2.1.1 Installing on Windows\n",
    "\n",
    "1. [Download the Anaconda installer](https://www.anaconda.com/products/individual#windows).\n",
    "\n",
    "2. RECOMMENDED: [Verify data integrity with SHA-256](https://docs.anaconda.com/anaconda/install/hashes/). For more information on hashes, see [What about cryptographic hash verification?](https://conda.io/projects/conda/en/latest/user-guide/install/download.html#cryptographic-hash-verification)\n",
    "\n",
    "3. Double click the installer to launch.\n",
    "\n",
    "    >**Note:** If you encounter any issues during installation, temporarily disable your anti-virus software during install, then re-enable it after the installation concludes. If you have installed for all users, uninstall Anaconda and re-install it for your user only and try again.\n",
    "\n",
    "4. Click Next.\n",
    "\n",
    "5. Read the licensing terms and click I Agree.\n",
    "\n",
    "6. Select an install for “Just Me” unless you’re installing for all users (which requires Windows Administrator privileges).\n",
    "\n",
    "7. Select a destination folder to install Anaconda and click Next.\n",
    "\n",
    "    >**Note:** Install Anaconda to a directory path that does not contain spaces or unicode characters.\n",
    "    \n",
    "    >**Note:** Do not install as Administrator unless admin privileges are required.\n",
    "    \n",
    "    <img src=\"imgs/install01.jpg\" width=\"500\"/>\n",
    "\n",
    "8. Choose whether to add Anaconda to your PATH environment variable. We recommend not adding Anaconda to the PATH environment variable, since this can interfere with other software. Instead, use Anaconda software by opening Anaconda Navigator or the Anaconda Command Prompt from the Start Menu.\n",
    "\n",
    "    <img src=\"imgs/install02.jpg\" width=\"500\"/>\n",
    "\n",
    "9. Choose whether to register Anaconda as your default Python. Unless you plan on installing and running multiple versions of Anaconda or multiple versions of Python, accept the default and leave this box checked.\n",
    "\n",
    "10. Click the Install button. If you want to watch the packages Anaconda is installing, click Show Details.\n",
    "\n",
    "11. Click the Next button.\n",
    "\n",
    "12. Optional: To install PyCharm for Anaconda, click on the link to https://www.anaconda.com/pycharm.\n",
    "\n",
    "    <img src=\"imgs/install03.jpg\" width=\"500\"/>\n",
    "    >**Note:** Or to install Anaconda without PyCharm, click the Next button.\n",
    "\n",
    "\n",
    "13. After a successful installation you will see the “Thanks for installing Anaconda” dialog box:\n",
    "\n",
    "    <img src=\"imgs/install04.jpg\" width=\"500\"/>\n",
    "\n",
    "14. If you wish to read more about Anaconda Cloud and how to get started with Anaconda, check the boxes “Learn more about Anaconda Cloud” and “Learn how to get started with Anaconda”. Click the Finish button.\n",
    "\n",
    "15. After your install is complete, verify it by opening Anaconda Navigator, a program that is included with Anaconda. From your Windows Start menu, select the shortcut Anaconda Navigator. If Navigator opens, you have successfully installed Anaconda.\n",
    "    \n",
    "    <img src=\"imgs/install05.jpg\" width=\"300\"/>\n"
   ]
  },
  {
   "cell_type": "markdown",
   "metadata": {},
   "source": [
    "### 2.1.2 Installing on macOS\n",
    "    \n",
    "   **You can install Anaconda using either the graphical installer (“wizard”) or the command line (“manual”) instructions below. If you are unsure, choose the graphical install.**"
   ]
  },
  {
   "cell_type": "markdown",
   "metadata": {
    "colab_type": "text",
    "id": "ZywD7nPY0jVe"
   },
   "source": [
    " \n",
    "#### 2.1.2.1 macOS graphical install\n",
    "1. Download the [graphical macOS installer](https://www.anaconda.com/products/individual#macos) for your version of Python.\n",
    "\n",
    "2. RECOMMENDED: [Verify data integrity with SHA-256](https://docs.anaconda.com/anaconda/install/hashes/). For more information on hashes, see [What about cryptographic hash verification?](https://conda.io/projects/conda/en/latest/user-guide/install/download.html#cryptographic-hash-verification)\n",
    "\n",
    "3. Double-click the downloaded file and click continue to start the installation.\n",
    "\n",
    "4. Answer the prompts on the Introduction, Read Me, and License screens.\n",
    "\n",
    "5. Click the Install button to install Anaconda in your ~/opt directory (recommended):\n",
    "\n",
    "    <img src=\"imgs/install06.jpg\" width=\"500\"/>\n",
    "\n",
    "6. OR, click the Change Install Location button to install in another location (not recommended). On the Destination Select screen, select Install for me only.\n",
    "\n",
    "    >**Note:** If you get the error message “You cannot install Anaconda in this location,” reselect Install for me only.\n",
    "\n",
    "   <img src=\"imgs/install07.jpg\" width=\"500\"/>\n",
    "\n",
    "7. Click the continue button.\n",
    "\n",
    "8. Optional: To install PyCharm for Anaconda, click on the link to https://www.anaconda.com/pycharm.\n",
    "\n",
    "    <img src=\"imgs/install08.jpg\" width=\"500\"/>\n",
    "\n",
    "    Or to install Anaconda without PyCharm, click the Continue button.\n",
    "\n",
    "9. A successful installation displays the following screen:\n",
    "\n",
    "    <img src=\"imgs/install09.jpg\" width=\"500\"/>\n",
    "\n",
    "10. [Verify your installation.](https://docs.anaconda.com/anaconda/install/verify-install/)"
   ]
  },
  {
   "cell_type": "markdown",
   "metadata": {
    "colab_type": "text",
    "id": "uzSIk7JF0jVj"
   },
   "source": [
    "#### 1.1.2.2 Using the command-line install\n",
    "\n",
    "1. Download the [graphical macOS installer](https://www.anaconda.com/products/individual#macos) for your version of Python.\n",
    "\n",
    "2. RECOMMENDED: [Verify data integrity with SHA-256](https://docs.anaconda.com/anaconda/install/hashes/). For more information on hashes, see [What about cryptographic hash verification?](https://conda.io/projects/conda/en/latest/user-guide/install/download.html#cryptographic-hash-verification)\n",
    "\n",
    "    Open a terminal and run the following:\n",
    "\n",
    "    `shasum -a 256 /path/filename`\n",
    "    \n",
    "    >**Note:** Replace /path/filename with your installation’s path and filename.\n",
    "    \n",
    "3. Install for Python 3.7 or 2.7:\n",
    "\n",
    "    For Python 3.7 enter the following:\n",
    "\n",
    "    ```bash ~/Downloads/Anaconda3-2020.02-MacOSX-x86_64.sh```\n",
    "    \n",
    "    For Python 2.7, open the Terminal.app or iTerm2 terminal application and then enter the following:\n",
    "\n",
    "    ```bash ~/Downloads/Anaconda2-2019.10-MacOSX-x86_64.sh```\n",
    "    \n",
    "    >**Note:** Include the bash command regardless of whether or not you are using the Bash shell.\n",
    "    \n",
    "    >**Note:** Replace `~/Downloads` with your actual path and `Anaconda3-2020.02-MacOSX-x86_64.sh` with actual name of the file you downloaded.\n",
    "    \n",
    "4. The installer prompts “In order to continue the installation process, please review the license agreement.” Click Enter to view the license terms.\n",
    "\n",
    "5. Scroll to the bottom of the license terms and enter yes to agree to them.\n",
    "\n",
    "6. The installer prompts you to Press Enter to confirm the location, Press CTRL-C to cancel the installation or specify an alternate installation directory. If you confirm the default location, it will display `PREFIX=/home/<user>/anaconda<2 or 3>` and continue the installation.\n",
    "\n",
    "    >**Note:** Unlike the graphical install, installing the shell file will place it in ~/anaconda<2 or 3> by default, not ~/opt. This is due to limitations with installing .pkg files on macOS Catalina.\n",
    "    \n",
    "    Installation may take a few minutes to complete.\n",
    "    \n",
    "    >**Note:** We recommend you accept the default install location. Do not choose the path as /usr for the Anaconda/Miniconda installation.\n",
    "    \n",
    "7. The installer prompts “Do you wish the installer to initialize Anaconda3 by running conda init?” We recommend “yes”.\n",
    "    \n",
    "    >**Note:** If you enter “no”, then conda will not modify your shell scripts at all. In order to initialize after the installation process is done, first run `source <path to conda>/bin/activate` and then run `conda init`.\n",
    "    \n",
    "    >**Note:** If you are on macOS Catalina, the new default shell is zsh. You will instead need to run `source <path to conda>/bin/activate` followed by `conda init zsh`.\n",
    "    \n",
    "8. he installer displays “Thank you for installing Anaconda!”\n",
    "\n",
    "9. Optional: The installer describes the partnership between Anaconda and JetBrains and provides a link to install PyCharm for Anaconda at https://www.anaconda.com/pycharm.\n",
    "\n",
    "10. Close and open your terminal window for the Anaconda installation to take effect.\n",
    "\n",
    "11. To control whether or not each shell session has the base environment activated or not, run `conda config --set auto_activate_base False or True`. To run conda from anywhere without having the base environment activated by default, `use conda config --set auto_activate_base False`. This only works if you have run `conda init` first.\n",
    "\n",
    "    >**Note:** conda init is available in conda versions 4.6.12 and later.\n",
    "    \n",
    "12. [Verify your installation.](https://docs.anaconda.com/anaconda/install/verify-install/)"
   ]
  },
  {
   "cell_type": "markdown",
   "metadata": {},
   "source": [
    "### 2.1.3 Installing on Linux"
   ]
  },
  {
   "cell_type": "markdown",
   "metadata": {},
   "source": [
    "#### 2.1.3.1 Prerequisites\n",
    "**To use GUI packages with Linux, you will need to install the following extended dependencies for Qt:**\n",
    "\n",
    "**Debian**\t`apt-get install libgl1-mesa-glx libegl1-mesa libxrandr2 libxrandr2 libxss1 libxcursor1 libxcomposite1 libasound2 libxi6 libxtst6`\n",
    "\n",
    "**RedHat**\t`yum install libXcomposite libXcursor libXi libXtst libXrandr alsa-lib mesa-libEGL libXdamage mesa-libGL libXScrnSaver`\n",
    "\n",
    "**ArchLinux**\t`pacman -Sy libxau libxi libxss libxtst libxcursor libxcomposite libxdamage libxfixes libxrandr libxrender mesa-libgl  alsa-lib libglvnd`\n",
    "\n",
    "**OpenSuse/SLES**\t`zypper install libXcomposite1 libXi6 libXext6 libXau6 libX11-6 libXrandr2 libXrender1 libXss1 libXtst6 libXdamage1 libXcursor1 libxcb1 libasound2  libX11-xcb1 Mesa-libGL1 Mesa-libEGL1`\n",
    "\n",
    "**Gentoo**\t`emerge x11-libs/libXau x11-libs/libxcb x11-libs/libX11 x11-libs/libXext x11-libs/libXfixes x11-libs/libXrender x11-libs/libXi x11-libs/libXcomposite x11-libs/libXrandr x11-libs/libXcursor x11-libs/libXdamage x11-libs/libXScrnSaver x11-libs/libXtst media-libs/alsa-lib media-libs/mesa`"
   ]
  },
  {
   "cell_type": "markdown",
   "metadata": {
    "colab_type": "text",
    "id": "g7i0E87k0jVm"
   },
   "source": [
    "\n",
    "#### 2.1.3.2 Installation\n",
    "**For x86 systems.**\n",
    "\n",
    "1. In your browser, download the [Anaconda installer for Linux](https://www.anaconda.com/products/individual#linux)\n",
    "\n",
    "2. RECOMMENDED: [Verify data integrity with SHA-256](https://docs.anaconda.com/anaconda/install/hashes/). For more information on hashes, see [What about cryptographic hash verification?](https://conda.io/projects/conda/en/latest/user-guide/install/download.html#cryptographic-hash-verification)\n",
    "\n",
    "    Open a terminal and run the following:\n",
    "\n",
    "    ```sha256sum /path/filename```\n",
    "    \n",
    "3. Enter the following to install Anaconda for Python 3.7:\n",
    "\n",
    "    ```bash ~/Downloads/Anaconda3-2020.02-Linux-x86_64.sh```\n",
    "    \n",
    "    OR Enter the following to install Anaconda for Python 2.7:\n",
    "\n",
    "    ```bash ~/Downloads/Anaconda2-2019.10-Linux-x86_64.sh```\n",
    "    \n",
    "    >**Note:** Include the `bash` command regardless of whether or not you are using Bash shell.\n",
    "\n",
    "    >**Note:** If you did not download to your Downloads directory, replace `~/Downloads/` with the path to the file you downloaded.\n",
    "\n",
    "4. The installer prompts “In order to continue the installation process, please review the license agreement.” Click Enter to view license terms.\n",
    "\n",
    "5. Scroll to the bottom of the license terms and enter “Yes” to agree.\n",
    "\n",
    "6. The installer prompts you to click Enter to accept the default install location, CTRL-C to cancel the installation, or specify an alternate installation directory. If you accept the default install location, the installer displays `“PREFIX=/home/<user>/anaconda<2 or 3>”` and continues the installation. It may take a few minutes to complete.\n",
    "\n",
    "    >**Note:** We recommend you accept the default install location. Do not choose the path as /usr for the Anaconda/Miniconda installation.\n",
    "\n",
    "7. The installer prompts “Do you wish the installer to initialize Anaconda3 by running conda init?” We recommend “yes”.\n",
    "\n",
    "    >**Note:** If you enter “no”, then conda will not modify your shell scripts at all. In order to initialize after the installation process is done, first run `source <path to conda>/bin/activate` and then run `conda init`. See [FAQ](https://docs.anaconda.com/anaconda/user-guide/faq/#distribution-faq-linux-path).\n",
    "\n",
    "8. The installer finishes and displays “Thank you for installing Anaconda<2 or 3>!”\n",
    "\n",
    "9. The installer provides a link to install PyCharm for Anaconda at https://www.anaconda.com/pycharm.\n",
    "\n",
    "10. Close and open your terminal window for the installation to take effect, or you can enter the command `source ~/.bashrc`.\n",
    "\n",
    "11. To control whether or not each shell session has the base environment activated or not, run `conda config --set auto_activate_base False or True`. To run conda from anywhere without having the base environment activated by default, use `conda config --set auto_activate_base False`. This only works if you have run `conda init` first.\n",
    "\n",
    "    >**Note:** `conda init` is available in conda versions 4.6.12 and later.\n",
    "    \n",
    "12. [Verify your installation.](https://docs.anaconda.com/anaconda/install/verify-install/)"
   ]
  },
  {
   "cell_type": "markdown",
   "metadata": {},
   "source": [
    "## 2.2 Sublime Text Installation\n",
    "**A sophisticated text editor for code, markup and prose**"
   ]
  },
  {
   "cell_type": "markdown",
   "metadata": {},
   "source": [
    "### 2.2.1 Some features\n",
    "\n",
    "1. GOTO ANYTHING\n",
    "\n",
    "    Use ***Goto Anything*** to open files with only a few keystrokes, and instantly jump to symbols, lines or words.\n",
    "\n",
    "    Triggered with `Ctrl`+`P`, it is possible to:\n",
    "\n",
    "    * Type part of a file name to open it.\n",
    "    \n",
    "    * Type `@` to jump to symbols, `#` to search within the file, and `:` to go to a line number.\n",
    "    \n",
    "2. GOTO DEFINITION\n",
    "    \n",
    "    Using information from syntax definitions, Sublime Text automatically generates a project-wide index of every class, method and function. This index powers ***Goto Definition***, which is exposed in three different ways:\n",
    "\n",
    "    - A popup is displayed when hovering over a symbol\n",
    "\n",
    "    - Pressing F12 when the caret is on a symbol\n",
    "\n",
    "    - The Goto Symbol in Project functionality\n",
    "\n",
    "3. MULTIPLE SELECTIONS\n",
    "    \n",
    "    Make ten changes at the same time, not one change ten times. Multiple selections allow you to interactively change many lines at once, rename variables with ease, and manipulate files faster than ever.\n",
    "\n",
    "    Try pressing `Ctrl`+`Shift`+`L` to split the selection into lines and `Ctrl`+`D` to select the next occurrence of the selected word. To make multiple selections with the mouse, take a look at the [Column Selection](https://www.sublimetext.com/docs/2/column_selection.html) documentation.\n",
    "    \n",
    "4. COMMAND PALETTE\n",
    "\n",
    "    The Command Palette holds infrequently used functionality, like sorting, changing the syntax and changing the indentation settings. With just a few keystrokes, you can search for what you want, without ever having to navigate through the menus or remember obscure key bindings.\n",
    "\n",
    "    Show the Command Palette with `Ctrl`+`Shift`+`P`.\n",
    "    \n",
    "**[More Features](https://www.sublimetext.com/)**"
   ]
  },
  {
   "cell_type": "markdown",
   "metadata": {
    "colab_type": "text",
    "id": "GJklSTMe0jVo"
   },
   "source": [
    "### 2.2.2 Download and Install\n",
    "\n",
    "Sublime Text 3 is the current version of Sublime Text. For bleeding-edge releases, see the [dev builds](https://www.sublimetext.com/3dev).\n",
    "\n",
    "**Version: Build 3211**\n",
    "\n",
    "* [OS X](https://download.sublimetext.com/Sublime%20Text%20Build%203211.dmg) (10.7 or later is required)\n",
    "* [Windows](https://download.sublimetext.com/Sublime%20Text%20Build%203211%20Setup.exe) - also available as a [portable version](https://download.sublimetext.com/Sublime%20Text%20Build%203211.zip)\n",
    "* [Windows 64 bit](https://download.sublimetext.com/Sublime%20Text%20Build%203211%20x64%20Setup.exe) - also available as a [portable version](https://download.sublimetext.com/Sublime%20Text%20Build%203211%20x64.zip)\n",
    "* [Linux repos](https://www.sublimetext.com/docs/3/linux_repositories.html) - also available as a [64 bit](https://download.sublimetext.com/sublime_text_3_build_3211_x64.tar.bz2) or [32 bit tarball](https://download.sublimetext.com/sublime_text_3_build_3211_x32.tar.bz2)\n",
    "\n",
    "#### Windows Installation\n",
    "\n",
    "After clicking [Windows](https://download.sublimetext.com/Sublime%20Text%20Build%203211%20Setup.exe) button, it will automaticaly start downloading. Ones it get downloaded double click on that and follow the steps shown in below images.\n",
    "    \n",
    "   <img src=\"imgs/install10.jpg\" width=\"500\"/>\n",
    "    \n",
    "   <img src=\"imgs/install11.jpg\" width=\"500\"/>\n",
    "    \n",
    "   <img src=\"imgs/install12.jpg\" width=\"500\"/>\n",
    "    \n",
    "   <img src=\"imgs/install13.jpg\" width=\"500\"/>"
   ]
  },
  {
   "cell_type": "markdown",
   "metadata": {
    "colab_type": "text",
    "id": "jTVjRAEV0jVr"
   },
   "source": [
    "### 2.2.3 Python Code Execution \n",
    "\n",
    "   <img src=\"imgs/sublime01.jpg\" width=\"500\"/>\n",
    "   \n",
    "   * Open a python file or create a file. In this case a simple python code is being used as given below\n",
    "   \n",
    "   ```bash\n",
    "    def add(x,y):\n",
    "        return x+y\n",
    "\n",
    "    z=add(45,87)\n",
    "    print('sum :',z)\n",
    "    ```\n",
    "   * Go to `Tools`-`Build System` 'or' `ctrl`+`b` and select `python` option \n",
    "   \n",
    "   <img src=\"imgs/sublime02.jpg\" width=\"500\"/>\n",
    "   \n",
    "   <img src=\"imgs/sublime03.jpg\" width=\"500\"/>\n",
    "   \n",
    "   Obtained Output"
   ]
  },
  {
   "cell_type": "markdown",
   "metadata": {},
   "source": [
    "## 2.3 VS (Visual Studio) Code with Python environment\n",
    "\n",
    "**Python 3 to create the simplest Python \"Hello World\" application in Visual Studio Code. By using the Python extension, you make VS Code into a great lightweight Python IDE (which you may find a productive alternative to PyCharm).**\n",
    "\n",
    ">**Note:** You can then follow any of the [programming tutorials on python.org](https://wiki.python.org/moin/BeginnersGuide/Programmers) within the context of VS Code for an introduction to the language.\n",
    "\n",
    "If you have any problems, feel free to file an issue for this tutorial in the [VS Code documentation repository](https://github.com/microsoft/vscode-docs/issues).\n",
    "\n",
    "> **Note**: You can use VS Code with Python 2 with this tutorial, but you need to make appropriate changes to the code, which are not covered here."
   ]
  },
  {
   "cell_type": "markdown",
   "metadata": {},
   "source": [
    "### 2.3.1 Prerequisites\n",
    "\n",
    "To successfully complete this VS code setup with Python  development environment. Specifically, it requires:\n",
    "\n",
    "- VS Code\n",
    "- VS Code Python extension\n",
    "- Python 3"
   ]
  },
  {
   "cell_type": "markdown",
   "metadata": {},
   "source": [
    "\n",
    "### 2.3.2 Install Visual Studio Code and the Python Extension\n",
    "\n",
    "1. If you have not already done so, install [VS Code](https://code.visualstudio.com/).\n",
    "\n",
    "2. Next, install the [Python extension for VS Code](https://marketplace.visualstudio.com/items?itemName=ms-python.python) from the Visual Studio Marketplace. For additional details on installing extensions, see [Extension Marketplace](/docs/editor/extension-gallery.md). The Python extension is named **Python** and it's published by Microsoft.\n",
    "\n",
    "    <img src=\"imgs/install14.jpg\" width=\"500\"/>\n",
    "    \n",
    "   [Python extension on Marketplace](https://marketplace.visualstudio.com/items?itemName=ms-python.python)"
   ]
  },
  {
   "cell_type": "markdown",
   "metadata": {},
   "source": [
    "### 2.3.3 Install a Python interpreter\n",
    "\n",
    "Along with the Python extension, you need to install a Python interpreter. Which interpreter you use is dependent on your specific needs, but some guidance is provided below."
   ]
  },
  {
   "cell_type": "markdown",
   "metadata": {},
   "source": [
    "#### 2.3.3.1 Windows\n",
    "\n",
    "   - Install [Python from python.org](https://www.python.org/downloads/). You can typically use the **Download Python** button that appears first on the page to download the latest version.\n",
    "\n",
    "   >**Note**: If you don't have admin access, an additional option for installing Python on Windows is to use the Microsoft Store. The Microsoft Store provides installs of [Python 3.7](https://www.microsoft.com/en-us/p/python-37/9nj46sx7x90p) and [Python 3.8](https://www.microsoft.com/en-us/p/python-38/9mssztt1n39l). Be aware that you might have compatibility issues with some packages using this method.\n",
    "\n",
    "   - For additional information about using Python on Windows, see [Using Python on Windows at Python.org](https://docs.python.org/3.7/using/windows.html)\n"
   ]
  },
  {
   "cell_type": "markdown",
   "metadata": {},
   "source": [
    "#### 2.3.3.2 macOS\n",
    "\n",
    "   - The system install of Python on macOS is not supported. Instead, an installation through [Homebrew](https://brew.sh/) is recommended. To install Python using Homebrew on macOS use `brew install python3` at the Terminal prompt.\n",
    "\n",
    "   > **Note** On macOS, make sure the location of your VS Code installation is included in your PATH environment variable.  See [these setup instructions](/docs/setup/mac.md#launching-from-the-command-line) for more information."
   ]
  },
  {
   "cell_type": "markdown",
   "metadata": {},
   "source": [
    "#### 2.3.3.3 Linux\n",
    "\n",
    "   - The built-in Python 3 installation on Linux works well, but to install other Python packages you must install `pip` with [get-pip.py](https://pip.pypa.io/en/stable/installing/#installing-with-get-pip-py)."
   ]
  },
  {
   "cell_type": "markdown",
   "metadata": {},
   "source": [
    "#### 2.3.3.4 Other options\n",
    "\n",
    "   - **Data Science**: If your primary purpose for using Python is Data Science, then you might consider a download from [Anaconda](https://www.anaconda.com/download/). Anaconda provides not just a Python interpreter, but many useful libraries and tools for data science.\n",
    "\n",
    "   - **Windows Subsystem for Linux**: If you are working on Windows and want a Linux environment for working with Python, the [Windows Subsystem for Linux](https://docs.microsoft.com/windows/wsl/about) (WSL) is an option for you. If you choose this option, you'll also want to install the [Remote - WSL extension](https://marketplace.visualstudio.com/items?itemName=ms-vscode-remote.remote-wsl). For more information about using WSL with VS Code, see [VS Code Remote Development](/docs/remote/remote-overview.md) or try the [Working in WSL tutorial](/docs/remote/wsl-tutorial.md), which will walk you through setting up WSL, installing Python, and creating a Hello World application running in WSL."
   ]
  },
  {
   "cell_type": "markdown",
   "metadata": {
    "colab_type": "text",
    "id": "AKujZxLk0jVs"
   },
   "source": [
    "### 2.3.4 Verify the Python installation\n",
    "\n",
    "To verify that you've installed Python successfully on your machine, run one of the following commands (depending on your operating system):\n",
    "\n",
    "- Linux/macOS: open a Terminal Window and type the following command:\n",
    "\n",
    "    ```bash\n",
    "    python3 --version\n",
    "    ```\n",
    "\n",
    "- Windows: open a command prompt and run the following command:\n",
    "\n",
    "    ```ps\n",
    "    py -3 --version\n",
    "    ```\n",
    "\n",
    "If the installation was successful, the output window should show the version of Python that you installed.\n",
    "\n",
    "   > **Note** You can use the `py -0` command in the VS Code integrated terminal to view the versions of python installed on your machine. The default interpreter is identified by an asterisk (*).\n",
    "\n",
    "**[VS Code with Python Complete Tutorial](https://code.visualstudio.com/docs/python/python-tutorial)**\n"
   ]
  },
  {
   "cell_type": "markdown",
   "metadata": {
    "colab_type": "text",
    "id": "NMheXU0e0jVw"
   },
   "source": [
    "## 1.4 Python IDLE\n",
    "\n",
    "**IDLE is Python’s Integrated Development and Learning Environment.**\n",
    "\n",
    "**IDLE has the following features:**\n",
    "   * coded in 100% pure Python, using the tkinter GUI toolkit\n",
    "   * cross-platform: works mostly the same on Windows, Unix, and macOS\n",
    "   * Python shell window (interactive interpreter) with colorizing of code input, output, and error messages\n",
    "   * multi-window text editor with multiple undo, Python colorizing, smart indent, call tips, auto completion, and other features\n",
    "   * search within any window, replace within editor windows, and search through multiple files (grep)\n",
    "   * debugger with persistent breakpoints, stepping, and viewing of global and local namespaces\n",
    "   * configuration, browsers, and other dialogs\n",
    "\n",
    "** Download the latest version for [Windows](https://www.python.org/ftp/python/3.8.5/python-3.8.5.exe) **\n",
    "\n",
    "- Python for [Windows](https://www.python.org/downloads/windows/)\n",
    "- Python for [Linux/UNIX](https://www.python.org/downloads/source/)\n",
    "- Python for [Mac OS X](https://www.python.org/downloads/mac-osx/)\n",
    "- Python for [Other](https://www.python.org/download/other/)\n",
    "\n",
    "**Want to help test development versions of Python? [Prereleases](https://www.python.org/download/pre-releases/), [Docker images](https://quay.io/repository/python-devs/ci-image)**\n",
    "\n",
    "**Active Python Releases**\n",
    "[For more information visit the Python Developer's Guide](https://devguide.python.org/#status-of-python-branches).\n",
    "\n",
    "**[Specific Release with Version](https://www.python.org/downloads/)**\n"
   ]
  },
  {
   "cell_type": "markdown",
   "metadata": {},
   "source": [
    "## 2.5 Atom Text Editor"
   ]
  },
  {
   "cell_type": "markdown",
   "metadata": {},
   "source": [
    "### 2.5.1 Features\n",
    "* **Cross-platform editing** Atom works across operating systems. Use it on OS X, Windows, or Linux.\n",
    "* **Built-in package manager** Search for and install new packages or create your own right from Atom.\n",
    "* **Smart autocompletion** Atom helps you write code faster with a smart and flexible autocomplete.\n",
    "* **File system browser** Easily browse and open a single file, a whole project, or multiple projects in one window.\n",
    "* **Multiple panes** Split your Atom interface into multiple panes to compare and edit code across files.\n",
    "* **Find and replace** Find, preview, and replace text as you type in a file or across all your projects.\n"
   ]
  },
  {
   "cell_type": "markdown",
   "metadata": {},
   "source": [
    "### 2.5.2 Installation\n",
    "\n",
    "[Windows](https://atom.io/download/windows_x64) For 64-bit Windows 7 or later\n",
    "\n",
    "**MacOS**, **Linux** and **others** can be directly downloaded by [GitHub Repo](https://github.com/atom/atom/releases/tag/v1.49.0)\n",
    "\n",
    ">**Note:** [Atom](https://atom.io/) page automatically detect the environment of your system\n",
    "\n",
    ">**Note:** Double click on downloaded file, it will automatically get installed\n"
   ]
  },
  {
   "cell_type": "markdown",
   "metadata": {
    "colab_type": "text",
    "id": "AjPbnIZ30jVy"
   },
   "source": [
    "### 2.5.3 Steps to be followed:\n",
    "* Atom Text Editor (nightly or latest stable release)\n",
    "* Python 2 and/or 3 (Refer section 1.4)\n",
    "* Add Python (and any other interpreters) to the `PATH` environment variable."
   ]
  },
  {
   "cell_type": "markdown",
   "metadata": {
    "colab_type": "text",
    "id": "_0l5FAtD0jV0"
   },
   "source": [
    "### 2.5.4 Python Code Execution\n",
    "\n",
    "   <img src=\"imgs/atom01.jpg\" width=\"500\"/>\n",
    "   \n",
    "   * Open a python file or create a file. In this case a simple python code is being used as given below\n",
    "   \n",
    "   ```bash\n",
    "    def add(x,y):\n",
    "        return x+y\n",
    "\n",
    "    z=add(45,87)\n",
    "    print('sum :',z)\n",
    "    ```\n",
    "   * Go to `file` and select `install` option\n",
    "   \n",
    "   <img src=\"imgs/atom02.jpg\" width=\"700\"/>\n",
    "   \n",
    "   * Type `script` and select the first one (maiximum downloaded one), then install\n",
    "   \n",
    "   * Some of the important command and shortcut references\n",
    "   \n",
    "   <img src=\"imgs/atom03.jpg\" width=\"800\"/>\n",
    "\n",
    "   <img src=\"imgs/atom04.jpg\" width=\"500\"/>\n",
    "   \n",
    "   Obtained Output"
   ]
  },
  {
   "cell_type": "markdown",
   "metadata": {
    "colab": {},
    "colab_type": "code",
    "id": "Iv6i3ROx0jV1"
   },
   "source": [
    "## 2.6 Jupyter Notebook\n",
    "The notebook is a web application that allows you to combine explanatory text, math equations, code, and visualizations all in one easily sharable document.\n",
    "\n",
    "Notebooks have quickly become an essential tool when working with data. You'll find them being used for data cleaning and exploration, visualization, machine learning, and big data analysis. Typically you'd be doing this work in a terminal, either the normal Python shell or with IPython. Your visualizations would be in separate windows, any documentation would be in separate documents, along with various scripts for functions and classes. However, with notebooks, all of these are in one place and easily read together.\n",
    "\n",
    "Notebooks are also rendered automatically on GitHub. It’s a great feature that lets you easily share your work. There is also http://nbviewer.jupyter.org/ that renders the notebooks from your GitHub repo or from notebooks stored elsewhere."
   ]
  },
  {
   "cell_type": "markdown",
   "metadata": {},
   "source": [
    "### 2.6.1 Installing Jupyter Notebook\n",
    "By far the easiest way to install Jupyter is with Anaconda. Jupyter notebooks automatically come with the distribution. You'll be able to use notebooks from the default environment.\n",
    "\n",
    "To install Jupyter notebooks in a conda environment, use \n",
    "   ```cmd\n",
    "   conda install jupyter notebook\n",
    "   ```\n",
    "\n",
    "Jupyter notebooks are also available through pip with \n",
    "   ```cmd\n",
    "   pip install jupyter notebook\n",
    "   ```"
   ]
  },
  {
   "cell_type": "markdown",
   "metadata": {},
   "source": [
    "### 2.6.2 Launching the notebook server\n",
    "To start a notebook server, enter jupyter notebook in your terminal or console. This will start the server in the directory you ran the command in. That means any notebook files will be saved in that directory. Typically you'd want to start the server in the directory where your notebooks live. However, you can navigate through your file system to where the notebooks are.\n",
    "\n",
    "<img src=\"imgs/open1_2.jpg\" width=\"500\"/>\n",
    "\n",
    "\"or\" directly search for `jupter notebook`, shown in image\n",
    "\n",
    "<img src=\"imgs/open1.jpg\" width=\"500\"/>\n",
    "\n",
    "When you run the command (try it yourself!), the server home should open in your browser. By default, the notebook server runs at http://localhost:8888. If you aren't familiar with this, localhost means your computer and 8888 is the port the server is communicating on. As long as the server is still running, you can always come back to it by going to http://localhost:8888 in your browser.\n",
    "\n",
    ">**Note:** If you start another server, it'll try to use port 8888, but since it is occupied, the new server will run on port 8889. Then, you'd connect to it at http://localhost:8889. \n"
   ]
  },
  {
   "cell_type": "markdown",
   "metadata": {},
   "source": [
    "### 2.6.3 Python Code Execution\n",
    "Ones the `jupyter notebook` is open is web browser, check with simple `print()` command\n",
    "```ipython\n",
    "print(\"Welcome to the Python world\")\n",
    "```\n",
    "<img src=\"imgs/open1_3.jpg\" width=\"500\"/>"
   ]
  },
  {
   "cell_type": "markdown",
   "metadata": {},
   "source": [
    "## 2.7 Jupyter lab\n"
   ]
  },
  {
   "cell_type": "markdown",
   "metadata": {},
   "source": [
    "### 2.7.1 Installing Jupyter lab\n",
    "By far the easiest way to install `Jupyter lab` is with Anaconda. Jupyter lab automatically come with the anaconda distribution. You'll be able to use Jupyter lab from the default environment.\n",
    "\n",
    "To install Jupyter lab in a conda environment, use \n",
    "   ```cmd\n",
    "   conda install jupyter lab\n",
    "   ```\n",
    "\n",
    "Jupyter lab are also available through pip with \n",
    "   ```cmd\n",
    "   pip install jupyter lab\n",
    "   ```"
   ]
  },
  {
   "cell_type": "markdown",
   "metadata": {},
   "source": [
    "### 2.7.2 Launching the lab server\n",
    "\n",
    "Its also follow same pattern as jupyter notebook. Open anaconda command prompt, redirect to the project directory or folder\n",
    "and use command;\n",
    "\n",
    "```cmd\n",
    "jupyter lab\n",
    "```\n",
    "\n",
    "<img src=\"imgs/open3.jpg\" width=\"500\"/>"
   ]
  },
  {
   "cell_type": "markdown",
   "metadata": {},
   "source": [
    "### 2.7.3 Python Code Execution\n",
    "Ones the `jupyter lab` is open is web browser, check with simple `print()` command\n",
    "```ipython\n",
    "print(\"Welcome to the Python world\")\n",
    "```\n",
    "<img src=\"imgs/open3_2.jpg\" width=\"500\"/>"
   ]
  },
  {
   "cell_type": "markdown",
   "metadata": {},
   "source": [
    "## 2.8 Spyder"
   ]
  },
  {
   "cell_type": "markdown",
   "metadata": {},
   "source": [
    "### 2.8.1 Installing Spyder\n",
    "By far the easiest way to install `Spyder` is with Anaconda. Spyder automatically come with the anaconda distribution. You'll be able to use Spyder from the default environment.\n",
    "\n",
    "To install spyder in a conda environment, use \n",
    "   ```cmd\n",
    "   conda install -c anaconda spyder\n",
    "   ```\n",
    "\n",
    "Spyder are also available through pip with \n",
    "   ```cmd\n",
    "   pip install spyder\n",
    "   ```"
   ]
  },
  {
   "cell_type": "markdown",
   "metadata": {},
   "source": [
    "### 2.8.2 Launching the lab server\n",
    "\n",
    "Open anaconda command prompt, redirect to the project directory or folder\n",
    "and use command;\n",
    "\n",
    "```cmd\n",
    "jupyter lab\n",
    "```\n",
    "\n",
    "<img src=\"imgs/open2_2.jpg\" width=\"500\"/>\n",
    "\n",
    "\"or\" directly search for spyder, shown in image\n",
    "\n",
    "<img src=\"imgs/open2.jpg\" width=\"500\"/>"
   ]
  },
  {
   "cell_type": "markdown",
   "metadata": {},
   "source": [
    "### 2.8.3 Python Code Execution\n",
    "Ones the `Spyder` is open, in script file write simple `print()` command\n",
    "```ipython\n",
    "print(\"Welcome to the Python world\")\n",
    "```\n",
    "<img src=\"imgs/open2_3.jpg\" width=\"500\"/>\n",
    "\n",
    "<img src=\"imgs/open2_4.jpg\" width=\"500\"/>\n",
    "- Generated outcome"
   ]
  },
  {
   "cell_type": "code",
   "execution_count": null,
   "metadata": {},
   "outputs": [],
   "source": []
  },
  {
   "cell_type": "code",
   "execution_count": null,
   "metadata": {},
   "outputs": [],
   "source": []
  },
  {
   "cell_type": "code",
   "execution_count": null,
   "metadata": {},
   "outputs": [],
   "source": []
  },
  {
   "cell_type": "code",
   "execution_count": null,
   "metadata": {},
   "outputs": [],
   "source": []
  }
 ],
 "metadata": {
  "colab": {
   "collapsed_sections": [],
   "name": "01Installation.ipynb",
   "provenance": [],
   "toc_visible": true
  },
  "kernelspec": {
   "display_name": "Python 3",
   "language": "python",
   "name": "python3"
  },
  "language_info": {
   "codemirror_mode": {
    "name": "ipython",
    "version": 3
   },
   "file_extension": ".py",
   "mimetype": "text/x-python",
   "name": "python",
   "nbconvert_exporter": "python",
   "pygments_lexer": "ipython3",
   "version": "3.8.5"
  }
 },
 "nbformat": 4,
 "nbformat_minor": 2
}
