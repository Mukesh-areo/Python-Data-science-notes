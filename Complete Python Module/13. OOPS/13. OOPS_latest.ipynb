{
 "cells": [
  {
   "cell_type": "markdown",
   "metadata": {
    "colab_type": "text",
    "id": "LMXPusSfTwWb"
   },
   "source": [
    "<img src=\"https://d24cdstip7q8pz.cloudfront.net/t/ineuron1/content/common/images/final%20logo.png\" height=60 alt-text=\"iNeuron.ai logo\">"
   ]
  },
  {
   "cell_type": "markdown",
   "metadata": {
    "colab_type": "text",
    "id": "dEO0rJEHTsXO"
   },
   "source": [
    "# 13. Object Oriented Programming concepts\n",
    "\n",
    "__Object Oriented Programming (OOP)__ is a programming paradigm that allows abstraction through the concept of interacting entities. This programming works contradictory to conventional model and is procedural, in which programs are organized as a sequence of commands or statements to perform.\n",
    "\n",
    "We can think an object as an entity that resides in memory, has a state and it's able to perform some actions. \n",
    " \n",
    "More formally objects are entities that represent **instances** of a general abstract concept called **class**. In `Python`, \"attributes\" are the variables defining an object state and the possible actions are called \"methods\".\n",
    "\n",
    "In Python, everything is an object also classes and functions.\n",
    "\n",
    "Each class represents meaningful view of the objects that are instances of this class,\n",
    "without going into too much detail or giving others access to the inner\n",
    "workings of the objects i.e. how it works internally. The class contains instance variables,\n",
    "also known as data members as well as some methods for some purpose also\n",
    "known as member functions. Object of the class can access this methods to achieve something meaningful."
   ]
  },
  {
   "cell_type": "markdown",
   "metadata": {
    "colab_type": "text",
    "id": "gfmu6hFATsXV"
   },
   "source": [
    "## 13.1 Goals of object oriented design"
   ]
  },
  {
   "cell_type": "markdown",
   "metadata": {
    "colab_type": "text",
    "id": "8pBTap42TsXZ"
   },
   "source": [
    "### Robustness\n",
    "\n",
    "**1)** Our program should run properly even with unexpected data\n",
    "\n",
    "**2)** We need to write in such a way that it handles complex programs and it can handle with unexpected data.\n",
    "\n",
    "Every developer develop application in such a way that\n",
    "an application will give correct output in all the scenarios. \n",
    "Our application will be robust, that is, it should capable enough for handling\n",
    "unexpected data that is not predefined.\n",
    "For example,\n",
    "if a program is expecting a string and instead it will receive negative integer, then the program should be able to\n",
    "recover and handle this type of error gracefully.\n",
    "\n",
    "Writing software programs is a style of programming that dealing with surprising and unforeseen activities. It expects code to deal with these types of terminations and expectations and run smmothly."
   ]
  },
  {
   "cell_type": "markdown",
   "metadata": {
    "colab_type": "text",
    "id": "YKipS011TsXg"
   },
   "source": [
    "### Adaptability\n",
    "\n",
    "**1)** Software program or application will grow over a life time\n",
    "\n",
    "**2)** The application should build such a way that is should run with different versions, different generations, different hardware as well. \n",
    "\n",
    "Software program or application should have the option to advance after some time in light of changing conditions.\n",
    "Along these lines, this is significant objective of value in programming that flexibility ought to be accomplished. \n",
    "Program should be build in such a way that it will run with minor change on various hardware and os platforms."
   ]
  },
  {
   "cell_type": "markdown",
   "metadata": {
    "colab_type": "text",
    "id": "f0TAY0keTsXk"
   },
   "source": [
    "### Reusability\n",
    "\n",
    "Building from reusable applications to avoid making entire new application just like rebuilding entire wheel.\n",
    "\n",
    "Software should be reusable, that is, the same code should be reusable as a component for different applications.\n",
    "Developing quality software application can be an expensive and if the software is designed in a way that makes it easily\n",
    "reusable in future applications, it will helpful in productivity and also can reduce cost for new application."
   ]
  },
  {
   "cell_type": "markdown",
   "metadata": {
    "colab_type": "text",
    "id": "T4GhKVd2TsXm"
   },
   "source": [
    "## 13.2 How to define classes"
   ]
  },
  {
   "cell_type": "markdown",
   "metadata": {
    "colab_type": "text",
    "id": "i3S6hf5ZTsXn"
   },
   "source": [
    "### Creating a class\n",
    "\n",
    "Suppose we want to create a class, named Person, as a prototype, a sort of template for any number of 'Person' objects (instances)."
   ]
  },
  {
   "cell_type": "markdown",
   "metadata": {
    "colab_type": "text",
    "id": "isOX24prTsXq"
   },
   "source": [
    "The following python syntax defines a class:\n",
    "\n",
    "    class ClassName(base_classes):\n",
    "        statements\n",
    "\n",
    "        "
   ]
  },
  {
   "cell_type": "markdown",
   "metadata": {
    "colab_type": "text",
    "id": "TW_wbi92TsXs"
   },
   "source": [
    "Class names should always be uppercase (it's a naming convention)."
   ]
  },
  {
   "cell_type": "markdown",
   "metadata": {
    "colab_type": "text",
    "id": "aEvq7pJCTsXu"
   },
   "source": [
    "Say we need to model a Person as:\n",
    "\n",
    "* Name\n",
    "* Surname  \n",
    "* Age  "
   ]
  },
  {
   "cell_type": "code",
   "execution_count": null,
   "metadata": {
    "colab": {},
    "colab_type": "code",
    "id": "_old3aXaTsXw",
    "outputId": "d03a854e-d966-403a-fff4-0949c19d63f4"
   },
   "outputs": [
    {
     "name": "stdout",
     "output_type": "stream",
     "text": [
      "<__main__.Person object at 0x0000021AE61A1648>\n",
      "Alec Baldwin was born in 1958.\n"
     ]
    }
   ],
   "source": [
    "class Person:\n",
    "    pass\n",
    "\n",
    "john_doe = Person()\n",
    "john_doe.name = \"Alec\"\n",
    "john_doe.surname = \"Baldwin\"\n",
    "john_doe.year_of_birth = 1958\n",
    "\n",
    "\n",
    "print(john_doe)\n",
    "print(\"%s %s was born in %d.\" %\n",
    "      (john_doe.name, john_doe.surname, john_doe.year_of_birth))"
   ]
  },
  {
   "cell_type": "markdown",
   "metadata": {
    "colab_type": "text",
    "id": "jVMakfVdTsYI"
   },
   "source": [
    "pass is generally used where code will eventually run without any errors."
   ]
  },
  {
   "cell_type": "code",
   "execution_count": null,
   "metadata": {
    "colab": {},
    "colab_type": "code",
    "id": "MQxb09WpTsYL"
   },
   "outputs": [],
   "source": [
    "class Person:\n",
    "    pass"
   ]
  },
  {
   "cell_type": "markdown",
   "metadata": {
    "colab_type": "text",
    "id": "zHfkC8u4TsYY"
   },
   "source": [
    "The following example defines an empty class (i.e. the class doesn't have a state) called _Person_ then creates a _Person_ instance called _john_doe_ and adds three attributes to _john_doe_. We see that we can access objects attributes using the \"dot\" operator.\n",
    "\n",
    "This isn't a recommended style because classes should describe homogeneous entities. A way to do so is the following:"
   ]
  },
  {
   "cell_type": "code",
   "execution_count": null,
   "metadata": {
    "colab": {},
    "colab_type": "code",
    "id": "yw6rVCiBTsYb"
   },
   "outputs": [],
   "source": [
    "class Person:\n",
    "    def __init__(self, name, surname, year_of_birth):\n",
    "        self.name = name\n",
    "        self.surname = surname\n",
    "        self.year_of_birth = year_of_birth"
   ]
  },
  {
   "cell_type": "markdown",
   "metadata": {
    "colab_type": "text",
    "id": "VC3pdDyGTsYp"
   },
   "source": [
    "    __init__(self, ...)\n",
    "Is a special _Python_ method that is automatically called after an object construction. Its purpose is to initialize every object state. The first argument (by convention) __self__ is automatically passed either and refers to the object itself.\n",
    "\n",
    "In the preceding example, `__init__` adds three attributes to every object that is instantiated. So the class is actually describing each object's state.\n",
    "\n",
    "Attributes created in `__init__` method are called instance attributes, so name,surname and year_of_birth are called instance attributes."
   ]
  },
  {
   "cell_type": "code",
   "execution_count": null,
   "metadata": {
    "colab": {},
    "colab_type": "code",
    "id": "858KrMleTsYq"
   },
   "outputs": [],
   "source": [
    "class Person:\n",
    "    # Here we can declare class attributes\n",
    "    company = \"iNeuron\"\n",
    "    \n",
    "    def __init__(self, name, surname, year_of_birth):\n",
    "        self.name = name\n",
    "        self.surname = surname\n",
    "        self.year_of_birth = year_of_birth"
   ]
  },
  {
   "cell_type": "markdown",
   "metadata": {
    "colab_type": "text",
    "id": "A2IwCNSKTsY5"
   },
   "source": [
    "Here comapny is called class variables and we can use class variables if it will not change for entire class and their methods and functions. It should be same for entire class and every instance. We can use instance attributes which will vary from one instance to another instances of the class."
   ]
  },
  {
   "cell_type": "markdown",
   "metadata": {
    "colab_type": "text",
    "id": "zn8lZI3CTsY7"
   },
   "source": [
    "We cannot directly manipulate any class rather we need to create an instance of the class: "
   ]
  },
  {
   "cell_type": "code",
   "execution_count": null,
   "metadata": {
    "colab": {},
    "colab_type": "code",
    "id": "hU3Vbg5pTsY8",
    "outputId": "9101e083-fb2d-4a30-c1b4-791a7be95347"
   },
   "outputs": [
    {
     "name": "stdout",
     "output_type": "stream",
     "text": [
      "<__main__.Person object at 0x0000021AE6163708>\n",
      "Alechgffh Baldwin was born in 1958.\n"
     ]
    }
   ],
   "source": [
    "alec = Person(\"Alechgffh\", \"Baldwin\", 1958)\n",
    "print(alec)\n",
    "print(\"%s %s was born in %d.\" % (alec.name, alec.surname, alec.year_of_birth))"
   ]
  },
  {
   "cell_type": "code",
   "execution_count": null,
   "metadata": {
    "colab": {},
    "colab_type": "code",
    "id": "j7astN8uTsZE",
    "outputId": "a028b989-294e-42b8-f3f1-23ccd4a80eee"
   },
   "outputs": [
    {
     "data": {
      "text/plain": [
       "'iNeuron'"
      ]
     },
     "execution_count": 18,
     "metadata": {
      "tags": []
     },
     "output_type": "execute_result"
    }
   ],
   "source": [
    "# Can access class attribute company in a similar way\n",
    "alec.company"
   ]
  },
  {
   "cell_type": "markdown",
   "metadata": {
    "colab_type": "text",
    "id": "BE0COFeTTsZL"
   },
   "source": [
    "\n",
    "We have just created an instance of the Person class, bound to the variable `alec`. "
   ]
  },
  {
   "cell_type": "code",
   "execution_count": null,
   "metadata": {
    "colab": {},
    "colab_type": "code",
    "id": "gursKOypTsZN"
   },
   "outputs": [],
   "source": [
    "# Another example\n",
    "class Student:\n",
    "    \n",
    "    def __init__(self,first_name,last_name,age,class_,section):\n",
    "        self.first_name = first_name\n",
    "        self.last_name = last_name\n",
    "        self.age = age\n",
    "        self.class_ = class_\n",
    "        self.section = section"
   ]
  },
  {
   "cell_type": "code",
   "execution_count": null,
   "metadata": {
    "colab": {},
    "colab_type": "code",
    "id": "48QLj7p8TsZZ"
   },
   "outputs": [],
   "source": [
    "student1 = Student(\"Ram\",\"Kumar\",17,10,\"A\")\n",
    "student2 = Student(\"Shyam\",\"Sharma\",16,9,\"C\")"
   ]
  },
  {
   "cell_type": "code",
   "execution_count": null,
   "metadata": {
    "colab": {},
    "colab_type": "code",
    "id": "GR1ZGHVeTsZn",
    "outputId": "69d38e7b-2080-472c-8999-f78c0079fd28"
   },
   "outputs": [
    {
     "name": "stdout",
     "output_type": "stream",
     "text": [
      "Details of first student : Name = Ram Kumar, Age= 17 , class_section = 10A\n"
     ]
    }
   ],
   "source": [
    "print(\"Details of first student : Name = {0}, Age= {1} , class_section = {2}\".\n",
    "      format(student1.first_name+ \" \" +student1.last_name, student1.age, str(student1.class_)+student1.section))"
   ]
  },
  {
   "cell_type": "code",
   "execution_count": null,
   "metadata": {
    "colab": {},
    "colab_type": "code",
    "id": "N6Q_ZX61TsZw",
    "outputId": "9cf8eb6c-5c0b-41de-b04d-a330fe9e56cf"
   },
   "outputs": [
    {
     "name": "stdout",
     "output_type": "stream",
     "text": [
      "Details of second student : Name = Shyam Sharma, Age= 16 , class_section = 9C\n"
     ]
    }
   ],
   "source": [
    "print(\"Details of second student : Name = {0}, Age= {1} , class_section = {2}\".\n",
    "      format(student2.first_name+ \" \" +student2.last_name, student2.age, str(student2.class_)+student2.section))"
   ]
  },
  {
   "cell_type": "markdown",
   "metadata": {
    "colab_type": "text",
    "id": "XOqTpG8TTsaB"
   },
   "source": [
    "### Methods"
   ]
  },
  {
   "cell_type": "code",
   "execution_count": null,
   "metadata": {
    "colab": {},
    "colab_type": "code",
    "id": "Kmd4qvnFTsaE",
    "outputId": "e8366741-6362-4daf-9615-23ef6079acab"
   },
   "outputs": [
    {
     "name": "stdout",
     "output_type": "stream",
     "text": [
      "Alec Baldwin was born in 1958 .\n",
      "56\n"
     ]
    }
   ],
   "source": [
    "class Person:\n",
    "    def __init__(a, name, surname, year_of_birth):\n",
    "        a.name = name\n",
    "        a.surname = surname\n",
    "        a.year_of_birth = year_of_birth\n",
    "    \n",
    "    def age(a, current_year):\n",
    "        return current_year - a.year_of_birth\n",
    "    \n",
    "    def __str__(a):\n",
    "        return \"%s %s was born in %d .\" % (a.name, a.surname, a.year_of_birth)\n",
    "    \n",
    "alec = Person(\"Alec\", \"Baldwin\", 1958)\n",
    "print(alec)\n",
    "print(alec.age(2014))\n"
   ]
  },
  {
   "cell_type": "markdown",
   "metadata": {
    "colab_type": "text",
    "id": "0r169ioZTsaU"
   },
   "source": [
    "We defined two more methods `age` and  `__str__`. The latter is once again a special method that is called by Python when the object has to be represented as a string (e.g. when has to be printed). If the `__str__` method isn't defined the **print** command shows the type of object and its address in memory. We can see that in order to call a method we use the same syntax for attributes (**instance_name.instance _method**).\n",
    "\n",
    ".__init__() and .__str__() methods are called dunder methods. We can call as dunder methods beacause they begin and end with double underscores."
   ]
  },
  {
   "cell_type": "code",
   "execution_count": 1,
   "metadata": {
    "colab": {},
    "colab_type": "code",
    "id": "RZmGP3_oTsaX"
   },
   "outputs": [],
   "source": [
    "#Let's look at another database example for class methods\n",
    "# For more detail about database, we will look in future classes.\n",
    "import sqlite3\n",
    "\n",
    "class DataBaseOperations:\n",
    "\n",
    "    def __init__(self,databasename):\n",
    "        \n",
    "        self.databasename = databasename\n",
    "\n",
    "    def createDatabase(self):\n",
    "        try:\n",
    "            conn = sqlite3.connect(self.databasename)\n",
    "        except ConnectionError:\n",
    "            raise ConnectionError\n",
    "        return conn\n",
    "\n",
    "    def createTable(self,tablename,dictionaryOfcolumnNamesAndcolumnDatatypes):\n",
    "        try:\n",
    "            conn = self.createDatabase()\n",
    "            c = conn.cursor()\n",
    "            for key in dictionaryOfcolumnNamesAndcolumnDatatypes.keys():\n",
    "                datatype = dictionaryOfcolumnNamesAndcolumnDatatypes[key]\n",
    "                try:\n",
    "                    conn.execute(\n",
    "                        'ALTER TABLE {tableName} ADD COLUMN \"{column_name}\" {dataType}'.format(tableName=tablename,\n",
    "                                                                                               column_name=key,\n",
    "                                                                                               dataType=datatype))\n",
    "                except:\n",
    "                    conn.execute('CREATE TABLE {tableName} ({column_name} {dataType})'.format(tableName=tablename,\n",
    "                                                                                              column_name=key,\n",
    "                                                                                              dataType=datatype))\n",
    "            print(\"Table {0} created in database {1}\".format(tablename,self.databasename))\n",
    "            self.closeDbConnection(conn)\n",
    "            print(\"Connection to database closed!!\")\n",
    "        except Exception as e:\n",
    "            conn.rollback()\n",
    "            self.closeDbConnection(conn)\n",
    "            print(\"Connection to database closed!!\")\n",
    "\n",
    "            print(\"Exception occured: \" + str(e))\n",
    "\n",
    "    def insertIntoTable(self,tablename, listOfvaluesToInsert):\n",
    "        try:\n",
    "            conn = self.createDatabase()\n",
    "            conn.execute('INSERT INTO {tablename}  values ({values})'.format(tablename = tablename,values=(listOfvaluesToInsert)))\n",
    "            conn.commit()\n",
    "            print(\"Values Inserted Successfully!!!\")\n",
    "            self.closeDbConnection(conn)\n",
    "            print(\"Connection to database closed!!\")\n",
    "        except Exception as e:\n",
    "            conn.rollback()\n",
    "            self.closeDbConnection(conn)\n",
    "            print(\"Connection to database closed!!\")\n",
    "            print(\"Error occured: \" + str(e))\n",
    "\n",
    "        # self.closeDbconnection()\n",
    "    \n",
    "    def selectFromTable(self,tablename):\n",
    "\n",
    "        try:\n",
    "            conn = self.createDatabase()\n",
    "            c = conn.cursor()\n",
    "            c.execute(\"SELECT *  FROM {table}\".format(table=tablename))\n",
    "            print(\"values in table : \" ,c.fetchall())\n",
    "            self.closeDbConnection(conn)\n",
    "            print(\"Connection to database closed!!\")\n",
    "            \n",
    "        except Exception as e:\n",
    "            self.closeDbConnection(conn)\n",
    "            print(\"Connection to database closed!!\")\n",
    "            print(\"Error occured: \" + str(e))\n",
    "    \n",
    "    def closeDbConnection(self,connection):\n",
    "       \n",
    "        connection.close()"
   ]
  },
  {
   "cell_type": "code",
   "execution_count": 2,
   "metadata": {
    "colab": {},
    "colab_type": "code",
    "id": "tyu_-0J0Tsaf"
   },
   "outputs": [],
   "source": [
    "#creating an object of class databaseOperations\n",
    "db = DataBaseOperations(\"test1\")"
   ]
  },
  {
   "cell_type": "code",
   "execution_count": 3,
   "metadata": {
    "colab": {},
    "colab_type": "code",
    "id": "siG2S5rzTsan",
    "outputId": "3718f1de-3978-4960-d6bc-dcfa0e88b7a8"
   },
   "outputs": [
    {
     "data": {
      "text/plain": [
       "<sqlite3.Connection at 0x10b9a2e6990>"
      ]
     },
     "execution_count": 3,
     "metadata": {},
     "output_type": "execute_result"
    }
   ],
   "source": [
    "#creating database\n",
    "db.createDatabase()"
   ]
  },
  {
   "cell_type": "code",
   "execution_count": 4,
   "metadata": {
    "colab": {},
    "colab_type": "code",
    "id": "eu6T7Ak7Tsav"
   },
   "outputs": [],
   "source": [
    "tableDetails = {\"studentId\" : \"INTEGER\", \"studentRoll\" : \"INTEGER\", \"studentMarks\" : \"FLOAT\"}"
   ]
  },
  {
   "cell_type": "code",
   "execution_count": 5,
   "metadata": {
    "colab": {},
    "colab_type": "code",
    "id": "xHHoHbrkTsa5",
    "outputId": "e0b9ee96-e08d-4541-af87-d704a43833c1"
   },
   "outputs": [
    {
     "name": "stdout",
     "output_type": "stream",
     "text": [
      "Connection to database closed!!\n",
      "Exception occured: table table1 already exists\n"
     ]
    }
   ],
   "source": [
    "db.createTable(\"table1\",tableDetails)"
   ]
  },
  {
   "cell_type": "code",
   "execution_count": 6,
   "metadata": {
    "colab": {},
    "colab_type": "code",
    "id": "ZzWnfrD7Tsa_"
   },
   "outputs": [],
   "source": [
    "valuesToisnert= ('1,1,97')"
   ]
  },
  {
   "cell_type": "code",
   "execution_count": 7,
   "metadata": {
    "colab": {},
    "colab_type": "code",
    "id": "lKlvqSqzTsbG",
    "outputId": "c89a515f-7a07-42c4-f807-a42518d34415"
   },
   "outputs": [
    {
     "name": "stdout",
     "output_type": "stream",
     "text": [
      "Values Inserted Successfully!!!\n",
      "Connection to database closed!!\n"
     ]
    }
   ],
   "source": [
    "# Inserting values\n",
    "db.insertIntoTable(\"table1\",valuesToisnert)"
   ]
  },
  {
   "cell_type": "code",
   "execution_count": 8,
   "metadata": {
    "colab": {},
    "colab_type": "code",
    "id": "z3Jjw3RoTsbN",
    "outputId": "07625ac8-4a8c-4525-8c1d-23dd738b35ac"
   },
   "outputs": [
    {
     "name": "stdout",
     "output_type": "stream",
     "text": [
      "values in table :  [(1, 1, 97.0), (1, 1, 97.0), (1, 1, 97.0)]\n",
      "Connection to database closed!!\n"
     ]
    }
   ],
   "source": [
    "db.selectFromTable(\"table1\")"
   ]
  },
  {
   "cell_type": "markdown",
   "metadata": {
    "colab_type": "text",
    "id": "kY_PuasfTsbd"
   },
   "source": [
    "### Bad practice\n",
    "\n",
    "It is possible to create a class without the `__init__` method, but this is not a recommended style because classes should describe homogeneous entities."
   ]
  },
  {
   "cell_type": "code",
   "execution_count": null,
   "metadata": {
    "colab": {},
    "colab_type": "code",
    "id": "q7qlsdl9Tsbg"
   },
   "outputs": [],
   "source": [
    "class Person:\n",
    "  \n",
    "    def set_name(self, name):\n",
    "        self.name = name\n",
    "        \n",
    "    def set_surname(self, surname):\n",
    "        self.surname = surname\n",
    "        \n",
    "    def set_year_of_birth(self, year_of_birth):\n",
    "        self.year_of_birth = year_of_birth\n",
    "        \n",
    "    def age(self, current_year):\n",
    "        return current_year - self.year_of_birth\n",
    "    \n",
    "    def __str__(self):\n",
    "        return \"%s %s was born in %d .\" \\\n",
    "                % (self.name, self.surname, self.year_of_birth)\n",
    "    "
   ]
  },
  {
   "cell_type": "markdown",
   "metadata": {
    "colab_type": "text",
    "id": "6Ifg6tgITsbl"
   },
   "source": [
    "In this case, an empty instance of the class Person is created, and no attributes have been initialized while instantiating:"
   ]
  },
  {
   "cell_type": "code",
   "execution_count": null,
   "metadata": {
    "colab": {},
    "colab_type": "code",
    "id": "_7KGHC8zTsbl"
   },
   "outputs": [],
   "source": [
    "president = Person()"
   ]
  },
  {
   "cell_type": "code",
   "execution_count": null,
   "metadata": {
    "colab": {},
    "colab_type": "code",
    "id": "NJ45HsksTsbr",
    "outputId": "2b61be7e-7a5e-4b6a-f9bb-d8e20626c235"
   },
   "outputs": [
    {
     "ename": "AttributeError",
     "evalue": "'Person' object has no attribute 'name'",
     "output_type": "error",
     "traceback": [
      "\u001b[1;31m---------------------------------------------------------------------------\u001b[0m",
      "\u001b[1;31mAttributeError\u001b[0m                            Traceback (most recent call last)",
      "\u001b[1;32m<ipython-input-39-004adac081fd>\u001b[0m in \u001b[0;36m<module>\u001b[1;34m\u001b[0m\n\u001b[0;32m      1\u001b[0m \u001b[1;31m# This code will raise an attribute error:\u001b[0m\u001b[1;33m\u001b[0m\u001b[1;33m\u001b[0m\u001b[1;33m\u001b[0m\u001b[0m\n\u001b[1;32m----> 2\u001b[1;33m \u001b[0mprint\u001b[0m\u001b[1;33m(\u001b[0m\u001b[0mpresident\u001b[0m\u001b[1;33m.\u001b[0m\u001b[0mname\u001b[0m\u001b[1;33m)\u001b[0m\u001b[1;33m\u001b[0m\u001b[1;33m\u001b[0m\u001b[0m\n\u001b[0m",
      "\u001b[1;31mAttributeError\u001b[0m: 'Person' object has no attribute 'name'"
     ]
    }
   ],
   "source": [
    "# This code will raise an attribute error:\n",
    "print(president.name)"
   ]
  },
  {
   "cell_type": "markdown",
   "metadata": {
    "colab_type": "text",
    "id": "HUdhzUfPTsb0"
   },
   "source": [
    "This raises an Attribute Error... We need to set the attributes:"
   ]
  },
  {
   "cell_type": "code",
   "execution_count": null,
   "metadata": {
    "colab": {},
    "colab_type": "code",
    "id": "kCq7riR6Tsb0"
   },
   "outputs": [],
   "source": [
    "president.set_name('John')\n",
    "president.set_surname('Doe')\n",
    "president.set_year_of_birth(1940)"
   ]
  },
  {
   "cell_type": "code",
   "execution_count": null,
   "metadata": {
    "colab": {},
    "colab_type": "code",
    "id": "WIEkEwwATsb6",
    "outputId": "f733ab63-702d-403b-8bdc-c0abb13c88aa"
   },
   "outputs": [
    {
     "name": "stdout",
     "output_type": "stream",
     "text": [
      "Mr John Doe is the president, and he is very old. He is 74\n"
     ]
    }
   ],
   "source": [
    "print('Mr', president.name, president.surname,\n",
    "      'is the president, and he is very old. He is',\n",
    "      president.age(2014))"
   ]
  },
  {
   "cell_type": "markdown",
   "metadata": {
    "colab_type": "text",
    "id": "stMCvbtgTsb-"
   },
   "source": [
    "### Protect your abstraction\n",
    "\n",
    "Here the instance attributes shouldn't be accessible by the end user of an object as they are powerful mean of abstraction they should not reveal the internal implementation detail. In Python, there is no specific strict mechanism to protect object attributes but the official guidelines suggest that a variable that has an underscore prefix should be treated as 'Private'.\n",
    "\n",
    "Moreover prepending two underscores to a variable name makes the interpreter mangle a little the variable name."
   ]
  },
  {
   "cell_type": "code",
   "execution_count": null,
   "metadata": {
    "colab": {},
    "colab_type": "code",
    "id": "V4hoCtOfTsb_",
    "outputId": "91838721-b84e-48f1-e230-060454475e6b"
   },
   "outputs": [
    {
     "name": "stdout",
     "output_type": "stream",
     "text": [
      "Alec Baldwin and was born 1958.\n",
      "Baldwin\n"
     ]
    }
   ],
   "source": [
    "class Person:\n",
    "    def __init__(self, name, surname, year_of_birth):\n",
    "        self._name = name # _ single underscore means protected\n",
    "        self._surname = surname\n",
    "        self._year_of_birth = year_of_birth\n",
    "    \n",
    "    def age(self, current_year):\n",
    "        return current_year - self._year_of_birth\n",
    "    \n",
    "    def __str__(self):\n",
    "        return \"%s %s and was born %d.\" \\\n",
    "                % (self._name, self._surname, self._year_of_birth)\n",
    "    \n",
    "alec = Person(\"Alec\", \"Baldwin\", 1958)\n",
    "print(alec)\n",
    "print(alec._surname)"
   ]
  },
  {
   "cell_type": "code",
   "execution_count": null,
   "metadata": {
    "colab": {},
    "colab_type": "code",
    "id": "Tb3IvLUGTscE",
    "outputId": "a2454487-fad6-4566-be59-a852d45d0189"
   },
   "outputs": [
    {
     "name": "stdout",
     "output_type": "stream",
     "text": [
      "Alec\n"
     ]
    }
   ],
   "source": [
    "class Person:\n",
    "    def __init__(a, name, surname, year_of_birth): # we can give whichever name we can give instead of self\n",
    "        a.__name = name # __ double underscore means private members of a class\n",
    "        a.__surname = surname\n",
    "        a.__year_of_birth = year_of_birth\n",
    "    \n",
    "    def age(self, current_year):\n",
    "        return current_year - self.__year_of_birth\n",
    "    \n",
    "    def __str__(self):\n",
    "        return \"%s %s and was born %d.\" \\\n",
    "                % (self.__name, self.__surname, self.__year_of_birth)\n",
    "    \n",
    "alec = Person(\"Alec\", \"Baldwin\", 1958)\n",
    "print(alec._Person__name) # For accessing private elements of a class"
   ]
  },
  {
   "cell_type": "markdown",
   "metadata": {
    "colab_type": "text",
    "id": "D5t6GcoDTscJ"
   },
   "source": [
    "`__dict__` is a special attribute is a dictionary containing each attribute of an object. We can see that prepending two underscores every key has `_ClassName__` prepended."
   ]
  },
  {
   "cell_type": "markdown",
   "metadata": {
    "colab_type": "text",
    "id": "HbRbErxETscK"
   },
   "source": [
    "## 13.3 Inheritance\n",
    "\n",
    "Once a class is defined it models a concept. It is useful to extend a class behavior to model a less general concept. Say we need to model a Student, but we know that every student is also a Person so we shouldn't model the Person again but inherit from it instead.\n",
    "\n",
    "Through inheritance one can take all the methods and attributes from the another class and we can override or extend the methods from the another class. The class which is overriding is called child class and the class from methods are taking is called parent class."
   ]
  },
  {
   "cell_type": "code",
   "execution_count": null,
   "metadata": {
    "colab": {},
    "colab_type": "code",
    "id": "jToD4taITscL",
    "outputId": "27cf17f1-fcf4-4e2e-98e7-0661ad7e6a88"
   },
   "outputs": [
    {
     "name": "stdout",
     "output_type": "stream",
     "text": [
      "1\n",
      "<class '__main__.Student'>\n",
      "True\n",
      "True\n"
     ]
    }
   ],
   "source": [
    "class Student(Person):\n",
    "    def __init__(self, student_id, *args):\n",
    "        super(Student, self).__init__(*args)\n",
    "        self._student_id = student_id\n",
    "        \n",
    "charlie = Student(1, 'Charlie', 'Brown', 2006)\n",
    "print(charlie._student_id)\n",
    "print(type(charlie))\n",
    "print(isinstance(charlie, Person))\n",
    "print(isinstance(charlie, object))\n"
   ]
  },
  {
   "cell_type": "markdown",
   "metadata": {
    "colab_type": "text",
    "id": "LOUdCC0dTscP"
   },
   "source": [
    "Charlie now has the same behavior of a Person, but his state has also a student ID. A Person is one of the base classes of Student and Student is one of the sub classes of Person. Be aware that a subclass knows about its superclasses but the converse isn't true.\n",
    "\n",
    "A sub class doesn't only inherits from its base classes, but from its base classes too, forming an inheritance tree that starts from a object (every class base class).\n",
    "\n",
    "    super(Class, instance)\n",
    "    \n",
    "is a function that returns a proxy-object that delegates method calls to a parent or sibling class of type.\n",
    "So we used it to access Person's `__init__`."
   ]
  },
  {
   "cell_type": "code",
   "execution_count": null,
   "metadata": {
    "colab": {},
    "colab_type": "code",
    "id": "45qywuQsTscP"
   },
   "outputs": [],
   "source": [
    "# Another example \n",
    "class StudentMarks(DataBaseOperations): # inheriting the DatabaseOperation class\n",
    "    \n",
    "    def __init__ (self, ID, RollNumber, Marks):\n",
    "        \n",
    "        self.id= ID\n",
    "        self.RollNum = RollNumber\n",
    "        self.Marks = Marks\n",
    "        self.databasename = \"StudentDetails\""
   ]
  },
  {
   "cell_type": "code",
   "execution_count": null,
   "metadata": {
    "colab": {},
    "colab_type": "code",
    "id": "ZMxfEasmTscT"
   },
   "outputs": [],
   "source": [
    "student1 = StudentMarks(23,34,76)"
   ]
  },
  {
   "cell_type": "code",
   "execution_count": null,
   "metadata": {
    "colab": {},
    "colab_type": "code",
    "id": "feZPO5WpTscX",
    "outputId": "86576fbb-f449-4b45-db60-304c0108ac30"
   },
   "outputs": [
    {
     "data": {
      "text/plain": [
       "<sqlite3.Connection at 0x21ae6170d50>"
      ]
     },
     "execution_count": 58,
     "metadata": {
      "tags": []
     },
     "output_type": "execute_result"
    }
   ],
   "source": [
    "student1.createDatabase()"
   ]
  },
  {
   "cell_type": "code",
   "execution_count": null,
   "metadata": {
    "colab": {},
    "colab_type": "code",
    "id": "Q3EwXAWRTscc"
   },
   "outputs": [],
   "source": [
    "tableDetails = {\"studentId\" : \"INTEGER\", \"studentRoll\" : \"INTEGER\", \"studentMarks\" : \"FLOAT\"}"
   ]
  },
  {
   "cell_type": "code",
   "execution_count": null,
   "metadata": {
    "colab": {},
    "colab_type": "code",
    "id": "pTI7ERFaTsch",
    "outputId": "cc96b2dd-ba32-4d14-8b48-48e60f4e09d9"
   },
   "outputs": [
    {
     "name": "stdout",
     "output_type": "stream",
     "text": [
      "Table studentMarks2 created in database StudentDetails\n",
      "Connection to database closed!!\n"
     ]
    }
   ],
   "source": [
    "student1.createTable(\"studentMarks2\",tableDetails)"
   ]
  },
  {
   "cell_type": "code",
   "execution_count": null,
   "metadata": {
    "colab": {},
    "colab_type": "code",
    "id": "AawEUrMfTsck"
   },
   "outputs": [],
   "source": [
    "valuestoInsert= (\"{0},{1},{2}\".format(student1.id,student1.RollNum,student1.Marks))"
   ]
  },
  {
   "cell_type": "code",
   "execution_count": null,
   "metadata": {
    "colab": {},
    "colab_type": "code",
    "id": "rWwP1UCDTscr",
    "outputId": "6d110870-b8b5-4203-f779-18c4c72cc08f"
   },
   "outputs": [
    {
     "name": "stdout",
     "output_type": "stream",
     "text": [
      "Values Inserted Successfully!!!\n",
      "Connection to database closed!!\n"
     ]
    }
   ],
   "source": [
    "student1.insertIntoTable(\"studentMarks2\",valuestoInsert)"
   ]
  },
  {
   "cell_type": "code",
   "execution_count": null,
   "metadata": {
    "colab": {},
    "colab_type": "code",
    "id": "D7tzsuoVTscw",
    "outputId": "e57492ed-0ab1-48ef-e63b-770b4413432d"
   },
   "outputs": [
    {
     "name": "stdout",
     "output_type": "stream",
     "text": [
      "values in table :  [(23, 34, 76.0)]\n",
      "Connection to database closed!!\n"
     ]
    }
   ],
   "source": [
    "student1.selectFromTable(\"studentMarks2\")"
   ]
  },
  {
   "cell_type": "markdown",
   "metadata": {
    "colab_type": "text",
    "id": "BwTtBmkSTsc8"
   },
   "source": [
    "### Overriding methods\n",
    "\n",
    "Inheritance allows to add new methods to a subclass but often is useful to change the behavior of a method defined in the superclass. To override a method just define it again."
   ]
  },
  {
   "cell_type": "code",
   "execution_count": null,
   "metadata": {
    "colab": {},
    "colab_type": "code",
    "id": "XDKXbne-Tsc9",
    "outputId": "283ca808-7197-4deb-cb24-1ef4d955bd8b"
   },
   "outputs": [
    {
     "name": "stdout",
     "output_type": "stream",
     "text": [
      "Charlie Brown and was born 2006. And has ID: 1\n"
     ]
    }
   ],
   "source": [
    "class Student(Person):\n",
    "    def __init__(self, student_id, *args, **kwargs):\n",
    "        super(Student, self).__init__(*args, **kwargs)\n",
    "        self._student_id = student_id\n",
    "        \n",
    "    def __str__(self):\n",
    "        return super(Student, self).__str__() + \" And has ID: %d\" % self._student_id\n",
    "        \n",
    "charlie = Student(1, 'Charlie', 'Brown', 2006)\n",
    "print(charlie)\n"
   ]
  },
  {
   "cell_type": "markdown",
   "metadata": {
    "colab_type": "text",
    "id": "ukKWbpuVTsdC"
   },
   "source": [
    "We defined `__str__` again overriding the one wrote in Person, but we wanted to extend it, so we used super to achieve our goal."
   ]
  },
  {
   "cell_type": "code",
   "execution_count": null,
   "metadata": {
    "colab": {},
    "colab_type": "code",
    "id": "-rqEYMJ0TsdF"
   },
   "outputs": [],
   "source": [
    "#another class inheriting the DataBaseOperation class with overRiding the insert function\n",
    "class StudentDetails(DataBaseOperations): # inheriting the DatabaseOperation class\n",
    "        \n",
    "        def __init__ (self, FirstName,LastName, RollNumber, Class):\n",
    "        \n",
    "            self.FirstName= FirstName\n",
    "            self.LastName = LastName\n",
    "            self.RollNumber = RollNumber\n",
    "            self.Class = Class\n",
    "            self.databasename = \"StudentDetails\"\n",
    "            \n",
    "        #overriding the insert method of parent class to insert string values in table\n",
    "        def insertIntoTable(self,tablename):\n",
    "            try:\n",
    "                \n",
    "                firstName = '\"' + self.FirstName + '\"' #putting string value under quotes to insert into database\n",
    "                LastName = '\"' + self.LastName + '\"'\n",
    "                Class = '\"' + self.Class + '\"'\n",
    "                \n",
    "                listOfvaluesToInsert= (\"{0},{1},{2},{3}\".format(firstName,LastName,self.RollNumber,Class))\n",
    "                conn = self.createDatabase()\n",
    "                conn.execute('INSERT INTO {tablename}  values ({values})'.format(tablename = tablename,values=(listOfvaluesToInsert)))\n",
    "                conn.commit()\n",
    "                print(\"Values Inserted Successfully!!!\")\n",
    "                self.closeDbConnection(conn)\n",
    "                print(\"Connection to database closed!!\")\n",
    "            except Exception as e:\n",
    "                conn.rollback()\n",
    "                self.closeDbConnection(conn)\n",
    "                print(\"Connection to database closed!!\")\n",
    "                print(\"Error occured: \" + str(e))\n",
    "    "
   ]
  },
  {
   "cell_type": "code",
   "execution_count": null,
   "metadata": {
    "colab": {},
    "colab_type": "code",
    "id": "Wp-gLpdDTsdO"
   },
   "outputs": [],
   "source": [
    "student1 = StudentDetails(\"Raj\",\"Kumar\",34,\"Ten\")"
   ]
  },
  {
   "cell_type": "code",
   "execution_count": null,
   "metadata": {
    "colab": {},
    "colab_type": "code",
    "id": "izPXuVpwTsdT",
    "outputId": "8b0b6717-2347-4527-b503-16de112dfd21"
   },
   "outputs": [
    {
     "data": {
      "text/plain": [
       "<sqlite3.Connection at 0x21ae6170b90>"
      ]
     },
     "execution_count": 68,
     "metadata": {
      "tags": []
     },
     "output_type": "execute_result"
    }
   ],
   "source": [
    "student1.createDatabase()"
   ]
  },
  {
   "cell_type": "code",
   "execution_count": null,
   "metadata": {
    "colab": {},
    "colab_type": "code",
    "id": "DMiPB2HgTsda"
   },
   "outputs": [],
   "source": [
    "tableDetails = {\"studentFirstName\" : \"Varchar\", \"studentLastName\" : \"Varchar\", \"studentRollNumber\" : \"INTEGER\",\"StudentClass\": \"Varchar\"}"
   ]
  },
  {
   "cell_type": "code",
   "execution_count": null,
   "metadata": {
    "colab": {},
    "colab_type": "code",
    "id": "R5UIF5NQTsdh",
    "outputId": "66dc9a85-8f99-43d4-c686-a529bed54c8f"
   },
   "outputs": [
    {
     "name": "stdout",
     "output_type": "stream",
     "text": [
      "Connection to database closed!!\n",
      "Exception occured: table studentDetails already exists\n"
     ]
    }
   ],
   "source": [
    "student1.createTable(\"studentDetails\",tableDetails)"
   ]
  },
  {
   "cell_type": "code",
   "execution_count": null,
   "metadata": {
    "colab": {},
    "colab_type": "code",
    "id": "aN7fhtsMTsdn",
    "outputId": "5cc23a34-8078-423d-bfc7-1a2b896fb4f3"
   },
   "outputs": [
    {
     "name": "stdout",
     "output_type": "stream",
     "text": [
      "Values Inserted Successfully!!!\n",
      "Connection to database closed!!\n"
     ]
    }
   ],
   "source": [
    "student1.insertIntoTable(\"studentDetails\")"
   ]
  },
  {
   "cell_type": "code",
   "execution_count": null,
   "metadata": {
    "colab": {},
    "colab_type": "code",
    "id": "d7hkP5CpTsdy",
    "outputId": "e449ed33-052d-4167-f322-d6b21b03fa39"
   },
   "outputs": [
    {
     "name": "stdout",
     "output_type": "stream",
     "text": [
      "values in table :  [('Raj', 'Kumar', 34, 'Ten'), ('Raj', 'Kumar', 34, 'Ten')]\n",
      "Connection to database closed!!\n"
     ]
    }
   ],
   "source": [
    "student1.selectFromTable(\"studentDetails\")"
   ]
  },
  {
   "cell_type": "markdown",
   "metadata": {
    "colab_type": "text",
    "id": "AOkEbnsyTsd4"
   },
   "source": [
    "## 13.4 Encapsulation\n",
    "\n",
    "Encapsulation is an another powerful way to extend a class which consists on wrapping an object with a second one.\n",
    "\n",
    "Encapsulations is applications of a software or a program will not reveal the internal implementation details to the outer world.\n",
    "The only constraint on the programmer is to maintain the public interface for the component, as other programmers will\n",
    "be writing code that depends on that developed interface. \n",
    "Encapsulation allows the implementation details of a program to\n",
    "be change without affecting other parts of the program, thereby making it easier to fix bugs or add new functionality with some local changes to an application.\n",
    "\n",
    "\n",
    "There are two main reasons to use encapsulation:\n",
    "\n",
    "* Composition\n",
    "* Dynamic Extension"
   ]
  },
  {
   "cell_type": "markdown",
   "metadata": {
    "colab_type": "text",
    "id": "01y2tFmoTsd5"
   },
   "source": [
    "### Composition\n",
    "\n",
    "The abstraction process relies on creating a simplified model that remove useless details from a concept. In order to be simplified, a model should be described in terms of other simpler concepts.\n",
    "For example, we can say that a car is composed by:\n",
    "* Tyres\n",
    "* Engine\n",
    "* Body\n",
    "\n",
    "And break down each one of these elements in simpler parts until we reach primitive data."
   ]
  },
  {
   "cell_type": "code",
   "execution_count": null,
   "metadata": {
    "colab": {},
    "colab_type": "code",
    "id": "3E2b9BxoTsd7",
    "outputId": "6d55dbed-1cc2-4150-b6da-64d447c9a3b3"
   },
   "outputs": [
    {
     "name": "stdout",
     "output_type": "stream",
     "text": [
      "Tyres: \n",
      " \tBranch: Pirelli\n",
      " \tBelted-bias: True\n",
      " \tOptimal pressure: 2.0\n",
      "Engine: \n",
      " \tFuel type: Diesel\n",
      " \tNoise level:3\n",
      "Body:\n",
      " \tSize: Medium\n"
     ]
    }
   ],
   "source": [
    "class Tyres:\n",
    "    def __init__(self, branch, belted_bias, opt_pressure):\n",
    "        self.branch = branch\n",
    "        self.belted_bias = belted_bias\n",
    "        self.opt_pressure = opt_pressure\n",
    "        \n",
    "    def __str__(self):\n",
    "        return (\"Tyres: \\n \\tBranch: \" + self.branch +\n",
    "               \"\\n \\tBelted-bias: \" + str(self.belted_bias) + \n",
    "               \"\\n \\tOptimal pressure: \" + str(self.opt_pressure))\n",
    "        \n",
    "class Engine:\n",
    "    def __init__(self, fuel_type, noise_level):\n",
    "        self.fuel_type = fuel_type\n",
    "        self.noise_level = noise_level\n",
    "        \n",
    "    def __str__(self):\n",
    "        return (\"Engine: \\n \\tFuel type: \" + self.fuel_type +\n",
    "                \"\\n \\tNoise level:\" + str(self.noise_level))\n",
    "        \n",
    "class Body:\n",
    "    def __init__(self, size):\n",
    "        self.size = size\n",
    "        \n",
    "    def __str__(self):\n",
    "        return \"Body:\\n \\tSize: \" + self.size\n",
    "        \n",
    "class Car:\n",
    "    def __init__(self, tyres, engine, body):\n",
    "        self.tyres = tyres\n",
    "        self.engine = engine\n",
    "        self.body = body\n",
    "        \n",
    "    def __str__(self):\n",
    "        return str(self.tyres) + \"\\n\" + str(self.engine) + \"\\n\" + str(self.body)\n",
    "\n",
    "        \n",
    "t = Tyres('Pirelli', True, 2.0)\n",
    "e = Engine('Diesel', 3)\n",
    "b = Body('Medium')\n",
    "c = Car(t, e, b)\n",
    "print(c)"
   ]
  },
  {
   "cell_type": "markdown",
   "metadata": {
    "colab_type": "text",
    "id": "NozgJ0QQTseA"
   },
   "source": [
    "### Dynamic Extension\n",
    "\n",
    "Sometimes it's necessary to model a concept that may be a subclass of another one, but it isn't possible to know which class should be its superclass until runtime."
   ]
  },
  {
   "cell_type": "markdown",
   "metadata": {
    "colab_type": "text",
    "id": "XO_lGHeOTseB"
   },
   "source": [
    "### Example"
   ]
  },
  {
   "cell_type": "markdown",
   "metadata": {
    "colab_type": "text",
    "id": "wxJ1ct7wTseF"
   },
   "source": [
    "Suppose we want to model a simple dog school that trains instructors too. It will be nice to re-use Person and Student but students can be dogs or peoples. So we can remodel it this way:"
   ]
  },
  {
   "cell_type": "code",
   "execution_count": null,
   "metadata": {
    "colab": {},
    "colab_type": "code",
    "id": "4PM2FUa6TseJ",
    "outputId": "8a68d96e-93dd-4b98-947d-71da1d0cd6fa"
   },
   "outputs": [
    {
     "name": "stdout",
     "output_type": "stream",
     "text": [
      "Kudrjavka is a Laika born in 1954.\n"
     ]
    }
   ],
   "source": [
    "class Dog:\n",
    "    def __init__(self, name, year_of_birth, breed):\n",
    "        self._name = name\n",
    "        self._year_of_birth = year_of_birth\n",
    "        self._breed = breed\n",
    "\n",
    "    def __str__(self):\n",
    "        return \"%s is a %s born in %d.\" % (self._name, self._breed, self._year_of_birth)\n",
    "\n",
    "kudrjavka = Dog(\"Kudrjavka\", 1954, \"Laika\")\n",
    "print(kudrjavka)"
   ]
  },
  {
   "cell_type": "code",
   "execution_count": null,
   "metadata": {
    "colab": {},
    "colab_type": "code",
    "id": "hI1D-vWITseS"
   },
   "outputs": [],
   "source": []
  },
  {
   "cell_type": "code",
   "execution_count": null,
   "metadata": {
    "colab": {},
    "colab_type": "code",
    "id": "ZS6-9_eLTseV",
    "outputId": "8d228674-009a-4828-9125-2c02692c042e"
   },
   "outputs": [
    {
     "name": "stdout",
     "output_type": "stream",
     "text": [
      "dsfs Student ID: 1\n",
      "Kudrjavka is a Laika born in 1954. Student ID: 2\n"
     ]
    }
   ],
   "source": [
    "class Student:\n",
    "    def __init__(self, anagraphic, student_id):\n",
    "        self._anagraphic = anagraphic\n",
    "        self._student_id = student_id\n",
    "    def __str__(self):\n",
    "        return str(self._anagraphic) + \" Student ID: %d\" % self._student_id\n",
    "\n",
    "\n",
    "alec_student = Student(\"dsfs\",1)\n",
    "kudrjavka_student = Student(kudrjavka, 2)\n",
    "\n",
    "print(alec_student)\n",
    "print(kudrjavka_student)\n"
   ]
  },
  {
   "cell_type": "code",
   "execution_count": null,
   "metadata": {
    "colab": {},
    "colab_type": "code",
    "id": "twrmwi76TseZ"
   },
   "outputs": [],
   "source": [
    "# Lets look at another example of encapsulation\n",
    "class BonusDistribution:\n",
    "    \n",
    "    def __init__ (self,employeeId, employeeRating):\n",
    "    \n",
    "        self.empId = employeeId\n",
    "        self.empRating = employeeRating\n",
    "        self.__bonusforRatingA = \"70%\"  #making value private\n",
    "        self.__bonusforRatingB = \"60%\"  #making value private\n",
    "        self.__bonusforRatingC = \"50%\"  #making value private\n",
    "        self.__bonusforRatingD = \"30%\"  #making value private\n",
    "        self.__bonusforRatingForRest = \"No Bonus\" #making value private\n",
    "        \n",
    "        \n",
    "    def bonusCalculator(self):\n",
    "        \n",
    "        if self.empRating == 'A':\n",
    "            bonus = self.__bonusforRatingA\n",
    "            msg = \"Bonus for this employee is :\"+ bonus\n",
    "            return msg\n",
    "        elif self.empRating == 'B':\n",
    "            bonus = self.__bonusforRatingB\n",
    "            msg = \"Bonus for this employee is :\"+ bonus\n",
    "            return msg\n",
    "        elif self.empRating == 'C':\n",
    "            bonus = self.__bonusforRatingC\n",
    "            msg = \"Bonus for this employee is :\"+ bonus\n",
    "            return msg\n",
    "        elif self.empRating == 'D':\n",
    "            bonus = self.__bonusforRatingD\n",
    "            msg = \"Bonus for this employee is :\"+ bonus\n",
    "            return msg\n",
    "        else:\n",
    "            bonus = self.__bonusforRatingForRest\n",
    "            msg = \"Bonus for this employee is :\"+ bonus\n",
    "            return msg"
   ]
  },
  {
   "cell_type": "code",
   "execution_count": null,
   "metadata": {
    "colab": {},
    "colab_type": "code",
    "id": "RvAzDdD2Tsed"
   },
   "outputs": [],
   "source": [
    "emp1 = BonusDistribution(1232,'B')\n",
    "emp2 = BonusDistribution(1342,'A')\n",
    "emp3 = BonusDistribution(1031,'E')"
   ]
  },
  {
   "cell_type": "code",
   "execution_count": null,
   "metadata": {
    "colab": {},
    "colab_type": "code",
    "id": "J5zrFW-QTseg",
    "outputId": "2fb33f42-b067-42ed-f7ba-d2976d2c6708"
   },
   "outputs": [
    {
     "data": {
      "text/plain": [
       "'Bonus for this employee is :70%'"
      ]
     },
     "execution_count": 78,
     "metadata": {
      "tags": []
     },
     "output_type": "execute_result"
    }
   ],
   "source": [
    "emp2.bonusCalculator()"
   ]
  },
  {
   "cell_type": "code",
   "execution_count": null,
   "metadata": {
    "colab": {},
    "colab_type": "code",
    "id": "JN5DpCVSTsel",
    "outputId": "32be1e46-db3a-4862-a18d-862ba9692cca"
   },
   "outputs": [
    {
     "data": {
      "text/plain": [
       "'Bonus for this employee is :60%'"
      ]
     },
     "execution_count": 79,
     "metadata": {
      "tags": []
     },
     "output_type": "execute_result"
    }
   ],
   "source": [
    "emp1.bonusCalculator()"
   ]
  },
  {
   "cell_type": "code",
   "execution_count": null,
   "metadata": {
    "colab": {},
    "colab_type": "code",
    "id": "TYMyvuQHTseq",
    "outputId": "c0406021-b6cb-4b2a-ae56-156ba0b4d990"
   },
   "outputs": [
    {
     "data": {
      "text/plain": [
       "'Bonus for this employee is :No Bonus'"
      ]
     },
     "execution_count": 80,
     "metadata": {
      "tags": []
     },
     "output_type": "execute_result"
    }
   ],
   "source": [
    "emp3.bonusCalculator()"
   ]
  },
  {
   "cell_type": "markdown",
   "metadata": {
    "colab_type": "text",
    "id": "sveUQtYBTsex"
   },
   "source": [
    "Let's try to change the private value of the class:"
   ]
  },
  {
   "cell_type": "code",
   "execution_count": null,
   "metadata": {
    "colab": {},
    "colab_type": "code",
    "id": "fH6m6A4KTsey"
   },
   "outputs": [],
   "source": [
    "emp1._bonusforRatingB = \"90%\""
   ]
  },
  {
   "cell_type": "code",
   "execution_count": null,
   "metadata": {
    "colab": {},
    "colab_type": "code",
    "id": "Gu2Wq5CwTse4",
    "outputId": "80df5b64-f76d-45eb-e07b-6cc02ee6981e"
   },
   "outputs": [
    {
     "data": {
      "text/plain": [
       "'Bonus for this employee is :60%'"
      ]
     },
     "execution_count": 82,
     "metadata": {
      "tags": []
     },
     "output_type": "execute_result"
    }
   ],
   "source": [
    "emp1.bonusCalculator()"
   ]
  },
  {
   "cell_type": "markdown",
   "metadata": {
    "colab_type": "text",
    "id": "H_1WASg8Tse8"
   },
   "source": [
    "The private attribute is not changed.\n",
    "\n",
    "To change the private attribute we need to define a function inside the class. Let's see how."
   ]
  },
  {
   "cell_type": "code",
   "execution_count": null,
   "metadata": {
    "colab": {},
    "colab_type": "code",
    "id": "GSNz_3DfTse9"
   },
   "outputs": [],
   "source": [
    "class BonusDistribution:\n",
    "    \n",
    "    def __init__ (self,employeeId, employeeRating):\n",
    "    \n",
    "        self.empId = employeeId\n",
    "        self.empRating = employeeRating\n",
    "        self.__bonusforRatingA = \"70%\"  #making value private\n",
    "        self.__bonusforRatingB = \"60%\"  #making value private\n",
    "        self.__bonusforRatingC = \"50%\"  #making value private\n",
    "        self.__bonusforRatingD = \"30%\"  #making value private\n",
    "        self.__bonusforRatingForRest = \"No Bonus\" #making value private\n",
    "        \n",
    "        \n",
    "    def bonusCalculator(self):\n",
    "        \n",
    "        if self.empRating == 'A':\n",
    "            bonus = self.__bonusforRatingA\n",
    "            msg = \"Bonus for this employee is :\"+ bonus\n",
    "            return msg\n",
    "        elif self.empRating == 'B':\n",
    "            bonus = self.__bonusforRatingB\n",
    "            msg = \"Bonus for this employee is :\"+ bonus\n",
    "            return msg\n",
    "        elif self.empRating == 'C':\n",
    "            bonus = self.__bonusforRatingC\n",
    "            msg = \"Bonus for this employee is :\"+ bonus\n",
    "            return msg\n",
    "        elif self.empRating == 'D':\n",
    "            bonus = self.__bonusforRatingD\n",
    "            msg = \"Bonus for this employee is :\"+ bonus\n",
    "            return msg\n",
    "        else:\n",
    "            bonus = self.__bonusforRatingForRest\n",
    "            msg = \"Bonus for this employee is :\"+ bonus\n",
    "            return msg       \n",
    "        \n",
    "    def changeBonusForRatingForRest(self,value):\n",
    "        \n",
    "        self.__bonusforRatingForRest = value"
   ]
  },
  {
   "cell_type": "code",
   "execution_count": null,
   "metadata": {
    "colab": {},
    "colab_type": "code",
    "id": "ab-MhG-CTsfB"
   },
   "outputs": [],
   "source": [
    "emp3 = BonusDistribution(1031,'E')"
   ]
  },
  {
   "cell_type": "code",
   "execution_count": null,
   "metadata": {
    "colab": {},
    "colab_type": "code",
    "id": "jRHpxc4kTsfE",
    "outputId": "ef9878f8-1fe7-4fd5-9661-5f6ea86f78fb"
   },
   "outputs": [
    {
     "data": {
      "text/plain": [
       "'Bonus for this employee is :No Bonus'"
      ]
     },
     "execution_count": 85,
     "metadata": {
      "tags": []
     },
     "output_type": "execute_result"
    }
   ],
   "source": [
    "emp3.bonusCalculator()"
   ]
  },
  {
   "cell_type": "code",
   "execution_count": null,
   "metadata": {
    "colab": {},
    "colab_type": "code",
    "id": "Dih9oHv3TsfH"
   },
   "outputs": [],
   "source": [
    "emp3.changeBonusForRatingForRest(\"20%\")"
   ]
  },
  {
   "cell_type": "code",
   "execution_count": null,
   "metadata": {
    "colab": {},
    "colab_type": "code",
    "id": "4QDEY5bSTsfN",
    "outputId": "b413870b-c360-4671-dbe4-f210eef85343"
   },
   "outputs": [
    {
     "data": {
      "text/plain": [
       "'Bonus for this employee is :20%'"
      ]
     },
     "execution_count": 87,
     "metadata": {
      "tags": []
     },
     "output_type": "execute_result"
    }
   ],
   "source": [
    "emp3.bonusCalculator()"
   ]
  },
  {
   "cell_type": "markdown",
   "metadata": {
    "colab_type": "text",
    "id": "Jz63161-TsfT"
   },
   "source": [
    "We can see that the private attribute has now been changed and anyone can change that attribute now. This is bad way of writing a method which can change an private attribute. Let's make the function also private so it doesnot showup for everyone."
   ]
  },
  {
   "cell_type": "code",
   "execution_count": null,
   "metadata": {
    "colab": {},
    "colab_type": "code",
    "id": "UH18_buQTsfT"
   },
   "outputs": [],
   "source": [
    "class BonusDistribution:\n",
    "    \n",
    "    def __init__ (self,employeeId, employeeRating):\n",
    "    \n",
    "        self.empId = employeeId\n",
    "        self.empRating = employeeRating\n",
    "        self.__bonusforRatingA = \"70%\"  #making value private\n",
    "        self.__bonusforRatingB = \"60%\"  #making value private\n",
    "        self.__bonusforRatingC = \"50%\"  #making value private\n",
    "        self.__bonusforRatingD = \"30%\"  #making value private\n",
    "        self.__bonusforRatingForRest = \"No Bonus\" #making value private\n",
    "        \n",
    "        \n",
    "    def bonusCalculator(self):\n",
    "        \n",
    "        if self.empRating == 'A':\n",
    "            bonus = self.__bonusforRatingA\n",
    "            msg = \"Bonus for this employee is :\"+ bonus\n",
    "            return msg\n",
    "        elif self.empRating == 'B':\n",
    "            bonus = self.__bonusforRatingB\n",
    "            msg = \"Bonus for this employee is :\"+ bonus\n",
    "            return msg\n",
    "        elif self.empRating == 'C':\n",
    "            bonus = self.__bonusforRatingC\n",
    "            msg = \"Bonus for this employee is :\"+ bonus\n",
    "            return msg\n",
    "        elif self.empRating == 'D':\n",
    "            bonus = self.__bonusforRatingD\n",
    "            msg = \"Bonus for this employee is :\"+ bonus\n",
    "            return msg\n",
    "        else:\n",
    "            bonus = self.__bonusforRatingForRest\n",
    "            msg = \"Bonus for this employee is :\"+ bonus\n",
    "            return msg       \n",
    "        \n",
    "    def __changeBonusForRatingForRest(self,value):\n",
    "        \n",
    "        self.__bonusforRatingForRest = value"
   ]
  },
  {
   "cell_type": "code",
   "execution_count": null,
   "metadata": {
    "colab": {},
    "colab_type": "code",
    "id": "72TQvT6mTsfW"
   },
   "outputs": [],
   "source": [
    "emp3 = BonusDistribution(1031,'E')"
   ]
  },
  {
   "cell_type": "code",
   "execution_count": null,
   "metadata": {
    "colab": {},
    "colab_type": "code",
    "id": "V_0CYyyKTsfa",
    "outputId": "0eaf6f9b-7e7d-48e7-b767-0c0468e492dd"
   },
   "outputs": [
    {
     "data": {
      "text/plain": [
       "'Bonus for this employee is :No Bonus'"
      ]
     },
     "execution_count": 90,
     "metadata": {
      "tags": []
     },
     "output_type": "execute_result"
    }
   ],
   "source": [
    "emp3.bonusCalculator()"
   ]
  },
  {
   "cell_type": "code",
   "execution_count": null,
   "metadata": {
    "colab": {},
    "colab_type": "code",
    "id": "WElNInTzTsfj",
    "outputId": "b6eb6093-c78d-4a04-c8e8-fe1ac6f2a4f3"
   },
   "outputs": [
    {
     "data": {
      "text/plain": [
       "<__main__.BonusDistribution at 0x21ae627ea88>"
      ]
     },
     "execution_count": 92,
     "metadata": {
      "tags": []
     },
     "output_type": "execute_result"
    }
   ],
   "source": [
    "emp3"
   ]
  },
  {
   "cell_type": "code",
   "execution_count": null,
   "metadata": {
    "colab": {},
    "colab_type": "code",
    "id": "5fSpg2n7Tsfm",
    "outputId": "2d78c851-fdc4-47b4-9ee1-2c26a65af61d"
   },
   "outputs": [
    {
     "ename": "AttributeError",
     "evalue": "'BonusDistribution' object has no attribute '__changeBonusForRatingForRest'",
     "output_type": "error",
     "traceback": [
      "\u001b[1;31m---------------------------------------------------------------------------\u001b[0m",
      "\u001b[1;31mAttributeError\u001b[0m                            Traceback (most recent call last)",
      "\u001b[1;32m<ipython-input-93-2f6e3ecd0f1a>\u001b[0m in \u001b[0;36m<module>\u001b[1;34m\u001b[0m\n\u001b[1;32m----> 1\u001b[1;33m \u001b[0memp3\u001b[0m\u001b[1;33m.\u001b[0m\u001b[0m__changeBonusForRatingForRest\u001b[0m\u001b[1;33m(\u001b[0m\u001b[1;34m\"20%\"\u001b[0m\u001b[1;33m)\u001b[0m\u001b[1;33m\u001b[0m\u001b[1;33m\u001b[0m\u001b[0m\n\u001b[0m",
      "\u001b[1;31mAttributeError\u001b[0m: 'BonusDistribution' object has no attribute '__changeBonusForRatingForRest'"
     ]
    }
   ],
   "source": [
    "emp3.__changeBonusForRatingForRest(\"20%\")"
   ]
  },
  {
   "cell_type": "markdown",
   "metadata": {
    "colab_type": "text",
    "id": "UmvZBuCQTsfp"
   },
   "source": [
    "You can see that that method cannot be accessed now. Also, the method doesnot show up in the class property:\n",
    "\n",
    "<img src=\"private_method.png\">\n",
    "\n",
    "\n",
    "If you know the name of the method, then you can still call the private member by using the class name as shown below:"
   ]
  },
  {
   "cell_type": "code",
   "execution_count": null,
   "metadata": {
    "colab": {},
    "colab_type": "code",
    "id": "-rRphTK_Tsfp"
   },
   "outputs": [],
   "source": [
    "emp3._BonusDistribution__changeBonusForRatingForRest(\"20%\")"
   ]
  },
  {
   "cell_type": "code",
   "execution_count": null,
   "metadata": {
    "colab": {},
    "colab_type": "code",
    "id": "RCEv5XPWTsfv",
    "outputId": "10760a59-cfe4-46a8-88fa-2de9b0be3df5"
   },
   "outputs": [
    {
     "data": {
      "text/plain": [
       "'Bonus for this employee is :20%'"
      ]
     },
     "execution_count": 95,
     "metadata": {
      "tags": []
     },
     "output_type": "execute_result"
    }
   ],
   "source": [
    "emp3.bonusCalculator()"
   ]
  },
  {
   "cell_type": "markdown",
   "metadata": {
    "colab_type": "text",
    "id": "az6yxOWqTsf2"
   },
   "source": [
    "### Operator Overloading"
   ]
  },
  {
   "cell_type": "code",
   "execution_count": null,
   "metadata": {
    "colab": {},
    "colab_type": "code",
    "id": "i6_ko9wMTsf3"
   },
   "outputs": [],
   "source": [
    "class multiplyNum():\n",
    "    \n",
    "    def __init__(self,a):\n",
    "        self.a =a"
   ]
  },
  {
   "cell_type": "code",
   "execution_count": null,
   "metadata": {
    "colab": {},
    "colab_type": "code",
    "id": "4QkPPhnnTsf7"
   },
   "outputs": [],
   "source": [
    "a1 = multiplyNum(2)\n",
    "a2 = multiplyNum(3)"
   ]
  },
  {
   "cell_type": "code",
   "execution_count": null,
   "metadata": {
    "colab": {},
    "colab_type": "code",
    "id": "2XqwH7YRTsgD",
    "outputId": "7140fbc3-da6c-4905-d32f-622eb6fbc21f"
   },
   "outputs": [
    {
     "ename": "TypeError",
     "evalue": "unsupported operand type(s) for *: 'multiplyNum' and 'multiplyNum'",
     "output_type": "error",
     "traceback": [
      "\u001b[1;31m---------------------------------------------------------------------------\u001b[0m",
      "\u001b[1;31mTypeError\u001b[0m                                 Traceback (most recent call last)",
      "\u001b[1;32m<ipython-input-98-d5b3d5e43271>\u001b[0m in \u001b[0;36m<module>\u001b[1;34m\u001b[0m\n\u001b[0;32m      1\u001b[0m \u001b[1;31m#let's try and multiply both the objects\u001b[0m\u001b[1;33m\u001b[0m\u001b[1;33m\u001b[0m\u001b[1;33m\u001b[0m\u001b[0m\n\u001b[1;32m----> 2\u001b[1;33m \u001b[0mprint\u001b[0m\u001b[1;33m(\u001b[0m\u001b[0ma1\u001b[0m\u001b[1;33m*\u001b[0m\u001b[0ma2\u001b[0m\u001b[1;33m)\u001b[0m\u001b[1;33m\u001b[0m\u001b[1;33m\u001b[0m\u001b[0m\n\u001b[0m",
      "\u001b[1;31mTypeError\u001b[0m: unsupported operand type(s) for *: 'multiplyNum' and 'multiplyNum'"
     ]
    }
   ],
   "source": [
    "#let's try and multiply both the objects\n",
    "print(a1*a2)"
   ]
  },
  {
   "cell_type": "markdown",
   "metadata": {
    "colab_type": "text",
    "id": "rFfMb8nUTsgG"
   },
   "source": [
    "We are getting an error because by default multiply supports only numerical values.\n",
    "\n",
    "We can change the function of multiply and this is what we call overloading. \n",
    "\n",
    "Python calls \"__mul__\" function to multiply numbers, let's overload it."
   ]
  },
  {
   "cell_type": "code",
   "execution_count": null,
   "metadata": {
    "colab": {},
    "colab_type": "code",
    "id": "eu2QVeVFTsgG"
   },
   "outputs": [],
   "source": [
    "class multiplyNum():\n",
    "    \n",
    "    def __init__(self,a):\n",
    "        self.a =a\n",
    "    \n",
    "    def __mul__(self,other):\n",
    "        \n",
    "         return self.a*other.a"
   ]
  },
  {
   "cell_type": "code",
   "execution_count": null,
   "metadata": {
    "colab": {},
    "colab_type": "code",
    "id": "0b-Zv73RTsgJ"
   },
   "outputs": [],
   "source": [
    "a1 = multiplyNum(2)\n",
    "a2 = multiplyNum(3)"
   ]
  },
  {
   "cell_type": "code",
   "execution_count": null,
   "metadata": {
    "colab": {},
    "colab_type": "code",
    "id": "fNjiM7hoTsgO",
    "outputId": "5e055b64-396d-41b1-e5d2-e1cbe6c1c6c1"
   },
   "outputs": [
    {
     "data": {
      "text/plain": [
       "6"
      ]
     },
     "execution_count": 101,
     "metadata": {
      "tags": []
     },
     "output_type": "execute_result"
    }
   ],
   "source": [
    "a1*a2"
   ]
  },
  {
   "cell_type": "markdown",
   "metadata": {
    "colab_type": "text",
    "id": "3siywYJPTsgR"
   },
   "source": [
    "Great!! now we can multiply objects. We can also overide our __mul__ function and get it do return sum instead of multiplication."
   ]
  },
  {
   "cell_type": "code",
   "execution_count": null,
   "metadata": {
    "colab": {},
    "colab_type": "code",
    "id": "KLe6ETgjTsgT"
   },
   "outputs": [],
   "source": [
    "class multiplyNum():\n",
    "    \n",
    "    def __init__(self,a):\n",
    "        self.a =a\n",
    "    \n",
    "    def __mul__(self,other):\n",
    "        \n",
    "         return self.a+other.a  #overloading multiply method and returning sum instead of multiplication"
   ]
  },
  {
   "cell_type": "code",
   "execution_count": null,
   "metadata": {
    "colab": {},
    "colab_type": "code",
    "id": "doFNfLkxTsgZ"
   },
   "outputs": [],
   "source": [
    "a1 = multiplyNum(2)\n",
    "a2 = multiplyNum(3)"
   ]
  },
  {
   "cell_type": "code",
   "execution_count": null,
   "metadata": {
    "colab": {},
    "colab_type": "code",
    "id": "V-BDo8rCTsgd",
    "outputId": "e9fd548e-63c8-4107-e7fe-22ddd0a58f49"
   },
   "outputs": [
    {
     "data": {
      "text/plain": [
       "5"
      ]
     },
     "execution_count": 104,
     "metadata": {
      "tags": []
     },
     "output_type": "execute_result"
    }
   ],
   "source": [
    "a1*a2"
   ]
  },
  {
   "cell_type": "markdown",
   "metadata": {
    "colab_type": "text",
    "id": "nWz-d9NBTsgh"
   },
   "source": [
    "### Overload string method "
   ]
  },
  {
   "cell_type": "code",
   "execution_count": null,
   "metadata": {
    "colab": {},
    "colab_type": "code",
    "id": "ive4uIypTsgh"
   },
   "outputs": [],
   "source": [
    "class printInformation():\n",
    "    \n",
    "    def __init__(self,operator):\n",
    "        self.operator =operator\n",
    "    \n",
    "    def __str__(self):\n",
    "        return \"overloading the opearator :\" + self.operator "
   ]
  },
  {
   "cell_type": "code",
   "execution_count": null,
   "metadata": {
    "colab": {},
    "colab_type": "code",
    "id": "9WPeSmQpTsgm"
   },
   "outputs": [],
   "source": [
    "print_ = printInformation('string')"
   ]
  },
  {
   "cell_type": "code",
   "execution_count": null,
   "metadata": {
    "colab": {},
    "colab_type": "code",
    "id": "3ojIH4GOTsgp",
    "outputId": "0c213331-fed1-4c1f-e332-c1e152622aa6"
   },
   "outputs": [
    {
     "name": "stdout",
     "output_type": "stream",
     "text": [
      "overloading the opearator :string\n"
     ]
    }
   ],
   "source": [
    "print(print_)"
   ]
  },
  {
   "cell_type": "markdown",
   "metadata": {
    "colab_type": "text",
    "id": "TumLC9HvTsgr"
   },
   "source": [
    "## 13.5 Polymorphism and DuckTyping\n",
    "\n",
    "`Python` uses dynamic typing which is also called as duck typing. If an object implements a method you can use it, irrespective of the type. This is different from statically typed languages, where the type of a construct need to be explicitly declared. Polymorphism is the ability to use the same syntax for objects of different types:"
   ]
  },
  {
   "cell_type": "code",
   "execution_count": null,
   "metadata": {
    "colab": {},
    "colab_type": "code",
    "id": "JDu-t374Tsgs",
    "outputId": "5ea408bb-6336-47c2-f86f-6f6dd6166015"
   },
   "outputs": [
    {
     "name": "stdout",
     "output_type": "stream",
     "text": [
      "2\n",
      "['a', 'b', 'c', 'd', 'e']\n",
      "abracadabra\n"
     ]
    }
   ],
   "source": [
    "def summer(a, b):\n",
    "    return a + b\n",
    "\n",
    "print(summer(1, 1))\n",
    "print(summer([\"a\", \"b\", \"c\"], [\"d\", \"e\"]))\n",
    "print(summer(\"abra\", \"cadabra\"))\n"
   ]
  },
  {
   "cell_type": "code",
   "execution_count": null,
   "metadata": {
    "colab": {},
    "colab_type": "code",
    "id": "8TI_mRwkTsgv"
   },
   "outputs": [],
   "source": [
    "# Polymorphism example\n",
    "class Instagram:\n",
    "    \n",
    "    def share_stories(self):\n",
    "        print(\"share your stories on Instagram!!!\")\n",
    "    \n",
    "class Facebook:\n",
    "    \n",
    "    def share_stories(self):\n",
    "        print(\"share your stories on Facebook!!!\")\n",
    "\n",
    "def ShareStory(application):\n",
    "    application.share_stories()   "
   ]
  },
  {
   "cell_type": "code",
   "execution_count": null,
   "metadata": {
    "colab": {},
    "colab_type": "code",
    "id": "v56ejiaNTsgx"
   },
   "outputs": [],
   "source": [
    "insta = Instagram()\n",
    "fb = Facebook()"
   ]
  },
  {
   "cell_type": "code",
   "execution_count": null,
   "metadata": {
    "colab": {},
    "colab_type": "code",
    "id": "wIT_W_3pTsg0",
    "outputId": "d52a27f2-2cd5-40b1-e9b6-17249ae14aba"
   },
   "outputs": [
    {
     "name": "stdout",
     "output_type": "stream",
     "text": [
      "share your stories on Instagram!!!\n"
     ]
    }
   ],
   "source": [
    "ShareStory(insta)"
   ]
  },
  {
   "cell_type": "code",
   "execution_count": null,
   "metadata": {
    "colab": {},
    "colab_type": "code",
    "id": "1_dkXxjRTsg3",
    "outputId": "9f847b94-50d5-4dbc-eac4-2a805874af3a"
   },
   "outputs": [
    {
     "name": "stdout",
     "output_type": "stream",
     "text": [
      "share your stories on Facebook!!!\n"
     ]
    }
   ],
   "source": [
    "ShareStory(fb)"
   ]
  },
  {
   "cell_type": "markdown",
   "metadata": {
    "colab_type": "text",
    "id": "n_XgjbCmTsg7"
   },
   "source": [
    "## 13.6 How long does a class should be?\n",
    "\n",
    "There is an Object Oriented Programming (OOP) principle called Single Responsibility Principle (SRP) and it states: \"A class should have one single responsibility\" or \"A class should have only one reason to change\". \n",
    "\n",
    "If you come across a class which doesn't follow the SRP principle, you should spilt it. You will be grateful to SRP during your software maintenance. \n",
    "\n",
    "There is an excellent example from wikipedia which is nicely understood the concept of SRP:-\n",
    "    \n",
    "\"Martin defines a responsibility as a reason to change, and concludes that a class or module should have one, and only one, reason to be changed (e.g. rewritten). As an example, consider a module that compiles and prints a report. Imagine such a module can be changed for two reasons. First, the content of the report could change. Second, the format of the report could change. These two things change for very different causes; one substantive, and one cosmetic. The single-responsibility principle says that these two aspects of the problem are really two separate responsibilities, and should, therefore, be in separate classes or modules. It would be a bad design to couple two things that change for different reasons at different times.\n",
    "\n",
    "The reason it is important to keep a class focused on a single concern is that it makes the class more robust. Continuing with the foregoing example, if there is a change to the report compilation process, there is a greater danger that the printing code will break if it is part of the same class.\" Source- Wikipedia\n",
    "\n",
    ">**Refer:-**  https://en.wikipedia.org/wiki/Single-responsibility_principle#:~:text=The%20single%2Dresponsibility%20principle%20(SRP,the%20class%2C%20module%20or%20function."
   ]
  },
  {
   "cell_type": "markdown",
   "metadata": {
    "colab_type": "text",
    "id": "z4j_Ux3WTsg8"
   },
   "source": [
    "## 13.7 shallow and deep copy\n",
    "\n",
    "Till now we have use = operator to create a copy of an object,like a=b. First we have thought that it creates a new object,but rather it creates a new variable that take the reference of the same original object."
   ]
  },
  {
   "cell_type": "code",
   "execution_count": null,
   "metadata": {
    "colab": {},
    "colab_type": "code",
    "id": "oLjIf7TjTshB",
    "outputId": "a2f72b65-cf50-4270-df06-8556d1068744"
   },
   "outputs": [
    {
     "name": "stdout",
     "output_type": "stream",
     "text": [
      "Id of a:-  140737431511728\n",
      "Id of b:-  140737431511728\n"
     ]
    }
   ],
   "source": [
    "#Lets look for the same = assignment operator reference id\n",
    "\n",
    "a=10\n",
    "b = a\n",
    "\n",
    "print(\"Id of a:- \" , id(a))\n",
    "print(\"Id of b:- \", id(b))"
   ]
  },
  {
   "cell_type": "code",
   "execution_count": null,
   "metadata": {
    "colab": {},
    "colab_type": "code",
    "id": "jnuwL86dTshD"
   },
   "outputs": [],
   "source": [
    "# Here the id is same for both a & b, hence if we want to change the value it will reflect in both"
   ]
  },
  {
   "cell_type": "code",
   "execution_count": null,
   "metadata": {
    "colab": {},
    "colab_type": "code",
    "id": "iOBrTfTyTshL"
   },
   "outputs": [],
   "source": [
    "a = 20"
   ]
  },
  {
   "cell_type": "code",
   "execution_count": null,
   "metadata": {
    "colab": {},
    "colab_type": "code",
    "id": "VO1foPnXTshO",
    "outputId": "94b57074-d905-4638-d0f4-b898ab2c8b73"
   },
   "outputs": [
    {
     "name": "stdout",
     "output_type": "stream",
     "text": [
      "20 20\n"
     ]
    }
   ],
   "source": [
    "print(a,b)"
   ]
  },
  {
   "cell_type": "markdown",
   "metadata": {
    "colab_type": "text",
    "id": "Zfv_zNV5TshS"
   },
   "source": [
    "But many times we want to change the newly created values only, we dont want to modify the original value so for that we can achieve this with creating copies in two ways:-\n",
    "    \n",
    "    1) Deep Copy\n",
    "    \n",
    "    2) Shallow Copy"
   ]
  },
  {
   "cell_type": "markdown",
   "metadata": {
    "colab_type": "text",
    "id": "vJoxDhmoTshS"
   },
   "source": [
    "### Shallow copy\n",
    "\n",
    "A `shallow copy` creates a new object which stores the reference of the original elements.\n",
    "\n",
    "So, a `shallow copy` doesn't copy actual object, instead it just copies the reference of nested objects. Lets look with example:-"
   ]
  },
  {
   "cell_type": "code",
   "execution_count": null,
   "metadata": {
    "colab": {},
    "colab_type": "code",
    "id": "QjKzCncrTshT",
    "outputId": "9d49e1a6-6817-4a19-defb-5937df1d8838"
   },
   "outputs": [
    {
     "name": "stdout",
     "output_type": "stream",
     "text": [
      "['ineuron', 'datascience']\n",
      "['ineuron', 'datascience']\n"
     ]
    }
   ],
   "source": [
    "a = [\"ineuron\",\"datascience\"]\n",
    "# Shallow copy can be created using copy module\n",
    "import copy\n",
    "a_new = copy.copy(a)\n",
    "\n",
    "print(a)\n",
    "print(a_new)"
   ]
  },
  {
   "cell_type": "code",
   "execution_count": null,
   "metadata": {
    "colab": {},
    "colab_type": "code",
    "id": "bHLTZb1oTshZ",
    "outputId": "2d788eab-6f55-4119-a55b-21f7e10f4f5e"
   },
   "outputs": [
    {
     "name": "stdout",
     "output_type": "stream",
     "text": [
      "2314553437832\n",
      "2314553501256\n"
     ]
    }
   ],
   "source": [
    "print(id(a))\n",
    "print(id(a_new)) # Id will be different"
   ]
  },
  {
   "cell_type": "code",
   "execution_count": null,
   "metadata": {
    "colab": {},
    "colab_type": "code",
    "id": "wiYiOgvpTshd",
    "outputId": "ac8d5a90-2631-422f-c9b8-355b4728611a"
   },
   "outputs": [
    {
     "name": "stdout",
     "output_type": "stream",
     "text": [
      "['ineuron', 'datascience', 'AI']\n",
      "['ineuron', 'datascience']\n"
     ]
    }
   ],
   "source": [
    "# Lets reassign the values\n",
    "a.append(\"AI\")\n",
    "\n",
    "print(a)\n",
    "print(a_new)"
   ]
  },
  {
   "cell_type": "code",
   "execution_count": 9,
   "metadata": {
    "colab": {},
    "colab_type": "code",
    "id": "Ayusi6xOTshf",
    "outputId": "8a73d9e5-773e-4ec5-db46-96e4aa256620"
   },
   "outputs": [
    {
     "name": "stdout",
     "output_type": "stream",
     "text": [
      "[[1, 2, 3], [4, 'Update_value', 6], [5, 5, 5]]\n",
      "[[1, 2, 3], [4, 'Update_value', 6], [5, 5, 5], 'sudh']\n"
     ]
    }
   ],
   "source": [
    "# Try to update the original nested value\n",
    "import copy\n",
    "\n",
    "a = [[1, 2, 3], [4, 5, 6],[5,5,5]]\n",
    "new_a = copy.copy(a)\n",
    "new_a.append(\"sudh\")\n",
    "a[1][1] = 'Update_value'\n",
    "\n",
    "print(a)\n",
    "print(new_a)"
   ]
  },
  {
   "cell_type": "code",
   "execution_count": 10,
   "metadata": {},
   "outputs": [
    {
     "name": "stdout",
     "output_type": "stream",
     "text": [
      "[[1, 2, 3], [4, 'Update_value', 6], [5, 5, 5]]\n",
      "[[1, 2, 3], [4, 'Update_value', 6], [5, 5, 5], 'sudh']\n"
     ]
    }
   ],
   "source": [
    "print(a)\n",
    "print(new_a)"
   ]
  },
  {
   "cell_type": "markdown",
   "metadata": {
    "colab_type": "text",
    "id": "cwwm4iqkTshh"
   },
   "source": [
    "### Deep copy\n",
    "\n",
    "The `deep copy` will create independent copy of original object rather than just copying reference and all the other nested objects as well.\n",
    "\n",
    "We can create deep copy using `deepcopy()` function present in copy module. "
   ]
  },
  {
   "cell_type": "code",
   "execution_count": null,
   "metadata": {
    "colab": {},
    "colab_type": "code",
    "id": "rWmGtHhOTshi",
    "outputId": "5190292e-4899-4f27-8d7a-e8a142b674a1"
   },
   "outputs": [
    {
     "name": "stdout",
     "output_type": "stream",
     "text": [
      "[1, 2, 3]\n",
      "[1, 2, 3]\n"
     ]
    }
   ],
   "source": [
    "import copy\n",
    "\n",
    "a = [1,2,3]\n",
    "a_new = copy.deepcopy(a)\n",
    "\n",
    "print(a)\n",
    "print(a_new)"
   ]
  },
  {
   "cell_type": "code",
   "execution_count": null,
   "metadata": {
    "colab": {},
    "colab_type": "code",
    "id": "5Astt1NRTshn",
    "outputId": "b0de4156-4132-48ac-b44f-bf7464a5eddc"
   },
   "outputs": [
    {
     "name": "stdout",
     "output_type": "stream",
     "text": [
      "2314553501704\n",
      "2314553471624\n"
     ]
    }
   ],
   "source": [
    "print(id(a))\n",
    "print(id(a_new))"
   ]
  },
  {
   "cell_type": "code",
   "execution_count": null,
   "metadata": {
    "colab": {},
    "colab_type": "code",
    "id": "iEtCYrg2Tshs",
    "outputId": "613c888e-1b42-400e-c980-dec0e8d4fab7"
   },
   "outputs": [
    {
     "name": "stdout",
     "output_type": "stream",
     "text": [
      "[1, 'change', 3]\n",
      "[1, 2, 3]\n"
     ]
    }
   ],
   "source": [
    "a[1]=\"change\"\n",
    "print(a)\n",
    "print(a_new)"
   ]
  },
  {
   "cell_type": "code",
   "execution_count": null,
   "metadata": {
    "colab": {},
    "colab_type": "code",
    "id": "RKrEH21jTshv",
    "outputId": "66d931d7-90bf-4c58-98d9-cd3137854936"
   },
   "outputs": [
    {
     "name": "stdout",
     "output_type": "stream",
     "text": [
      "[[1, 2, 3], [4, 5, 6], [7, 8, 9]]\n",
      "[[1, 2, 3], [4, 5, 6], [7, 8, 9]]\n"
     ]
    }
   ],
   "source": [
    "a = [[1,2,3],[4,5,6],[7,8,9]]\n",
    "\n",
    "a_new = copy.deepcopy(a)\n",
    "\n",
    "print(a)\n",
    "print(a_new)"
   ]
  },
  {
   "cell_type": "code",
   "execution_count": null,
   "metadata": {
    "colab": {},
    "colab_type": "code",
    "id": "5L2cZ0csTshy",
    "outputId": "0ad34fae-a42d-4270-b451-400193f31cae"
   },
   "outputs": [
    {
     "name": "stdout",
     "output_type": "stream",
     "text": [
      "[['update', 2, 3], [4, 5, 6], [7, 8, 9]]\n",
      "[[1, 2, 3], [4, 5, 6], [7, 8, 9]]\n"
     ]
    }
   ],
   "source": [
    "a[0][0] = \"update\"\n",
    "\n",
    "print(a)\n",
    "print(a_new) # Not changed this value"
   ]
  },
  {
   "cell_type": "code",
   "execution_count": null,
   "metadata": {
    "colab": {},
    "colab_type": "code",
    "id": "DcrZliIVTsh0",
    "outputId": "f7534745-4291-4b08-9472-a9a475ce7cc2"
   },
   "outputs": [
    {
     "name": "stdout",
     "output_type": "stream",
     "text": [
      "iNeuron Company was established in 2018\n",
      "multi_task\n",
      "Name: iNeuron\n",
      "The company iNeuron offers total 12 different types of courses. Most trending course is Data-Science\n"
     ]
    }
   ],
   "source": [
    "# Few more oops example\n",
    "\n",
    "# Single inheritence\n",
    "class Ineuron:\n",
    "    company_website = 'https://ineuron.ai/'\n",
    "    name = 'iNeuron'\n",
    " \n",
    "    def contact_details(self):\n",
    "        print('Contact us at ', self.company_website)\n",
    " \n",
    " \n",
    "class Datascience(Ineuron):\n",
    "    def __init__(self):\n",
    "        self.year_of_establishment= 2018\n",
    " \n",
    "    def est_details(self):\n",
    "        print('{0} Company was established in {1}'\n",
    "              .format(self.name,self.year_of_establishment))\n",
    " \n",
    " \n",
    "ds = Datascience()\n",
    "ds.est_details()\n",
    " \n",
    " \n",
    "# Multiple inheritence\n",
    "class OS:\n",
    "    multi_task = True\n",
    "    os_name = 'Windows OS'\n",
    " \n",
    " \n",
    "class windows(OS, Ineuron):\n",
    "    def __init__(self):\n",
    "        if self.multi_task is True:\n",
    "            print('multi_task')\n",
    "        print('Name: {}'.format(self.name))\n",
    " \n",
    " \n",
    "windows = windows()\n",
    " \n",
    " \n",
    "# Multilevel inheritence\n",
    "class iNeuron:\n",
    "    num_of_courses = 12\n",
    " \n",
    " \n",
    "class Datascience(iNeuron):\n",
    "    course_type = 'Data-Science'\n",
    " \n",
    " \n",
    "class AI(Datascience):\n",
    "    def __init__(self):\n",
    "        self.company = \"iNeuron\"\n",
    "        print('The company {0} offers total {1} different types of courses. Most trending course is {2}'.format(self.company,self.num_of_courses,self.course_type))\n",
    " \n",
    " \n",
    "AI = AI()"
   ]
  },
  {
   "cell_type": "code",
   "execution_count": null,
   "metadata": {
    "colab": {},
    "colab_type": "code",
    "id": "UiVGtK8nTsh4"
   },
   "outputs": [],
   "source": []
  }
 ],
 "metadata": {
  "colab": {
   "collapsed_sections": [],
   "name": "13. OOPS_latest.ipynb",
   "provenance": [],
   "toc_visible": true
  },
  "kernelspec": {
   "display_name": "Python 3",
   "language": "python",
   "name": "python3"
  },
  "language_info": {
   "codemirror_mode": {
    "name": "ipython",
    "version": 3
   },
   "file_extension": ".py",
   "mimetype": "text/x-python",
   "name": "python",
   "nbconvert_exporter": "python",
   "pygments_lexer": "ipython3",
   "version": "3.8.5"
  }
 },
 "nbformat": 4,
 "nbformat_minor": 1
}
