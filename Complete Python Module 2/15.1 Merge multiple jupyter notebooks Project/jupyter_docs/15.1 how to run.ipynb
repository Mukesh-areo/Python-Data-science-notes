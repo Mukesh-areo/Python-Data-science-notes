{
 "cells": [
  {
   "cell_type": "markdown",
   "metadata": {},
   "source": [
    "# 15.1 Merge-multiple-jupyter-notebooks\n",
    "This code is intended to merge multiple jupyter notebooks into one notebook. final notebook will also contain the parent file names\n"
   ]
  },
  {
   "cell_type": "markdown",
   "metadata": {},
   "source": [
    "\n",
    "## 15.1.1 Kindly follow below instructions -\n",
    "**1.** Download mergeJupyterFiles.py or mergeJupyterFiles.ipynb\n",
    "\n",
    "**2.** Now place this downloaded.py file or ipynb file into a folder containing other jupyer notebooks\n",
    "\n",
    "**3.** Now if you have copied .py file then use following command in terminal\n",
    "\n",
    "```\n",
    "\t\tpython  mergeJupyterFiles.py\n",
    "```\n",
    "<p align=\"center\">\n",
    "<img src=\"https://raw.githubusercontent.com/c17hawke/Merge-multiple-jupyter-notebooks/master/screeenshots/command.png\" alt=\"command\">\n",
    "</p>\n",
    "\t\n",
    "\t[NOTE: make sure you are in the same location as this py file exists]\n",
    "\t\n",
    "\tAnd in case you are using ipynb then you can directly run it in your jupyter notebook\n",
    "\n",
    "\n",
    "**4.** After completing step 4 you'll see a message of success and a baseFile.ipynb file will be created which is the merged file of all the files present inside a result folder \n",
    "\n",
    "<p align=\"center\">\n",
    "<img src=\"https://raw.githubusercontent.com/c17hawke/Merge-multiple-jupyter-notebooks/master/screeenshots/mergedNotebook.png\" alt=\"mergedNotebook\">\n",
    "</p>\n",
    "<hr>\n"
   ]
  },
  {
   "cell_type": "markdown",
   "metadata": {},
   "source": [
    "\n",
    "## 15.1.2 Common advise for the best results -\n",
    "**1.** In case of non existence of notebook you'll get the following error. Hence one should make sure that your target notebooks are present at the same loaction. \n",
    "\n",
    "<p align=\"center\">\n",
    "<img src=\"https://raw.githubusercontent.com/c17hawke/Merge-multiple-jupyter-notebooks/master/screeenshots/error.png\" alt=\"error\">\n",
    "</p>\n",
    "\n",
    "**2.** Make sure your notebooks contain ordered prefixes like file 01, file 02 etc in their names such that they can be arranged. This will help you to merge them serially. Some examples of file name are like -\n",
    "\t* \"Session 1.01 topicName\", \"Session 1.02 another topic Name\"\n"
   ]
  },
  {
   "cell_type": "markdown",
   "metadata": {},
   "source": [
    "---\n",
    "\n",
    "## 15.1.3 WorkFlow\n",
    "\n",
    "![WORKFLOW](merge_IPYNB_img/workflow_mergeIPYNB.png)"
   ]
  }
 ],
 "metadata": {
  "kernelspec": {
   "display_name": "Python 3",
   "language": "python",
   "name": "python3"
  },
  "language_info": {
   "codemirror_mode": {
    "name": "ipython",
    "version": 3
   },
   "file_extension": ".py",
   "mimetype": "text/x-python",
   "name": "python",
   "nbconvert_exporter": "python",
   "pygments_lexer": "ipython3",
   "version": "3.7.4"
  }
 },
 "nbformat": 4,
 "nbformat_minor": 4
}
