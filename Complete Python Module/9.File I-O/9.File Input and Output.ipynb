{
 "cells": [
  {
   "cell_type": "markdown",
   "metadata": {
    "colab_type": "text",
    "id": "L9dZZUB4drt_"
   },
   "source": [
    "<img src=\"https://d24cdstip7q8pz.cloudfront.net/t/ineuron1/content/common/images/final%20logo.png\" height=50 alt-text=\"iNeuron.ai logo\">"
   ]
  },
  {
   "cell_type": "markdown",
   "metadata": {
    "colab_type": "text",
    "id": "vPT9Om4ZdhLg"
   },
   "source": [
    "# 9) Files\n",
    "\n",
    "* Python uses file objects to interact with the external files on your computer. \n",
    "\n",
    "* These file objects cab be of any file format on your computer i.e. can be an audio file, a text file, emails, Excel documents, etc. \n",
    "\n",
    ">**Note:** that You will probably need to install certain libraries or modules to interact with those various file types, but they are easily available. (We will cover downloading modules later on in the course).\n",
    "\n",
    "* Python has a built-in open function that allows us to open and play with basic file types. First we will need a file though. We're going to use some iPython magic to create a text file!\n",
    "\n",
    "**These are some topics which going to covered in this notebook:**\n",
    "- Printing to screen\n",
    "- Reading Input from Keyboard \n",
    "- Files Opening and Closing\n",
    "- Writting and Reading Operation\n",
    "- File Positions\n",
    "- Additional File Methods\n"
   ]
  },
  {
   "cell_type": "markdown",
   "metadata": {
    "colab_type": "text",
    "id": "4nrVzEZidhLh"
   },
   "source": [
    "## 9.1 Printing to screen\n",
    "* It's a simplest to provide output using simple `print` statement, multiple statement can be provide seperated by commas `,`"
   ]
  },
  {
   "cell_type": "code",
   "execution_count": null,
   "metadata": {
    "colab": {},
    "colab_type": "code",
    "id": "sUTCgXq8dhLj",
    "outputId": "81690673-f2ac-438a-d3fb-f9bbd08b61f7"
   },
   "outputs": [
    {
     "name": "stdout",
     "output_type": "stream",
     "text": [
      "Hello guys!! Good to see you\n"
     ]
    }
   ],
   "source": [
    "print('Hello guys!!','Good to see you')"
   ]
  },
  {
   "cell_type": "markdown",
   "metadata": {
    "colab_type": "text",
    "id": "Kg1AR0trdhLr"
   },
   "source": [
    "## 9.2 Reading Input from Keyboard\n",
    "\n",
    "* `Python2` has having two built-in function `input()` and `raw_input()`, but in `Python3` `raw_input()` function is deprecated. \n",
    "* The input() function is used to read data as string from keyboard, whether its bounded with the quotes (i.e., ' ' or \" \" ) or not."
   ]
  },
  {
   "cell_type": "code",
   "execution_count": null,
   "metadata": {
    "colab": {},
    "colab_type": "code",
    "id": "bRY9rPV8dhLs",
    "outputId": "ed74bb8a-bbfb-47ca-be6b-4d8b9384f0a2"
   },
   "outputs": [
    {
     "data": {
      "text/plain": [
       "'14'"
      ]
     },
     "execution_count": 4,
     "metadata": {
      "tags": []
     },
     "output_type": "execute_result"
    }
   ],
   "source": [
    "x=input('Enter an number:')\n",
    "x"
   ]
  },
  {
   "cell_type": "code",
   "execution_count": null,
   "metadata": {
    "colab": {},
    "colab_type": "code",
    "id": "CVXvdZk5dhL2",
    "outputId": "f7fbaeac-7b76-4540-833f-d290933fa4ca"
   },
   "outputs": [
    {
     "data": {
      "text/plain": [
       "'78'"
      ]
     },
     "execution_count": 5,
     "metadata": {
      "tags": []
     },
     "output_type": "execute_result"
    }
   ],
   "source": [
    "x=input()\n",
    "x"
   ]
  },
  {
   "cell_type": "code",
   "execution_count": null,
   "metadata": {
    "colab": {},
    "colab_type": "code",
    "id": "z0nR8st_dhL8",
    "outputId": "01d4d34a-a5bc-437b-bdbe-7773d9fbcea1"
   },
   "outputs": [
    {
     "name": "stdout",
     "output_type": "stream",
     "text": [
      "Name:  ravi\n"
     ]
    }
   ],
   "source": [
    "name=input(\"Enter your name \")\n",
    "print('Name: ',name)"
   ]
  },
  {
   "cell_type": "markdown",
   "metadata": {
    "colab_type": "text",
    "id": "LzGu3U8tdhMD"
   },
   "source": [
    "## 9.3 Files Opening and Closing\n",
    "* Here, we will see how to use actual data files\n",
    "* Python provides basic methods and functions to manipulate data files"
   ]
  },
  {
   "cell_type": "markdown",
   "metadata": {
    "colab_type": "text",
    "id": "CtFvduF9dhME"
   },
   "source": [
    "### 9.3.1 File Opening\n",
    "* Before reading or writting in to a file, its necessary to open a file\n",
    "* To do this, in python we have `open()`built-in function and syntax can be written as;\n",
    "\n",
    "```python\n",
    "file_object = open(file_name, access_mode, buffering)\n",
    "```\n",
    "**Used parameter details;**\n",
    "\n",
    "**file_name:** Its a string value argument that contains the file name which you want to consider.\n",
    "\n",
    "**access_mode:** The mode in which file has to be opened, i.e., write, read, append, etc. Down in the table a complete list is provided and it is an non-compulsory parameter (read (r) is a default access mode in file).\n",
    "\n",
    "**buffering:** If the value of buffering is 0 then no buffering will occur. If the value of buffering is 1 then line buffering will take place during file operation, when an integer value greater than 1 is provided, then buffering action is performed with specified buffer size. If buffering is negative, then it considered as the default buffer size in system.\n",
    "\n",
    "\n",
    "**Different types of mode**\n",
    "\n",
    "|Modes|Explanation|\n",
    "|:-|:-|\n",
    "|r|Only for reading. The pointer is located at the start of file and it’s a default mode.|\n",
    "|rb|Only for reading in a binary format. The pointer is located at the start of file and it’s a default mode.|\n",
    "|r+|To opens a file for the both writing and reading. The pointer is located at the start of file.|\n",
    "|rb+|For the both writing and reading operation in binary format. The pointer is located at the start of file.|\n",
    "|w|Only for writing. Check for existing file, if its present overwrites in the exists file. If there is no any existing file then, makes a novel file for the writing.|\n",
    "|wb|Only for writing in a binary format. Check for existing file, if its present overwrites in the exists file. If there is no any existing file then, makes a novel file for the writing.|\n",
    "|w+|For the both writing and reading operation. Check for existing file, if its present overwrites in the exists file. If there is no any existing file then, makes a novel file for the writing and reading.|\n",
    "|wb+|For the both writing and reading operation in binary format. Check for existing file, if its present overwrites in the exists file. If there is no any existing file then, makes a novel file for the writing and reading.|\n",
    "|a|opens the file for appending; any data written to the file is automatically added to the end. Check for existing file, if its present pointer is set at last of existing file for appending operation. If there is no any existing file then, makes a novel file for the writing.|\n",
    "\n",
    "> **Note:** Other that that `ab`, `a+` and `ab+` are some other modes\n",
    "\n"
   ]
  },
  {
   "cell_type": "markdown",
   "metadata": {},
   "source": [
    "### 9.3.2 File Closing\n",
    "#### File object Attributes\n",
    "* **file.closed** If the file is closed, return true otherwise false.\n",
    "* **file.name** Returns the file name.\n",
    "* **file.mode** It returns mode of access in which the file was opened.\n",
    "\n",
    "**Examples**"
   ]
  },
  {
   "cell_type": "code",
   "execution_count": null,
   "metadata": {
    "colab": {},
    "colab_type": "code",
    "id": "Mw1BLhyAdhMG",
    "outputId": "f00aea0a-f208-416b-96a8-d337f34087f0"
   },
   "outputs": [
    {
     "name": "stdout",
     "output_type": "stream",
     "text": [
      "Opend file name:  newfile.txt\n",
      "File is closed:  False\n",
      "The mode of opening:  wb\n",
      "File is closed:  True\n"
     ]
    }
   ],
   "source": [
    "# Open file operation\n",
    "f = open(\"newfile.txt\", \"wb\")\n",
    "print (\"Opend file name: \", f.name)\n",
    "print (\"File is closed: \", f.closed)\n",
    "print (\"The mode of opening: \", f.mode)\n",
    "f.close()\n",
    "print (\"File is closed: \", f.closed)"
   ]
  },
  {
   "cell_type": "markdown",
   "metadata": {
    "colab_type": "text",
    "id": "xLnZE4EAdhMM"
   },
   "source": [
    "The `close()` method is used to discard the unwritten message or information and closes the object of file. Afterwards, no writing or reading operation can be performed. \n",
    "\n",
    ">**Note:** Its always recommended to use `close()` method after file operation is done.\n",
    "\n",
    "```python\n",
    "close_object.close()\n",
    "```"
   ]
  },
  {
   "cell_type": "markdown",
   "metadata": {
    "colab_type": "text",
    "id": "1BoIn9nAdhMN"
   },
   "source": [
    "## 9.4 Writting and Reading Operation\n",
    "* The file object is used by `write()` and `read()` methods to write and read the files."
   ]
  },
  {
   "cell_type": "markdown",
   "metadata": {
    "colab_type": "text",
    "id": "2UpZ9auGdhMO"
   },
   "source": [
    "### 9.4.1 Write method\n",
    "\n",
    "* The `write()` method is used to writes string to an current open file. \n",
    "\n",
    ">**Note:** Python strings not only support just text data, it support binary data as well.\n",
    "\n",
    "```python\n",
    "#Syntax\n",
    "file_Object.write(string);\n",
    "```\n",
    "\n",
    "**Examples**"
   ]
  },
  {
   "cell_type": "code",
   "execution_count": null,
   "metadata": {
    "colab": {},
    "colab_type": "code",
    "id": "JWYSAwspdhMQ"
   },
   "outputs": [],
   "source": [
    "# Open a file to perform write operation\n",
    "f = open(\"newfile.txt\", \"w\")\n",
    "f.write( \"Greeting from iNeuron!! \\nWe provide all the materials regarding Data Science. \\nMentors, live classes, support, resume discussion and etc.\\n\")\n",
    "# Close the opend file\n",
    "f.close()\n",
    "\n",
    "#Output saved in newfile.txt file in present directory\n",
    "''' \n",
    "Greeting from iNeuron!! \n",
    "We provide all the materials regarding Data Science. \n",
    "Mentors, live classes, support, resume discussion and etc.\n",
    "'''"
   ]
  },
  {
   "cell_type": "markdown",
   "metadata": {
    "colab_type": "text",
    "id": "W0mEUTIcdhMa"
   },
   "source": [
    "#### Writing using iPython\n",
    "* Python has a built-in open function that allows us to open and play with basic file types. First we will need a file though. We're going to use some iPython magic to create a text file!\n",
    "**iPython Writing a File**"
   ]
  },
  {
   "cell_type": "code",
   "execution_count": null,
   "metadata": {
    "colab": {},
    "colab_type": "code",
    "id": "ZtuAiSPddhMc",
    "outputId": "f5e1b10b-49c5-4c38-e394-32b98fe67b0c"
   },
   "outputs": [
    {
     "name": "stdout",
     "output_type": "stream",
     "text": [
      "Writing test.txt\n"
     ]
    }
   ],
   "source": [
    "%%writefile test.txt\n",
    "Hello, this is a quick test file"
   ]
  },
  {
   "cell_type": "code",
   "execution_count": null,
   "metadata": {
    "colab": {},
    "colab_type": "code",
    "id": "xxp1Fi-ydhMl",
    "outputId": "e53c452e-2c65-4173-af9d-e41f991437f9"
   },
   "outputs": [
    {
     "data": {
      "text/plain": [
       "'C:\\\\Users\\\\Ravi\\\\Desktop\\\\iNeuron\\\\Python'"
      ]
     },
     "execution_count": 21,
     "metadata": {
      "tags": []
     },
     "output_type": "execute_result"
    }
   ],
   "source": [
    "pwd() ## To check the file location"
   ]
  },
  {
   "cell_type": "markdown",
   "metadata": {
    "colab_type": "text",
    "id": "35hGi8iCdhMt"
   },
   "source": [
    "### 9.4.2 Read method\n",
    "* Its a method to read information/string from an current open file\n",
    "\n",
    ">**Note:** Python strings not only support just text data, it support binary data as well.\n",
    "\n",
    "```python\n",
    "#Syntax\n",
    "file_Object.read([count]);\n",
    "```\n",
    "\n",
    "**Examples**"
   ]
  },
  {
   "cell_type": "code",
   "execution_count": null,
   "metadata": {
    "colab": {},
    "colab_type": "code",
    "id": "JwieywiTdhMv",
    "outputId": "e0bff8bc-cfc6-4fa2-a140-23f77cfea800"
   },
   "outputs": [
    {
     "data": {
      "text/plain": [
       "'Hello, this is a quick test file'"
      ]
     },
     "execution_count": 24,
     "metadata": {
      "tags": []
     },
     "output_type": "execute_result"
    }
   ],
   "source": [
    "# Open the test.txt we made earlier\n",
    "file = open('test.txt')\n",
    "# We can now read the file\n",
    "file.read()"
   ]
  },
  {
   "cell_type": "code",
   "execution_count": null,
   "metadata": {
    "colab": {},
    "colab_type": "code",
    "id": "JJneSJYOdhM1",
    "outputId": "c4b082c4-5f9e-4a3b-e5e1-bdc86dd44dc0"
   },
   "outputs": [
    {
     "data": {
      "text/plain": [
       "''"
      ]
     },
     "execution_count": 25,
     "metadata": {
      "tags": []
     },
     "output_type": "execute_result"
    }
   ],
   "source": [
    "# But what happens if we try to read it again?\n",
    "file.read()"
   ]
  },
  {
   "cell_type": "markdown",
   "metadata": {
    "colab_type": "text",
    "id": "U-sNMGkpdhNA"
   },
   "source": [
    "**Note:**\n",
    "* This happens because you can imagine the reading \"cursor\" is at the end of the file after having read it. \n",
    "* So there is nothing left to read. We can reset the \"cursor\" like this:"
   ]
  },
  {
   "cell_type": "code",
   "execution_count": null,
   "metadata": {
    "colab": {},
    "colab_type": "code",
    "id": "v7MbqrccdhNA",
    "outputId": "293ff741-8c19-456e-e79e-ed61e86ece85"
   },
   "outputs": [
    {
     "data": {
      "text/plain": [
       "'Hello, this is a quick test file'"
      ]
     },
     "execution_count": 26,
     "metadata": {
      "tags": []
     },
     "output_type": "execute_result"
    }
   ],
   "source": [
    "file.seek(0) ## seek method is used to set pointer\n",
    "file.read()"
   ]
  },
  {
   "cell_type": "code",
   "execution_count": null,
   "metadata": {
    "colab": {},
    "colab_type": "code",
    "id": "NzjFuBdydhNG",
    "outputId": "6b76c742-a08d-4f6a-d917-36d10e2d4ccc"
   },
   "outputs": [
    {
     "name": "stdout",
     "output_type": "stream",
     "text": [
      "Read String is :  Greeting from iNeuron!! \n",
      "\n"
     ]
    }
   ],
   "source": [
    "''' Some other way of reading\n",
    "'''\n",
    "f = open(\"newfile.txt\", \"r+\")# Open a file\n",
    "str = f.read(25)\n",
    "print (\"Read String is : \", str)\n",
    "\n",
    "f.close()# Close opened file"
   ]
  },
  {
   "cell_type": "markdown",
   "metadata": {
    "colab_type": "text",
    "id": "ikCiwhCtdhNN"
   },
   "source": [
    "## 9.5 File Positions\n",
    "* Here we discuss more related to `seek()` method that has used in previous section and `tell()` method. \n",
    "\n",
    "* The `tell()` method is used to provide the current pointer location within the file, from where the preciding write or read operation will happen.\n",
    "* Whereas `seek()` method allows to set the pointer location where its needed. In `seek(offset)`, the offset value always takes an integer as it a pointer value.\n",
    "\n",
    ">**Note:** If the seek offset value is set to `0` means its set the pointer to begining in the opened file\n",
    "\n",
    "**Examples**"
   ]
  },
  {
   "cell_type": "code",
   "execution_count": null,
   "metadata": {
    "colab": {},
    "colab_type": "code",
    "id": "kdk3U-T2dhNO",
    "outputId": "195721d3-0a17-483b-de0e-73d466fcb7f7"
   },
   "outputs": [
    {
     "name": "stdout",
     "output_type": "stream",
     "text": [
      "Current file position :  0\n",
      "\n",
      "After seek the file position :  8\n",
      "\n",
      "String is :   from iNeuron!!\n"
     ]
    }
   ],
   "source": [
    "f = open(\"newfile.txt\", \"r+\")# Open a file\n",
    "\n",
    "position = f.tell() # Check current position\n",
    "print (\"Current file position : \", position)\n",
    "\n",
    "# Reposition the pointer location\n",
    "position = f.seek(8)\n",
    "print (\"\\nAfter seek the file position : \", position)\n",
    "\n",
    "str_line = f.read(15)\n",
    "print (\"\\nString is : \", str_line) #It will only display 15 pointed values\n",
    "\n",
    "f.close()# Close opened file"
   ]
  },
  {
   "cell_type": "markdown",
   "metadata": {
    "colab_type": "text",
    "id": "nZBTXMXUdhNU"
   },
   "source": [
    "**Additional**\n",
    "\n",
    "* To change the file object’s position, use `f.seek(offset, whence)`. The position is computed from adding offset to a reference point; the reference point is selected by the whence argument. \n",
    "* A whence value of 0 measures from the beginning of the file, 1 uses the current file position, and 2 uses the end of the file as the reference point. whence can be omitted and defaults to 0, using the beginning of the file as the reference point.\n",
    "\n",
    "**[Official Python doc](https://docs.python.org/3/tutorial/inputoutput.html)**"
   ]
  },
  {
   "cell_type": "code",
   "execution_count": null,
   "metadata": {
    "colab": {},
    "colab_type": "code",
    "id": "sUQ69L5LdhNV",
    "outputId": "e4f6df3b-1842-454a-85f5-2544356bc35d"
   },
   "outputs": [
    {
     "data": {
      "text/plain": [
       "9"
      ]
     },
     "execution_count": 65,
     "metadata": {
      "tags": []
     },
     "output_type": "execute_result"
    }
   ],
   "source": [
    "f = open('test2', 'wb+')\n",
    "\n",
    "f.write(b'123456789')"
   ]
  },
  {
   "cell_type": "code",
   "execution_count": null,
   "metadata": {
    "colab": {},
    "colab_type": "code",
    "id": "39OALwy_dhNa",
    "outputId": "d14ffaba-11ba-4f0c-ca7f-bdc805edc0b6"
   },
   "outputs": [
    {
     "data": {
      "text/plain": [
       "5"
      ]
     },
     "execution_count": 66,
     "metadata": {
      "tags": []
     },
     "output_type": "execute_result"
    }
   ],
   "source": [
    "f.seek(5)# Go to the 6th byte in the file"
   ]
  },
  {
   "cell_type": "code",
   "execution_count": null,
   "metadata": {
    "colab": {},
    "colab_type": "code",
    "id": "MpEOfOU_dhNl",
    "outputId": "78126884-e23d-4b30-9cbe-c8d74c566ae3"
   },
   "outputs": [
    {
     "data": {
      "text/plain": [
       "b'6'"
      ]
     },
     "execution_count": 67,
     "metadata": {
      "tags": []
     },
     "output_type": "execute_result"
    }
   ],
   "source": [
    "f.read(1)"
   ]
  },
  {
   "cell_type": "code",
   "execution_count": null,
   "metadata": {
    "colab": {},
    "colab_type": "code",
    "id": "QRw8G8JidhNq",
    "outputId": "ed789a34-92b6-4215-bcd8-a7ee19e66e89"
   },
   "outputs": [
    {
     "data": {
      "text/plain": [
       "6"
      ]
     },
     "execution_count": 68,
     "metadata": {
      "tags": []
     },
     "output_type": "execute_result"
    }
   ],
   "source": [
    "f.seek(-3, 2)  # Go to the 3rd byte before the end"
   ]
  },
  {
   "cell_type": "code",
   "execution_count": null,
   "metadata": {
    "colab": {},
    "colab_type": "code",
    "id": "yeFJf6hfdhNu",
    "outputId": "ef4073b0-e061-4780-c2c1-907b4921a369"
   },
   "outputs": [
    {
     "data": {
      "text/plain": [
       "b'7'"
      ]
     },
     "execution_count": 69,
     "metadata": {
      "tags": []
     },
     "output_type": "execute_result"
    }
   ],
   "source": [
    "f.read(1)"
   ]
  },
  {
   "cell_type": "markdown",
   "metadata": {
    "colab_type": "text",
    "id": "0e5VLjZvdhNz"
   },
   "source": [
    "## 9.6 Additional File Methods\n",
    "* Ones a object of file is created by open function, there are some additional fucnctions that can be considered on this created object.\n"
   ]
  },
  {
   "cell_type": "markdown",
   "metadata": {
    "colab_type": "text",
    "id": "Ch7Er30XdhN0"
   },
   "source": [
    "### The flush() method\n",
    "The `flush()` method flushes the internal buffer.\n",
    "Python automatically used to flush the files during closing them, but it’s up to requirement and necessity to flush data before closing process of any file.\n",
    "\n",
    "```Python\n",
    "#Syntax\n",
    "file_Object.flush()\n",
    "```"
   ]
  },
  {
   "cell_type": "code",
   "execution_count": null,
   "metadata": {
    "colab": {},
    "colab_type": "code",
    "id": "8tbI41brdhN2",
    "outputId": "7f628804-9f7c-4800-d9c1-3dad2c60b5ed"
   },
   "outputs": [
    {
     "name": "stdout",
     "output_type": "stream",
     "text": [
      "Name of file:  newfile.txt\n"
     ]
    }
   ],
   "source": [
    "f = open(\"newfile.txt\", \"r+\")# Open a file\n",
    "print (\"Name of file: \", f.name)\n",
    "\n",
    "f.flush()\n",
    "\n",
    "f.close()"
   ]
  },
  {
   "cell_type": "code",
   "execution_count": null,
   "metadata": {
    "colab": {},
    "colab_type": "code",
    "id": "1rrXC_5MdhN6"
   },
   "outputs": [],
   "source": []
  },
  {
   "cell_type": "markdown",
   "metadata": {
    "colab_type": "text",
    "id": "Q3IJT79pdhN-"
   },
   "source": [
    "### The readline() Method\n",
    "* `f.readline()` reads a single line from the file; a newline character (\\n) is left at the end of the string, and is only omitted on the last line of the file if the file doesn’t end in a newline. \n",
    "* This makes the return value unambiguous; if `f.readline()` returns an empty string, the end of the file has been reached, while a blank line is represented by `'\\n'`, a string containing only a single newline.\n",
    "\n",
    "```Python\n",
    "#Syntax\n",
    "file_Object.readline()\n",
    "```"
   ]
  },
  {
   "cell_type": "code",
   "execution_count": null,
   "metadata": {
    "colab": {},
    "colab_type": "code",
    "id": "GFTXMaRZdhOA",
    "outputId": "7cdeaffc-dde2-4146-93da-869195d8f595"
   },
   "outputs": [
    {
     "name": "stdout",
     "output_type": "stream",
     "text": [
      "First Line:  Greeting from iNeuron!! \n",
      "\n"
     ]
    }
   ],
   "source": [
    "f = open(\"newfile.txt\", \"r+\")# Open a file\n",
    "print (\"First Line: \", f.readline())"
   ]
  },
  {
   "cell_type": "code",
   "execution_count": null,
   "metadata": {
    "colab": {},
    "colab_type": "code",
    "id": "xO1rSRsIdhOG",
    "outputId": "a9c61151-1b6c-4c36-cf1a-9bf9e4792f63"
   },
   "outputs": [
    {
     "name": "stdout",
     "output_type": "stream",
     "text": [
      "Second Line:  We provide all the materials regarding Data Science. \n",
      "\n"
     ]
    }
   ],
   "source": [
    "print (\"Second Line: \", f.readline())"
   ]
  },
  {
   "cell_type": "code",
   "execution_count": null,
   "metadata": {
    "colab": {},
    "colab_type": "code",
    "id": "ppPT_m9TdhOK",
    "outputId": "ed04fa55-17d9-4030-865d-49f29cfee7d0"
   },
   "outputs": [
    {
     "name": "stdout",
     "output_type": "stream",
     "text": [
      "Third Line:  Mentors, live classes, support, resume discussion and etc.\n",
      "\n"
     ]
    }
   ],
   "source": [
    "print (\"Third Line: \", f.readline())"
   ]
  },
  {
   "cell_type": "code",
   "execution_count": null,
   "metadata": {
    "colab": {},
    "colab_type": "code",
    "id": "wT1CfeW9dhOT",
    "outputId": "f01ab0fe-d893-4e43-a244-4d9c3a76ced0"
   },
   "outputs": [
    {
     "name": "stdout",
     "output_type": "stream",
     "text": [
      "Fourth Line:  \n"
     ]
    }
   ],
   "source": [
    "print (\"Fourth Line: \", f.readline())"
   ]
  },
  {
   "cell_type": "code",
   "execution_count": null,
   "metadata": {
    "colab": {},
    "colab_type": "code",
    "id": "cUht0qN3dhOZ",
    "outputId": "eb087c68-18f5-461a-9571-a8c461d6e8e7"
   },
   "outputs": [
    {
     "data": {
      "text/plain": [
       "''"
      ]
     },
     "execution_count": 49,
     "metadata": {
      "tags": []
     },
     "output_type": "execute_result"
    }
   ],
   "source": [
    "f.readline()"
   ]
  },
  {
   "cell_type": "markdown",
   "metadata": {
    "colab_type": "text",
    "id": "QXqY-IqadhOh"
   },
   "source": [
    ">**Note:** There is nothing at the fourth line so it returned blank line.\n",
    "\n",
    ">**Note:** But it is always recommended to use`for` loop to read lines from a file, you can loop over the file object. This is memory efficient, fast, and leads to simple code: "
   ]
  },
  {
   "cell_type": "code",
   "execution_count": null,
   "metadata": {
    "colab": {},
    "colab_type": "code",
    "id": "-HIdpCZJdhOi",
    "outputId": "96ba173b-03fa-4f7a-f821-98ee4ff0d992"
   },
   "outputs": [
    {
     "name": "stdout",
     "output_type": "stream",
     "text": [
      "Greeting from iNeuron!! \n",
      "We provide all the materials regarding Data Science. \n",
      "Mentors, live classes, support, resume discussion and etc.\n"
     ]
    }
   ],
   "source": [
    "'''Using a simple for loop to read the line'''\n",
    "\n",
    "f = open(\"newfile.txt\", \"r+\")# Open a file\n",
    "for line in f:\n",
    "    print(line, end='')\n",
    "    \n",
    "f.close()"
   ]
  },
  {
   "cell_type": "markdown",
   "metadata": {
    "colab_type": "text",
    "id": "3jBmg0HHdhOx"
   },
   "source": [
    "### The readlines() Method\n",
    "\n",
    "* If you want to read all the lines of a file in a list you can also use `list(f)` or `f.readlines()`.\n",
    "\n",
    "```Python\n",
    "#Syntax\n",
    "file_Object.readlines()\n",
    "```"
   ]
  },
  {
   "cell_type": "code",
   "execution_count": null,
   "metadata": {
    "colab": {},
    "colab_type": "code",
    "id": "IbEn9963dhOy",
    "outputId": "e9e47c0b-de79-460d-f1ac-15fcd86f6303"
   },
   "outputs": [
    {
     "name": "stdout",
     "output_type": "stream",
     "text": [
      "All lines:  ['Greeting from iNeuron!! \\n', 'We provide all the materials regarding Data Science. \\n', 'Mentors, live classes, support, resume discussion and etc.\\n']\n"
     ]
    }
   ],
   "source": [
    "f = open(\"newfile.txt\", \"r+\")# Open a file\n",
    "print (\"All lines: \", f.readlines())\n",
    "\n",
    "f.close()"
   ]
  },
  {
   "cell_type": "code",
   "execution_count": null,
   "metadata": {
    "colab": {},
    "colab_type": "code",
    "id": "M3y45c8SdhPC",
    "outputId": "c1e13610-7733-40d5-dc40-424c0e3bfde8"
   },
   "outputs": [
    {
     "name": "stdout",
     "output_type": "stream",
     "text": [
      "All lines:  ['Greeting from iNeuron!! \\n', 'We provide all the materials regarding Data Science. \\n', 'Mentors, live classes, support, resume discussion and etc.\\n']\n"
     ]
    }
   ],
   "source": [
    "f = open(\"newfile.txt\", \"r+\")# Open a file\n",
    "print (\"All lines: \", list(f))\n",
    "\n",
    "f.close()"
   ]
  },
  {
   "cell_type": "markdown",
   "metadata": {
    "colab_type": "text",
    "id": "KYpXXaeUdhPf"
   },
   "source": [
    "### The writelines() Method\n",
    "* The writelines() method is used to writes a strings sequence to the file. It provide no return value.\n",
    "\n",
    "```Python\n",
    "#Syntax\n",
    "file_Object.writelines(sequence)\n",
    "```"
   ]
  },
  {
   "cell_type": "code",
   "execution_count": null,
   "metadata": {
    "colab": {},
    "colab_type": "code",
    "id": "nWv44jWddhPg",
    "outputId": "d88a7470-4160-4eee-9166-edf801eb9230"
   },
   "outputs": [
    {
     "name": "stdout",
     "output_type": "stream",
     "text": [
      "Name of the file:  test.txt\n",
      "None\n",
      "Hello, this is a quick test fileThis is 2nd line\n",
      "This is 3rd lineThis is 2nd line\n",
      "This is 3rd line\n",
      "This is 2nd line\n",
      "This is 3rd line\n",
      "This is 2nd line\n",
      "This is 3rd line"
     ]
    }
   ],
   "source": [
    "# Open a file in read/write mode\n",
    "f = open(\"test.txt\", \"r+\")\n",
    "\n",
    "print (\"Name of the file: \", f.name)\n",
    "\n",
    "sequence = [\"\\nThis is 2nd line\\n\", \"This is 3rd line\"]\n",
    "\n",
    "# Write sequence of lines at the end of the file.\n",
    "lines = f.writelines( sequence )\n",
    "\n",
    "# To display the written lines\n",
    "for line in f:\n",
    "    print(line, end='')\n",
    "\n",
    "# Close the open file\n",
    "f.close()"
   ]
  },
  {
   "cell_type": "markdown",
   "metadata": {
    "colab_type": "text",
    "id": "F2napZ1gdhPm"
   },
   "source": [
    "### The fileno() method\n",
    "The `fileno()` method provide the integer file descriptor.\n",
    "\n",
    "```Python\n",
    "#Syntax\n",
    "file_Object.fileno()\n",
    "```"
   ]
  },
  {
   "cell_type": "code",
   "execution_count": null,
   "metadata": {
    "colab": {},
    "colab_type": "code",
    "id": "xzNBnCC4dhPn",
    "outputId": "17cda86d-c89e-4ba1-e15d-3d5b259b338d"
   },
   "outputs": [
    {
     "name": "stdout",
     "output_type": "stream",
     "text": [
      "File Number:  4\n"
     ]
    }
   ],
   "source": [
    "f = open(\"test.txt\", \"r+\")# Open a file\n",
    "print (\"File Number: \", f.fileno())\n",
    "\n",
    "f.close()"
   ]
  },
  {
   "cell_type": "markdown",
   "metadata": {
    "colab_type": "text",
    "id": "EXD-XigydhPw"
   },
   "source": [
    "**Note:** **isatty()** and **truncate()** are some extra file methods"
   ]
  },
  {
   "cell_type": "code",
   "execution_count": null,
   "metadata": {
    "colab": {},
    "colab_type": "code",
    "id": "YOsSSz41dhPz"
   },
   "outputs": [],
   "source": []
  },
  {
   "cell_type": "code",
   "execution_count": null,
   "metadata": {
    "colab": {},
    "colab_type": "code",
    "id": "ak734e0odhP5"
   },
   "outputs": [],
   "source": []
  }
 ],
 "metadata": {
  "colab": {
   "collapsed_sections": [
    "W0mEUTIcdhMa"
   ],
   "name": "File Input and Output.ipynb",
   "provenance": []
  },
  "kernelspec": {
   "display_name": "Python 3",
   "language": "python",
   "name": "python3"
  },
  "language_info": {
   "codemirror_mode": {
    "name": "ipython",
    "version": 3
   },
   "file_extension": ".py",
   "mimetype": "text/x-python",
   "name": "python",
   "nbconvert_exporter": "python",
   "pygments_lexer": "ipython3",
   "version": "3.8.5"
  }
 },
 "nbformat": 4,
 "nbformat_minor": 2
}
