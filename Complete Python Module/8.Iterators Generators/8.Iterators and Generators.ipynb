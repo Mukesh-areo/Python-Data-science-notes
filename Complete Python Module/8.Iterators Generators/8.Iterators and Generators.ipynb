{
 "cells": [
  {
   "cell_type": "markdown",
   "metadata": {
    "colab_type": "text",
    "id": "L9dZZUB4drt_"
   },
   "source": [
    "<img src=\"https://d24cdstip7q8pz.cloudfront.net/t/ineuron1/content/common/images/final%20logo.png\" height=50 alt-text=\"iNeuron.ai logo\">"
   ]
  },
  {
   "cell_type": "markdown",
   "metadata": {
    "colab_type": "text",
    "id": "-0W0rDUz5cfX"
   },
   "source": [
    "# 8) Iterators and Generators\n",
    "In this section, you will be learning the differences between iterations and generation in Python and also how to construct our own generators with the \"yield\" statement. \n",
    "\n"
   ]
  },
  {
   "cell_type": "markdown",
   "metadata": {
    "colab_type": "text",
    "id": "_r4f6o8E50tn"
   },
   "source": [
    "## 8.1 Iterators \n",
    "* Iterator act as an object and allows to traverse via all the present collected elements, irrespective of its implementation type.\n",
    "\n",
    "* It have two type of methods in Python such as; `iter()` and `next()`.\n",
    "\n",
    "* The objects of List, String or Tuples can be used to produce an `Iterator`\n",
    "\n",
    "\n",
    ">**Note:** `next()` and `iter()` built-in functions in python\n",
    "\n",
    "* The next function allows us to access the next element in a sequence. Let's check how it works.\n",
    "\n",
    "**Examples**"
   ]
  },
  {
   "cell_type": "code",
   "execution_count": null,
   "metadata": {
    "colab": {},
    "colab_type": "code",
    "id": "PGDfkHTq5cfZ",
    "outputId": "b93b546f-0216-4cbd-9afc-ce8fafd34b49"
   },
   "outputs": [
    {
     "name": "stdout",
     "output_type": "stream",
     "text": [
      "First element : 1 \n",
      "\n",
      "2 3 4 5 6 7 "
     ]
    }
   ],
   "source": [
    "list=[1,2,3,4,5,6,7] #List containg number from 1 to 7\n",
    "itr = iter(list) # iterator object is created\n",
    "print (\"First element :\",next(itr),'\\n') # It prints the next element in iterator\n",
    "\n",
    "'''As we have iterated first element using next function\n",
    "so it start iterating from next element'''\n",
    "\n",
    "for x in itr:\n",
    "    print (x, end=\" \")"
   ]
  },
  {
   "cell_type": "code",
   "execution_count": null,
   "metadata": {
    "colab": {},
    "colab_type": "code",
    "id": "9TbSPK5T5cfh",
    "outputId": "e7844842-dd10-486b-b6c3-593a989d5840"
   },
   "outputs": [
    {
     "data": {
      "text/plain": [
       "1"
      ]
     },
     "execution_count": 16,
     "metadata": {
      "tags": []
     },
     "output_type": "execute_result"
    }
   ],
   "source": [
    "'''We can simply perform by next() function also'''\n",
    "l=[1,2,3,4]\n",
    "it=iter(l)\n",
    "next(it)"
   ]
  },
  {
   "cell_type": "code",
   "execution_count": null,
   "metadata": {
    "colab": {},
    "colab_type": "code",
    "id": "LpcV3CVF5cfq",
    "outputId": "d7e23584-0456-4b7b-eec4-3704438d2003"
   },
   "outputs": [
    {
     "data": {
      "text/plain": [
       "2"
      ]
     },
     "execution_count": 17,
     "metadata": {
      "tags": []
     },
     "output_type": "execute_result"
    }
   ],
   "source": [
    "next(it)"
   ]
  },
  {
   "cell_type": "code",
   "execution_count": null,
   "metadata": {
    "colab": {},
    "colab_type": "code",
    "id": "F0FSP_Mz5cfv",
    "outputId": "05b442b4-55eb-4994-e502-7a271e078f22"
   },
   "outputs": [
    {
     "data": {
      "text/plain": [
       "3"
      ]
     },
     "execution_count": 18,
     "metadata": {
      "tags": []
     },
     "output_type": "execute_result"
    }
   ],
   "source": [
    "next(it)"
   ]
  },
  {
   "cell_type": "code",
   "execution_count": null,
   "metadata": {
    "colab": {},
    "colab_type": "code",
    "id": "Hgd1PGiX5cf1",
    "outputId": "7c6f1dec-bee6-44e0-f1e2-7ed2c827bb1f"
   },
   "outputs": [
    {
     "data": {
      "text/plain": [
       "4"
      ]
     },
     "execution_count": 19,
     "metadata": {
      "tags": []
     },
     "output_type": "execute_result"
    }
   ],
   "source": [
    "next(it)"
   ]
  },
  {
   "cell_type": "code",
   "execution_count": null,
   "metadata": {
    "colab": {},
    "colab_type": "code",
    "id": "9Wxoh5qA5cf8",
    "outputId": "491a69ee-474f-4a7e-c2a1-6a6d3a4a425b"
   },
   "outputs": [
    {
     "ename": "StopIteration",
     "evalue": "",
     "output_type": "error",
     "traceback": [
      "\u001b[1;31m---------------------------------------------------------------------------\u001b[0m",
      "\u001b[1;31mStopIteration\u001b[0m                             Traceback (most recent call last)",
      "\u001b[1;32m<ipython-input-20-bc1ab118995a>\u001b[0m in \u001b[0;36m<module>\u001b[1;34m()\u001b[0m\n\u001b[1;32m----> 1\u001b[1;33m \u001b[0mnext\u001b[0m\u001b[1;33m(\u001b[0m\u001b[0mit\u001b[0m\u001b[1;33m)\u001b[0m\u001b[1;33m\u001b[0m\u001b[0m\n\u001b[0m",
      "\u001b[1;31mStopIteration\u001b[0m: "
     ]
    }
   ],
   "source": [
    "next(it)"
   ]
  },
  {
   "cell_type": "markdown",
   "metadata": {
    "colab_type": "text",
    "id": "3nM7pk275cgC"
   },
   "source": [
    ">**Note:** After yielding all the values next() caused a StopIteration error. What this error informs us that all the values have been yielded. \n",
    "\n",
    "* You might be wondering that why don’t we get this error while using a for loop? The \"for loop\" automatically catches this error and stops calling next. \n",
    "\n",
    "* Let's go ahead and check out how to use iter() in string. You remember that strings are iterable:"
   ]
  },
  {
   "cell_type": "code",
   "execution_count": null,
   "metadata": {
    "colab": {},
    "colab_type": "code",
    "id": "qyGdSHtd5cgD",
    "outputId": "2f26149c-f822-4484-d9ae-fce7f02fc1f1"
   },
   "outputs": [
    {
     "name": "stdout",
     "output_type": "stream",
     "text": [
      "h\n",
      "e\n",
      "l\n",
      "l\n",
      "o\n",
      "o\n"
     ]
    }
   ],
   "source": [
    "s = 'helloo'\n",
    "#Iterate over string\n",
    "for let in s:\n",
    "    print(let)"
   ]
  },
  {
   "cell_type": "markdown",
   "metadata": {
    "colab_type": "text",
    "id": "mAQ12e3e5cgN"
   },
   "source": [
    ">**Note:** But that doesn't mean the string itself is an *iterator*! We can check this with the next() function:\n",
    "\n",
    ">**Note:** This means that a string object supports iteration, but we can not directly iterate over it as we could with a generator function. The iter() function allows us to do just that!"
   ]
  },
  {
   "cell_type": "code",
   "execution_count": null,
   "metadata": {
    "colab": {},
    "colab_type": "code",
    "id": "Se0DRXmQ5cgO",
    "outputId": "d30378fa-dae4-44dc-9674-0bdf084dfc00"
   },
   "outputs": [
    {
     "ename": "TypeError",
     "evalue": "'str' object is not an iterator",
     "output_type": "error",
     "traceback": [
      "\u001b[1;31m---------------------------------------------------------------------------\u001b[0m",
      "\u001b[1;31mTypeError\u001b[0m                                 Traceback (most recent call last)",
      "\u001b[1;32m<ipython-input-22-c34f2acd1ece>\u001b[0m in \u001b[0;36m<module>\u001b[1;34m()\u001b[0m\n\u001b[0;32m      1\u001b[0m \u001b[0msen\u001b[0m\u001b[1;33m=\u001b[0m\u001b[1;34m\"How are you\"\u001b[0m\u001b[1;33m\u001b[0m\u001b[0m\n\u001b[1;32m----> 2\u001b[1;33m \u001b[0mnext\u001b[0m\u001b[1;33m(\u001b[0m\u001b[0msen\u001b[0m\u001b[1;33m)\u001b[0m\u001b[1;33m\u001b[0m\u001b[0m\n\u001b[0m",
      "\u001b[1;31mTypeError\u001b[0m: 'str' object is not an iterator"
     ]
    }
   ],
   "source": [
    "sen=\"How are you\"\n",
    "next(sen)"
   ]
  },
  {
   "cell_type": "code",
   "execution_count": null,
   "metadata": {
    "colab": {},
    "colab_type": "code",
    "id": "gBv0UXdp5cgU",
    "outputId": "caf67ece-2e7f-44b9-b598-81189b85be60"
   },
   "outputs": [
    {
     "data": {
      "text/plain": [
       "'H'"
      ]
     },
     "execution_count": 23,
     "metadata": {
      "tags": []
     },
     "output_type": "execute_result"
    }
   ],
   "source": [
    "sen=\"How are you\"\n",
    "it=iter(sen)\n",
    "next(it)"
   ]
  },
  {
   "cell_type": "code",
   "execution_count": null,
   "metadata": {
    "colab": {},
    "colab_type": "code",
    "id": "mvHMQymb5cgc",
    "outputId": "9b2c7f76-b7e9-4947-b4c6-deeaed845ba4"
   },
   "outputs": [
    {
     "data": {
      "text/plain": [
       "'w'"
      ]
     },
     "execution_count": 25,
     "metadata": {
      "tags": []
     },
     "output_type": "execute_result"
    }
   ],
   "source": [
    "next(it)"
   ]
  },
  {
   "cell_type": "code",
   "execution_count": null,
   "metadata": {
    "colab": {},
    "colab_type": "code",
    "id": "j5NQA9tN5cgk"
   },
   "outputs": [],
   "source": []
  },
  {
   "cell_type": "markdown",
   "metadata": {
    "colab_type": "text",
    "id": "bVkbCEwz5cgt"
   },
   "source": [
    "## 8.2 Generators \n",
    "* Generators allow us to generate as we go along instead of storing everything in the memory.\n",
    "\n",
    "* In Python, Generator function allow us to write a function that can send back a value and then later resume to pick up where it was left. It also allows us to generate a sequence of values over time. \n",
    "\n",
    "* The main difference in syntax will be the use of a **yield** statement.\n",
    "\n",
    ">**Note:** In most aspects, a generator function will appear very similar to a normal function. The main difference is when a generator function is called and compiled they become an object that supports an iteration protocol. \n",
    "\n",
    ">**Note:** That means when they are called they don't actually return a value and then exit, the generator functions will automatically suspend and resume their execution and state around the last point of value generation. \n",
    "\n",
    "* The main advantage here is \"state suspension\" which means, instead of computing an entire series of values upfront and the generator functions can be suspended. To understand this concept better let's go ahead and learn how to create some generator functions.\n",
    "\n",
    "**Examples**"
   ]
  },
  {
   "cell_type": "code",
   "execution_count": null,
   "metadata": {
    "colab": {},
    "colab_type": "code",
    "id": "__Z2mRtl5cgu",
    "outputId": "34ed396e-8747-423f-b260-696cff3e0aad"
   },
   "outputs": [
    {
     "name": "stdout",
     "output_type": "stream",
     "text": [
      "Number:  0  Cubes:  0\n",
      "Number:  1  Cubes:  1\n",
      "Number:  2  Cubes:  8\n",
      "Number:  3  Cubes:  27\n",
      "Number:  4  Cubes:  64\n",
      "Number:  5  Cubes:  125\n",
      "Number:  6  Cubes:  216\n",
      "Number:  7  Cubes:  343\n",
      "Number:  8  Cubes:  512\n",
      "Number:  9  Cubes:  729\n"
     ]
    }
   ],
   "source": [
    "'''Generator function for the cube of numbers (power of 3).\n",
    "First it create object of function and then in iterating \n",
    "process it will generate result'''\n",
    "\n",
    "def gencubes(n):\n",
    "    for num in range(n):\n",
    "        yield num,num**3\n",
    "        \n",
    "for i,x in gencubes(10):\n",
    "    print('Number: ',i,' Cubes: ',x)"
   ]
  },
  {
   "cell_type": "code",
   "execution_count": null,
   "metadata": {
    "colab": {},
    "colab_type": "code",
    "id": "2Z5OgVil5cg0",
    "outputId": "c2841bca-5734-402e-9ac9-9b93f7ad2cb5"
   },
   "outputs": [
    {
     "name": "stdout",
     "output_type": "stream",
     "text": [
      "Number:  [0, 1, 2, 3, 4, 5, 6, 7, 8, 9]  Cubes:  [0, 1, 8, 27, 64, 125, 216, 343, 512, 729]\n"
     ]
    }
   ],
   "source": [
    "'''Without using generator function, \n",
    "it will store all the values then display'''\n",
    "\n",
    "def gencubes(n):\n",
    "    y=[num**3 for num in range(n)]\n",
    "    x=[num for num in range(n)]\n",
    "    return x,y\n",
    "\n",
    "x,y=gencubes(10)\n",
    "print('Number: ',x,' Cubes: ',y)"
   ]
  },
  {
   "cell_type": "markdown",
   "metadata": {
    "colab_type": "text",
    "id": "M0ziuxmR5chD"
   },
   "source": [
    "* Great! since we have a generator function we don't have to keep track of every single cube we created.\n",
    "\n",
    "* Generators are the best for calculating large sets of results (particularly in calculations that involve loops themselves) when we don't want to allocate memory for all of the results at the same time. \n",
    "\n",
    "* Let's create another sample generator which calculates [fibonacci](https://en.wikipedia.org/wiki/Fibonacci_number) numbers:\n",
    "\n",
    "<img src=\"imgs/Fibonacci_Number.jpg\" width=\"500\"/>\n",
    "\n",
    "<img src=\"imgs/800px-PascalTriangleFibanacci.png\" width=\"500\"/>\n",
    "\n",
    "Source of image and information [Wikipedia](https://en.wikipedia.org/wiki/Fibonacci_number)"
   ]
  },
  {
   "cell_type": "code",
   "execution_count": null,
   "metadata": {
    "colab": {},
    "colab_type": "code",
    "id": "GgqHEYJv5chE",
    "outputId": "8cd366d9-badf-4d1b-8b28-09bbab96345d"
   },
   "outputs": [
    {
     "name": "stdout",
     "output_type": "stream",
     "text": [
      "0 - 1\n",
      "1 - 1\n",
      "2 - 2\n",
      "3 - 3\n",
      "4 - 5\n",
      "5 - 8\n",
      "6 - 13\n",
      "7 - 21\n",
      "8 - 34\n",
      "9 - 55\n"
     ]
    }
   ],
   "source": [
    "'''Generate a fibonacci sequence up to n'''\n",
    "\n",
    "def genfibon(n):\n",
    "    a = 1\n",
    "    b = 1\n",
    "    for i in range(n):\n",
    "        yield a,i\n",
    "        a,b = b,a+b\n",
    "        \n",
    "for num,i in genfibon(10):\n",
    "    print(i,'-',num)"
   ]
  },
  {
   "cell_type": "code",
   "execution_count": null,
   "metadata": {
    "colab": {},
    "colab_type": "code",
    "id": "asfhA3So5chU",
    "outputId": "575a99be-bb93-4e75-d9e0-16a3d53d3b4d"
   },
   "outputs": [
    {
     "data": {
      "text/plain": [
       "[1, 1, 2, 3, 5, 8, 13, 21, 34, 55]"
      ]
     },
     "execution_count": 6,
     "metadata": {
      "tags": []
     },
     "output_type": "execute_result"
    }
   ],
   "source": [
    "'''What if this was a normal function, what would it look like?'''\n",
    "\n",
    "def genfibon(n):\n",
    "    a = 1\n",
    "    b = 1\n",
    "    output = []\n",
    "    \n",
    "    for i in range(n):\n",
    "        output.append(a)\n",
    "        a,b = b,a+b\n",
    "    return output\n",
    "\n",
    "genfibon(10)"
   ]
  },
  {
   "cell_type": "markdown",
   "metadata": {
    "colab_type": "text",
    "id": "FpxDO83f5chb"
   },
   "source": [
    ">**Note:** if we call some huge value of \"n\", the second function will have to keep track of every single result. In our case, we only care about the previous result to generate the next one.\n"
   ]
  },
  {
   "cell_type": "code",
   "execution_count": null,
   "metadata": {
    "colab": {},
    "colab_type": "code",
    "id": "mCnXxXYV5cps"
   },
   "outputs": [],
   "source": []
  },
  {
   "cell_type": "code",
   "execution_count": null,
   "metadata": {
    "colab": {},
    "colab_type": "code",
    "id": "pOYKaHU45cp1"
   },
   "outputs": [],
   "source": []
  },
  {
   "cell_type": "code",
   "execution_count": null,
   "metadata": {
    "colab": {},
    "colab_type": "code",
    "id": "Xwd4_8aQ5cp-"
   },
   "outputs": [],
   "source": []
  },
  {
   "cell_type": "code",
   "execution_count": null,
   "metadata": {
    "colab": {},
    "colab_type": "code",
    "id": "Ed28PZfs5cqF"
   },
   "outputs": [],
   "source": []
  }
 ],
 "metadata": {
  "colab": {
   "collapsed_sections": [],
   "name": "06Iterators and Generators.ipynb",
   "provenance": [],
   "toc_visible": true
  },
  "kernelspec": {
   "display_name": "Python 3",
   "language": "python",
   "name": "python3"
  },
  "language_info": {
   "codemirror_mode": {
    "name": "ipython",
    "version": 3
   },
   "file_extension": ".py",
   "mimetype": "text/x-python",
   "name": "python",
   "nbconvert_exporter": "python",
   "pygments_lexer": "ipython3",
   "version": "3.8.5"
  }
 },
 "nbformat": 4,
 "nbformat_minor": 2
}
