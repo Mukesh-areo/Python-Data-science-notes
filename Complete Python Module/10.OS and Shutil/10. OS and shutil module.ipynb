{
 "cells": [
  {
   "cell_type": "markdown",
   "metadata": {
    "colab_type": "text",
    "id": "QBZVPYVIQ5q5"
   },
   "source": [
    "<img src=\"https://d24cdstip7q8pz.cloudfront.net/t/ineuron1/content/common/images/final%20logo.png\" height=60 alt-text=\"iNeuron.ai logo\">"
   ]
  },
  {
   "cell_type": "markdown",
   "metadata": {
    "colab_type": "text",
    "id": "W9oe8eqERjZV"
   },
   "source": [
    "# Important built In modules\n"
   ]
  },
  {
   "cell_type": "markdown",
   "metadata": {
    "colab_type": "text",
    "id": "s1KCuLgF1LfN"
   },
   "source": [
    "### 10.1 OS module\n",
    "os module is one of the most useful module which is already a part of python's standard distribution library. "
   ]
  },
  {
   "cell_type": "markdown",
   "metadata": {
    "colab_type": "text",
    "id": "H05g2nz9RpBq"
   },
   "source": [
    "**Mainly used methods of os module are as follows:-** \n",
    "* ```os.getcwd()```\n",
    "* ```os.listdir()```\n",
    "* ```os.chdir()```\n",
    "* ```os.path.join```\n",
    "* ```os.mkdir()```, ```os.makedirs()```\n",
    "* ```os.rename()```\n",
    "* ```os.rmdir()```, ```os.removedirs()```"
   ]
  },
  {
   "cell_type": "markdown",
   "metadata": {
    "colab_type": "text",
    "id": "2vY4JiAjbiGS"
   },
   "source": [
    "#### 10.1.1 os.getcwd()\n",
    "It returns you the path of present/current working directory"
   ]
  },
  {
   "cell_type": "code",
   "execution_count": 1,
   "metadata": {
    "colab": {
     "base_uri": "https://localhost:8080/",
     "height": 53
    },
    "colab_type": "code",
    "executionInfo": {
     "elapsed": 1437,
     "status": "ok",
     "timestamp": 1597699911681,
     "user": {
      "displayName": "SUNNY BHAVEEN CHANDRA",
      "photoUrl": "https://lh3.googleusercontent.com/a-/AOh14GhEYJkaaSU5CST0x1qOWVQ1ebdsHY1yUGtmQh5J=s64",
      "userId": "13855564974173009808"
     },
     "user_tz": -330
    },
    "id": "5eDXlItBRdxn",
    "outputId": "21ccd4bb-832f-4872-eaee-982048667207"
   },
   "outputs": [
    {
     "name": "stdout",
     "output_type": "stream",
     "text": [
      "present or current working directory is:-\n",
      "/content\n"
     ]
    }
   ],
   "source": [
    "import os # importing os library\n",
    "\n",
    "print(f\"present or current working directory is:-\\n{os.getcwd()}\")"
   ]
  },
  {
   "cell_type": "markdown",
   "metadata": {
    "colab_type": "text",
    "id": "tCkq1kwzbmEF"
   },
   "source": [
    "#### 10.1.2 os.listdir()\n",
    "* It returns the list of files and folders present in the present working directory or in the directory who's path is passed as an argument\n",
    "\n",
    "* By default if no argument is passed it takes path as present working directory"
   ]
  },
  {
   "cell_type": "code",
   "execution_count": 2,
   "metadata": {
    "colab": {
     "base_uri": "https://localhost:8080/",
     "height": 53
    },
    "colab_type": "code",
    "executionInfo": {
     "elapsed": 1421,
     "status": "ok",
     "timestamp": 1597699911684,
     "user": {
      "displayName": "SUNNY BHAVEEN CHANDRA",
      "photoUrl": "https://lh3.googleusercontent.com/a-/AOh14GhEYJkaaSU5CST0x1qOWVQ1ebdsHY1yUGtmQh5J=s64",
      "userId": "13855564974173009808"
     },
     "user_tz": -330
    },
    "id": "_eub9Vcka3m9",
    "outputId": "43f3e12c-c7a6-4aee-ad93-1a4b70b44f18"
   },
   "outputs": [
    {
     "name": "stdout",
     "output_type": "stream",
     "text": [
      "list of all the directories and files present in the current working directory:-\n",
      "['.config', 'sample_data']\n"
     ]
    }
   ],
   "source": [
    "import os # importing os library\n",
    "\n",
    "list_of_dirs_and_files = os.listdir()\n",
    "print(f\"list of all the directories and files present in the current working directory:-\\n{list_of_dirs_and_files}\")"
   ]
  },
  {
   "cell_type": "code",
   "execution_count": 3,
   "metadata": {
    "colab": {
     "base_uri": "https://localhost:8080/",
     "height": 73
    },
    "colab_type": "code",
    "executionInfo": {
     "elapsed": 1410,
     "status": "ok",
     "timestamp": 1597699911686,
     "user": {
      "displayName": "SUNNY BHAVEEN CHANDRA",
      "photoUrl": "https://lh3.googleusercontent.com/a-/AOh14GhEYJkaaSU5CST0x1qOWVQ1ebdsHY1yUGtmQh5J=s64",
      "userId": "13855564974173009808"
     },
     "user_tz": -330
    },
    "id": "yYQP2SoicHEg",
    "outputId": "4d549f6a-2e44-4424-f219-f9a9c2d6acf7"
   },
   "outputs": [
    {
     "name": "stdout",
     "output_type": "stream",
     "text": [
      "list of all the directories and files present in the given path: sample_data/ is:-\n",
      "['anscombe.json', 'README.md', 'california_housing_train.csv', 'mnist_test.csv', 'mnist_train_small.csv', 'california_housing_test.csv']\n"
     ]
    }
   ],
   "source": [
    "import os # importing os library\n",
    "\n",
    "path = \"sample_data/\"\n",
    "list_of_dirs_and_files_at_path = os.listdir(path)\n",
    "print(f\"list of all the directories and files present in the given path: {path} is:-\\n{list_of_dirs_and_files_at_path}\")"
   ]
  },
  {
   "cell_type": "markdown",
   "metadata": {
    "colab_type": "text",
    "id": "KtMHrCETcb_k"
   },
   "source": [
    "#### 10.1.3 os.chdir()\n",
    "It helps you to change to directory who's path is given to this method as an argument."
   ]
  },
  {
   "cell_type": "code",
   "execution_count": 4,
   "metadata": {
    "colab": {
     "base_uri": "https://localhost:8080/",
     "height": 107
    },
    "colab_type": "code",
    "executionInfo": {
     "elapsed": 1398,
     "status": "ok",
     "timestamp": 1597699911687,
     "user": {
      "displayName": "SUNNY BHAVEEN CHANDRA",
      "photoUrl": "https://lh3.googleusercontent.com/a-/AOh14GhEYJkaaSU5CST0x1qOWVQ1ebdsHY1yUGtmQh5J=s64",
      "userId": "13855564974173009808"
     },
     "user_tz": -330
    },
    "id": "HM2YzGuEcWPR",
    "outputId": "3fb533f8-352b-482e-bade-e1a004ec7c5c"
   },
   "outputs": [
    {
     "name": "stdout",
     "output_type": "stream",
     "text": [
      "Our current working directory before changing directory is: \n",
      "/content\n",
      "\n",
      "Our current working directory after changing directory to path: sample_data/ is:- \n",
      "/content/sample_data\n"
     ]
    }
   ],
   "source": [
    "import os # importing os library\n",
    "\n",
    "print(f\"Our current working directory before changing directory is: \\n{os.getcwd()}\\n\")\n",
    "\n",
    "change_dir_to_path = \"sample_data/\"\n",
    "os.chdir(change_dir_to_path)\n",
    "\n",
    "print(f\"Our current working directory after changing directory to path: {change_dir_to_path} is:- \\n{os.getcwd()}\")"
   ]
  },
  {
   "cell_type": "code",
   "execution_count": 5,
   "metadata": {
    "colab": {
     "base_uri": "https://localhost:8080/",
     "height": 35
    },
    "colab_type": "code",
    "executionInfo": {
     "elapsed": 1386,
     "status": "ok",
     "timestamp": 1597699911688,
     "user": {
      "displayName": "SUNNY BHAVEEN CHANDRA",
      "photoUrl": "https://lh3.googleusercontent.com/a-/AOh14GhEYJkaaSU5CST0x1qOWVQ1ebdsHY1yUGtmQh5J=s64",
      "userId": "13855564974173009808"
     },
     "user_tz": -330
    },
    "id": "9hdhiSEOdMqd",
    "outputId": "7b25658f-55df-4edd-c00a-297f4bfe309f"
   },
   "outputs": [
    {
     "data": {
      "application/vnd.google.colaboratory.intrinsic+json": {
       "type": "string"
      },
      "text/plain": [
       "'/content'"
      ]
     },
     "execution_count": 5,
     "metadata": {
      "tags": []
     },
     "output_type": "execute_result"
    }
   ],
   "source": [
    "os.chdir(\"../\")\n",
    "os.getcwd()"
   ]
  },
  {
   "cell_type": "markdown",
   "metadata": {
    "colab_type": "text",
    "id": "iaTVcRAAn5yg"
   },
   "source": [
    "#### 10.1.4 os.path.join\n",
    "This is the most frequently used method. It helps you to join path based on your OS. It helps us to make the project platform independent."
   ]
  },
  {
   "cell_type": "code",
   "execution_count": 6,
   "metadata": {
    "colab": {
     "base_uri": "https://localhost:8080/",
     "height": 35
    },
    "colab_type": "code",
    "executionInfo": {
     "elapsed": 1366,
     "status": "ok",
     "timestamp": 1597699911689,
     "user": {
      "displayName": "SUNNY BHAVEEN CHANDRA",
      "photoUrl": "https://lh3.googleusercontent.com/a-/AOh14GhEYJkaaSU5CST0x1qOWVQ1ebdsHY1yUGtmQh5J=s64",
      "userId": "13855564974173009808"
     },
     "user_tz": -330
    },
    "id": "R2N1_QFCn8cE",
    "outputId": "4097ad14-4383-46fa-fae5-5f04096142f9"
   },
   "outputs": [
    {
     "data": {
      "application/vnd.google.colaboratory.intrinsic+json": {
       "type": "string"
      },
      "text/plain": [
       "'mainDir/subDir_or_file'"
      ]
     },
     "execution_count": 6,
     "metadata": {
      "tags": []
     },
     "output_type": "execute_result"
    }
   ],
   "source": [
    "import os\n",
    "\n",
    "mainPath = \"mainDir\" \n",
    "subDir_or_file = \"subDir_or_file\"\n",
    "\n",
    "# this creates a path based on your present os\n",
    "path_to_subdir_or_file = os.path.join(mainPath, subDir_or_file)\n",
    "path_to_subdir_or_file"
   ]
  },
  {
   "cell_type": "markdown",
   "metadata": {
    "colab_type": "text",
    "id": "J-fUsd1QfAGq"
   },
   "source": [
    "#### 10.1.5 os.mkdir() and os.makedirs()\n",
    "* mkdir makes one directory at the path given to it as an argument. \n",
    "> **NOTE**: If path contains parent directory and if parent directories doesn;t exists then it'll raise a ```FileNotFoundError```\n",
    "error\n",
    "\n",
    "* makedirs makes directory inside directory recursively. If parent directores doesn't exists then it'll create it for you."
   ]
  },
  {
   "cell_type": "code",
   "execution_count": 7,
   "metadata": {
    "colab": {},
    "colab_type": "code",
    "executionInfo": {
     "elapsed": 1359,
     "status": "ok",
     "timestamp": 1597699911691,
     "user": {
      "displayName": "SUNNY BHAVEEN CHANDRA",
      "photoUrl": "https://lh3.googleusercontent.com/a-/AOh14GhEYJkaaSU5CST0x1qOWVQ1ebdsHY1yUGtmQh5J=s64",
      "userId": "13855564974173009808"
     },
     "user_tz": -330
    },
    "id": "0cRDGXpHejri"
   },
   "outputs": [],
   "source": [
    "import os\n",
    "\n",
    "# make directory in present working directory\n",
    "dirName = 'iNeuron'\n",
    "os.mkdir(dirName)"
   ]
  },
  {
   "cell_type": "code",
   "execution_count": 8,
   "metadata": {
    "colab": {
     "base_uri": "https://localhost:8080/",
     "height": 35
    },
    "colab_type": "code",
    "executionInfo": {
     "elapsed": 1341,
     "status": "ok",
     "timestamp": 1597699911692,
     "user": {
      "displayName": "SUNNY BHAVEEN CHANDRA",
      "photoUrl": "https://lh3.googleusercontent.com/a-/AOh14GhEYJkaaSU5CST0x1qOWVQ1ebdsHY1yUGtmQh5J=s64",
      "userId": "13855564974173009808"
     },
     "user_tz": -330
    },
    "id": "QyoQKbTefQsj",
    "outputId": "ded61ab3-38ea-4994-b9ae-5d7accfe0271"
   },
   "outputs": [
    {
     "name": "stdout",
     "output_type": "stream",
     "text": [
      "iNeuron is present\n"
     ]
    }
   ],
   "source": [
    "# Verify that iNeuron is created-\n",
    "if dirName in os.listdir():\n",
    "    print(f\"{dirName} is present\")\n",
    "else:\n",
    "    print(f\"{dirName} is present\")"
   ]
  },
  {
   "cell_type": "code",
   "execution_count": 9,
   "metadata": {
    "colab": {},
    "colab_type": "code",
    "executionInfo": {
     "elapsed": 1331,
     "status": "ok",
     "timestamp": 1597699911693,
     "user": {
      "displayName": "SUNNY BHAVEEN CHANDRA",
      "photoUrl": "https://lh3.googleusercontent.com/a-/AOh14GhEYJkaaSU5CST0x1qOWVQ1ebdsHY1yUGtmQh5J=s64",
      "userId": "13855564974173009808"
     },
     "user_tz": -330
    },
    "id": "YEd7MpZ2n0ej"
   },
   "outputs": [],
   "source": [
    "# to make folders recurseively use -\n",
    "import os\n",
    "\n",
    "mainPath = \"iNeuron\" \n",
    "subDir_or_file = \"deepLearning\"\n",
    "\n",
    "# this creates a path based on your present os\n",
    "path_to_subdir_or_file = os.path.join(mainPath, subDir_or_file)\n",
    "\n",
    "# this creates folders recursively if not present\n",
    "os.makedirs(path_to_subdir_or_file)"
   ]
  },
  {
   "cell_type": "code",
   "execution_count": 10,
   "metadata": {
    "colab": {
     "base_uri": "https://localhost:8080/",
     "height": 226
    },
    "colab_type": "code",
    "executionInfo": {
     "elapsed": 2066,
     "status": "error",
     "timestamp": 1597699912440,
     "user": {
      "displayName": "SUNNY BHAVEEN CHANDRA",
      "photoUrl": "https://lh3.googleusercontent.com/a-/AOh14GhEYJkaaSU5CST0x1qOWVQ1ebdsHY1yUGtmQh5J=s64",
      "userId": "13855564974173009808"
     },
     "user_tz": -330
    },
    "id": "BBs3O8t-gDps",
    "outputId": "723c34d4-2709-406a-af28-a8f02e04e884"
   },
   "outputs": [
    {
     "ename": "FileExistsError",
     "evalue": "ignored",
     "output_type": "error",
     "traceback": [
      "\u001b[0;31m---------------------------------------------------------------------------\u001b[0m",
      "\u001b[0;31mFileExistsError\u001b[0m                           Traceback (most recent call last)",
      "\u001b[0;32m<ipython-input-10-6dba15c8ab41>\u001b[0m in \u001b[0;36m<module>\u001b[0;34m()\u001b[0m\n\u001b[1;32m      1\u001b[0m \u001b[0;31m# you'll get an FileExistsError if directory is already present by the same name in present working directory -\u001b[0m\u001b[0;34m\u001b[0m\u001b[0;34m\u001b[0m\u001b[0;34m\u001b[0m\u001b[0m\n\u001b[1;32m      2\u001b[0m \u001b[0mdirName\u001b[0m \u001b[0;34m=\u001b[0m \u001b[0;34m'iNeuron'\u001b[0m\u001b[0;34m\u001b[0m\u001b[0;34m\u001b[0m\u001b[0m\n\u001b[0;32m----> 3\u001b[0;31m \u001b[0mos\u001b[0m\u001b[0;34m.\u001b[0m\u001b[0mmkdir\u001b[0m\u001b[0;34m(\u001b[0m\u001b[0mdirName\u001b[0m\u001b[0;34m)\u001b[0m\u001b[0;34m\u001b[0m\u001b[0;34m\u001b[0m\u001b[0m\n\u001b[0m",
      "\u001b[0;31mFileExistsError\u001b[0m: [Errno 17] File exists: 'iNeuron'"
     ]
    }
   ],
   "source": [
    "# you'll get an FileExistsError if directory is already present by the same name in present working directory -\n",
    "dirName = 'iNeuron'\n",
    "os.mkdir(dirName)"
   ]
  },
  {
   "cell_type": "code",
   "execution_count": 11,
   "metadata": {
    "colab": {
     "base_uri": "https://localhost:8080/",
     "height": 35
    },
    "colab_type": "code",
    "executionInfo": {
     "elapsed": 1135,
     "status": "ok",
     "timestamp": 1597699941447,
     "user": {
      "displayName": "SUNNY BHAVEEN CHANDRA",
      "photoUrl": "https://lh3.googleusercontent.com/a-/AOh14GhEYJkaaSU5CST0x1qOWVQ1ebdsHY1yUGtmQh5J=s64",
      "userId": "13855564974173009808"
     },
     "user_tz": -330
    },
    "id": "7t5LQTYYpcmx",
    "outputId": "c6baf700-fe7c-4696-abb6-4228ecc386a7"
   },
   "outputs": [
    {
     "name": "stdout",
     "output_type": "stream",
     "text": [
      "iNeuron directory already exists\n"
     ]
    }
   ],
   "source": [
    "# to prevent above case you can use conditions -\n",
    "dirName = 'iNeuron'\n",
    "if not os.path.isdir(dirName): # in case of file use os.path.isFile()\n",
    "    os.mkdir(dirName)\n",
    "else:\n",
    "    print(f\"{dirName} directory already exists\")"
   ]
  },
  {
   "cell_type": "code",
   "execution_count": 12,
   "metadata": {
    "colab": {},
    "colab_type": "code",
    "executionInfo": {
     "elapsed": 1158,
     "status": "ok",
     "timestamp": 1597699950292,
     "user": {
      "displayName": "SUNNY BHAVEEN CHANDRA",
      "photoUrl": "https://lh3.googleusercontent.com/a-/AOh14GhEYJkaaSU5CST0x1qOWVQ1ebdsHY1yUGtmQh5J=s64",
      "userId": "13855564974173009808"
     },
     "user_tz": -330
    },
    "id": "KngXrEy5qEk1"
   },
   "outputs": [],
   "source": [
    "# FileExistsError can be prevented by using exist_ok argument\n",
    "import os\n",
    "\n",
    "mainPath = \"iNeuron\" \n",
    "subDir_or_file = \"deepLearning\"\n",
    "path_to_subdir_or_file = os.path.join(mainPath, subDir_or_file)\n",
    "\n",
    "# this creates folders recursively and prevent any FileExistsError -\n",
    "os.makedirs(path_to_subdir_or_file, exist_ok=True)"
   ]
  },
  {
   "cell_type": "markdown",
   "metadata": {
    "colab_type": "text",
    "id": "mjxbbQy11L9v"
   },
   "source": [
    "#### 10.1.6 os.rename\n",
    "This helps us to rename directory or files"
   ]
  },
  {
   "cell_type": "code",
   "execution_count": 13,
   "metadata": {
    "colab": {},
    "colab_type": "code",
    "executionInfo": {
     "elapsed": 1423,
     "status": "ok",
     "timestamp": 1597699954217,
     "user": {
      "displayName": "SUNNY BHAVEEN CHANDRA",
      "photoUrl": "https://lh3.googleusercontent.com/a-/AOh14GhEYJkaaSU5CST0x1qOWVQ1ebdsHY1yUGtmQh5J=s64",
      "userId": "13855564974173009808"
     },
     "user_tz": -330
    },
    "id": "W1ZNJsY11LkD"
   },
   "outputs": [],
   "source": [
    "import os\n",
    "\n",
    "oldName = \"iNeuron\"\n",
    "newName = \"iNeuron_ai\"\n",
    "\n",
    "os.rename(oldName, newName)"
   ]
  },
  {
   "cell_type": "markdown",
   "metadata": {
    "colab_type": "text",
    "id": "DIfTcQKK1vTL"
   },
   "source": [
    "#### 10.1.7 os.rmdir\n",
    "This can help us to remove and directory or file at the given path."
   ]
  },
  {
   "cell_type": "code",
   "execution_count": 16,
   "metadata": {
    "colab": {},
    "colab_type": "code",
    "executionInfo": {
     "elapsed": 1161,
     "status": "ok",
     "timestamp": 1597700037962,
     "user": {
      "displayName": "SUNNY BHAVEEN CHANDRA",
      "photoUrl": "https://lh3.googleusercontent.com/a-/AOh14GhEYJkaaSU5CST0x1qOWVQ1ebdsHY1yUGtmQh5J=s64",
      "userId": "13855564974173009808"
     },
     "user_tz": -330
    },
    "id": "AfecRHQSVtD3"
   },
   "outputs": [],
   "source": [
    "import os\n",
    "\n",
    "os.makedirs(\"iNeuron_ai/deepLearning\", exist_ok=True)\n",
    "os.makedirs(\"iNeuron\", exist_ok=True)"
   ]
  },
  {
   "cell_type": "code",
   "execution_count": 17,
   "metadata": {
    "colab": {
     "base_uri": "https://localhost:8080/",
     "height": 35
    },
    "colab_type": "code",
    "executionInfo": {
     "elapsed": 1309,
     "status": "ok",
     "timestamp": 1597700045339,
     "user": {
      "displayName": "SUNNY BHAVEEN CHANDRA",
      "photoUrl": "https://lh3.googleusercontent.com/a-/AOh14GhEYJkaaSU5CST0x1qOWVQ1ebdsHY1yUGtmQh5J=s64",
      "userId": "13855564974173009808"
     },
     "user_tz": -330
    },
    "id": "yR6NJ8cf1vEH",
    "outputId": "3833a892-27fc-46da-b4de-d0ae96965dec"
   },
   "outputs": [
    {
     "name": "stdout",
     "output_type": "stream",
     "text": [
      "iNeuron deleted\n"
     ]
    }
   ],
   "source": [
    "import os\n",
    "\n",
    "delDir = \"iNeuron\"\n",
    "os.rmdir(delDir)\n",
    "\n",
    "print(f\"{delDir} deleted\")"
   ]
  },
  {
   "cell_type": "markdown",
   "metadata": {
    "colab_type": "text",
    "id": "sXZPzoYo2ZUJ"
   },
   "source": [
    "#### 10.1.8 os.removedirs()\n",
    "This removes directory recursively"
   ]
  },
  {
   "cell_type": "code",
   "execution_count": 18,
   "metadata": {
    "colab": {
     "base_uri": "https://localhost:8080/",
     "height": 35
    },
    "colab_type": "code",
    "executionInfo": {
     "elapsed": 1116,
     "status": "ok",
     "timestamp": 1597700050816,
     "user": {
      "displayName": "SUNNY BHAVEEN CHANDRA",
      "photoUrl": "https://lh3.googleusercontent.com/a-/AOh14GhEYJkaaSU5CST0x1qOWVQ1ebdsHY1yUGtmQh5J=s64",
      "userId": "13855564974173009808"
     },
     "user_tz": -330
    },
    "id": "5Lj0jcTA1oui",
    "outputId": "e44f1c56-0eed-4d58-d184-591e1c2631b0"
   },
   "outputs": [
    {
     "name": "stdout",
     "output_type": "stream",
     "text": [
      "iNeuron_ai/deepLearning deleted\n"
     ]
    }
   ],
   "source": [
    "import os\n",
    "\n",
    "remove_dirs = \"iNeuron_ai/deepLearning\"\n",
    "os.removedirs(remove_dirs)\n",
    "\n",
    "print(f\"{remove_dirs} deleted\") # deletes till iNeuron_ai folder"
   ]
  },
  {
   "cell_type": "markdown",
   "metadata": {
    "colab_type": "text",
    "id": "fyBdgx630qUu"
   },
   "source": [
    "> there are other methods are also present in the os module which can be refered at - <a href=\"https://docs.python.org/3/library/os.html\" target=\"_blank\">official docs</a>"
   ]
  },
  {
   "cell_type": "markdown",
   "metadata": {
    "colab_type": "text",
    "id": "9xf4Fz7t7sxk"
   },
   "source": [
    "---\n",
    "\n"
   ]
  },
  {
   "cell_type": "markdown",
   "metadata": {
    "colab_type": "text",
    "id": "wjtLC9Ri2bcW"
   },
   "source": [
    "### 10.2 Shutil module"
   ]
  },
  {
   "cell_type": "markdown",
   "metadata": {
    "colab_type": "text",
    "id": "WXK-EUeM9JZa"
   },
   "source": [
    "#### 10.2.1 shutil.move\n",
    "This helps us to move the files from source to desctination path"
   ]
  },
  {
   "cell_type": "code",
   "execution_count": 19,
   "metadata": {
    "colab": {},
    "colab_type": "code",
    "executionInfo": {
     "elapsed": 987,
     "status": "ok",
     "timestamp": 1597700075237,
     "user": {
      "displayName": "SUNNY BHAVEEN CHANDRA",
      "photoUrl": "https://lh3.googleusercontent.com/a-/AOh14GhEYJkaaSU5CST0x1qOWVQ1ebdsHY1yUGtmQh5J=s64",
      "userId": "13855564974173009808"
     },
     "user_tz": -330
    },
    "id": "wHVVjsoQ7wi6"
   },
   "outputs": [],
   "source": [
    "import os\n",
    "\n",
    "os.makedirs(\"deepLearning\", exist_ok=True)\n",
    "os.makedirs(\"iNeuron\", exist_ok=True)"
   ]
  },
  {
   "cell_type": "code",
   "execution_count": 20,
   "metadata": {
    "colab": {
     "base_uri": "https://localhost:8080/",
     "height": 35
    },
    "colab_type": "code",
    "executionInfo": {
     "elapsed": 1128,
     "status": "ok",
     "timestamp": 1597700078780,
     "user": {
      "displayName": "SUNNY BHAVEEN CHANDRA",
      "photoUrl": "https://lh3.googleusercontent.com/a-/AOh14GhEYJkaaSU5CST0x1qOWVQ1ebdsHY1yUGtmQh5J=s64",
      "userId": "13855564974173009808"
     },
     "user_tz": -330
    },
    "id": "G4lc4OEQ722c",
    "outputId": "2aa85664-9389-4eac-f269-5127fd14498e"
   },
   "outputs": [
    {
     "data": {
      "application/vnd.google.colaboratory.intrinsic+json": {
       "type": "string"
      },
      "text/plain": [
       "'iNeuron/deepLearning'"
      ]
     },
     "execution_count": 20,
     "metadata": {
      "tags": []
     },
     "output_type": "execute_result"
    }
   ],
   "source": [
    "import shutil\n",
    "\n",
    "shutil.move(\"deepLearning/\", \"iNeuron/\")"
   ]
  },
  {
   "cell_type": "markdown",
   "metadata": {
    "colab_type": "text",
    "id": "YsvfApbQ9GP4"
   },
   "source": [
    "#### 10.2.2 shutil.copy\n",
    "This copies files from source to destination location"
   ]
  },
  {
   "cell_type": "code",
   "execution_count": 21,
   "metadata": {
    "colab": {},
    "colab_type": "code",
    "executionInfo": {
     "elapsed": 3832,
     "status": "ok",
     "timestamp": 1597700111630,
     "user": {
      "displayName": "SUNNY BHAVEEN CHANDRA",
      "photoUrl": "https://lh3.googleusercontent.com/a-/AOh14GhEYJkaaSU5CST0x1qOWVQ1ebdsHY1yUGtmQh5J=s64",
      "userId": "13855564974173009808"
     },
     "user_tz": -330
    },
    "id": "dbW_WJQW7-0B"
   },
   "outputs": [],
   "source": [
    "# create a temp file by name ml.txt\n",
    "!touch ml.txt"
   ]
  },
  {
   "cell_type": "code",
   "execution_count": 22,
   "metadata": {
    "colab": {
     "base_uri": "https://localhost:8080/",
     "height": 35
    },
    "colab_type": "code",
    "executionInfo": {
     "elapsed": 1101,
     "status": "ok",
     "timestamp": 1597700113674,
     "user": {
      "displayName": "SUNNY BHAVEEN CHANDRA",
      "photoUrl": "https://lh3.googleusercontent.com/a-/AOh14GhEYJkaaSU5CST0x1qOWVQ1ebdsHY1yUGtmQh5J=s64",
      "userId": "13855564974173009808"
     },
     "user_tz": -330
    },
    "id": "qOj6-l5U8zJz",
    "outputId": "9e5ff9d8-a2fc-4c9e-eff2-30479c9894a3"
   },
   "outputs": [
    {
     "data": {
      "application/vnd.google.colaboratory.intrinsic+json": {
       "type": "string"
      },
      "text/plain": [
       "'iNeuron/ml.txt'"
      ]
     },
     "execution_count": 22,
     "metadata": {
      "tags": []
     },
     "output_type": "execute_result"
    }
   ],
   "source": [
    "import shutil\n",
    "\n",
    "source = \"ml.txt\"\n",
    "destination = \"iNeuron\"\n",
    "\n",
    "shutil.copy(src=source, dst=destination)"
   ]
  },
  {
   "cell_type": "markdown",
   "metadata": {
    "colab_type": "text",
    "id": "fK9DmgcH8Gy2"
   },
   "source": [
    "> for more details refer official docs at - <a href=\"https://docs.python.org/3/library/shutil.html\" target=\"_blank\">official docs</a>"
   ]
  }
 ],
 "metadata": {
  "colab": {
   "authorship_tag": "ABX9TyPLwytJZcRkrMefvlXPj8UH",
   "collapsed_sections": [],
   "name": "10. OS and shutil module.ipynb",
   "provenance": []
  },
  "kernelspec": {
   "display_name": "Python 3",
   "language": "python",
   "name": "python3"
  },
  "language_info": {
   "codemirror_mode": {
    "name": "ipython",
    "version": 3
   },
   "file_extension": ".py",
   "mimetype": "text/x-python",
   "name": "python",
   "nbconvert_exporter": "python",
   "pygments_lexer": "ipython3",
   "version": "3.8.5"
  }
 },
 "nbformat": 4,
 "nbformat_minor": 1
}
