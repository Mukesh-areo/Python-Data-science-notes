{
 "cells": [
  {
   "cell_type": "markdown",
   "metadata": {
    "colab_type": "text",
    "id": "emIqoquCSUlM"
   },
   "source": [
    "<img src=\"https://d24cdstip7q8pz.cloudfront.net/t/ineuron1/content/common/images/final%20logo.png\" height=60 alt-text=\"iNeuron.ai logo\">"
   ]
  },
  {
   "cell_type": "markdown",
   "metadata": {
    "colab_type": "text",
    "id": "fEf0kwLeSUlO"
   },
   "source": [
    "## 3.1 Basics of Python\n",
    "\n",
    "Python is a high-level, dynamically typed multiparadigm programming language. Python code is often said to be almost like pseudocode, since it allows you to express very powerful ideas in very few lines of code while being very readable.\n",
    "\n",
    "Before going for variables in python, Let's have a look at simple hello world program in python.\n",
    "> **Note:** All below examples are using python 3 version. There is syntactically difference in python different versions(python 2 and python 3)"
   ]
  },
  {
   "cell_type": "code",
   "execution_count": null,
   "metadata": {
    "colab": {},
    "colab_type": "code",
    "id": "uOGl0GnNSUlT",
    "outputId": "0b673f8a-1b37-495e-eb89-fc6b47383b61"
   },
   "outputs": [
    {
     "name": "stdout",
     "output_type": "stream",
     "text": [
      "Hello, world\n"
     ]
    }
   ],
   "source": [
    "# Python 3\n",
    "print(\"Hello, world\")"
   ]
  },
  {
   "cell_type": "code",
   "execution_count": null,
   "metadata": {
    "colab": {},
    "colab_type": "code",
    "id": "TebC2v5eSUle",
    "outputId": "0fc389ec-ba48-410d-9d35-05b7a184105e"
   },
   "outputs": [
    {
     "ename": "SyntaxError",
     "evalue": "Missing parentheses in call to 'print'. Did you mean print(\"hello, world\")? (<ipython-input-3-0df62ad6f325>, line 2)",
     "output_type": "error",
     "traceback": [
      "\u001b[1;36m  File \u001b[1;32m\"<ipython-input-3-0df62ad6f325>\"\u001b[1;36m, line \u001b[1;32m2\u001b[0m\n\u001b[1;33m    print \"hello, world\"\u001b[0m\n\u001b[1;37m                       ^\u001b[0m\n\u001b[1;31mSyntaxError\u001b[0m\u001b[1;31m:\u001b[0m Missing parentheses in call to 'print'. Did you mean print(\"hello, world\")?\n"
     ]
    }
   ],
   "source": [
    "# python 2\n",
    "print \"hello, world\""
   ]
  },
  {
   "cell_type": "markdown",
   "metadata": {
    "colab_type": "text",
    "id": "oZwj3znXSUlj"
   },
   "source": [
    "Above python 2 statement gives error as this code is for python 3 & If you are using python 2 then syntax will be different"
   ]
  },
  {
   "cell_type": "markdown",
   "metadata": {
    "colab_type": "text",
    "id": "nMyD-MRwSUll"
   },
   "source": [
    "Let's have few more examples:-"
   ]
  },
  {
   "cell_type": "code",
   "execution_count": null,
   "metadata": {
    "colab": {},
    "colab_type": "code",
    "id": "I1znGvHvSUlo",
    "outputId": "dfa1f05a-3b1c-402c-8b63-e77335929ca8"
   },
   "outputs": [
    {
     "name": "stdout",
     "output_type": "stream",
     "text": [
      "Greetings from ineuron!\n",
      "Good morning!\n",
      "Keep doing hard work to achieve your goals in your life\n",
      "All our dreams can come true, if we have the courage to pursue them. – Walt Disney\n"
     ]
    }
   ],
   "source": [
    "print(\"Greetings from ineuron!\")\n",
    "print(\"Good morning!\")\n",
    "print(\"Keep doing hard work to achieve your goals in your life\")\n",
    "print(\"All our dreams can come true, if we have the courage to pursue them. – Walt Disney\")"
   ]
  },
  {
   "cell_type": "markdown",
   "metadata": {
    "colab_type": "text",
    "id": "tEkrflxoSUlx"
   },
   "source": [
    "## 3.2 Comments in python\n",
    "\n",
    "Comments in python is responsible for not executing that piece of code. You can add comment by using ctrl `+` `/` or by using `#`"
   ]
  },
  {
   "cell_type": "code",
   "execution_count": null,
   "metadata": {
    "colab": {},
    "colab_type": "code",
    "id": "cOF67xleSUlz",
    "outputId": "cc2279c4-5f5f-4e4e-95b5-f480a548349e"
   },
   "outputs": [
    {
     "name": "stdout",
     "output_type": "stream",
     "text": [
      "As this is not commented, this print statement will execute\n"
     ]
    }
   ],
   "source": [
    "# This piece of code will not execute\n",
    "# print(\"As this is commented, this print statement will not execute\")\n",
    "\n",
    "# This piece if code will execute\n",
    "print(\"As this is not commented, this print statement will execute\")"
   ]
  },
  {
   "cell_type": "code",
   "execution_count": null,
   "metadata": {
    "colab": {},
    "colab_type": "code",
    "id": "eoSvMePUSUl8"
   },
   "outputs": [],
   "source": [
    "# print(\"hii\")\n",
    "# print(\"ineuron\")\n",
    "# print(\"welcome to Data science course\")*/"
   ]
  },
  {
   "cell_type": "markdown",
   "metadata": {
    "colab_type": "text",
    "id": "LI3_RywUSUmB"
   },
   "source": [
    "Unlike other programming languages Python doesn't support multi-line comment blocks out of the box.\n",
    "For multiple line comment, we need to insert # single-line comments in evry line. "
   ]
  },
  {
   "cell_type": "markdown",
   "metadata": {
    "colab_type": "text",
    "id": "hsh6vAffSUmD"
   },
   "source": [
    "For multiple line, we can use `\"\"\"` or `'''` (triple quotes) which we can use if our string doesn't fit into single line.See example below."
   ]
  },
  {
   "cell_type": "code",
   "execution_count": null,
   "metadata": {
    "colab": {},
    "colab_type": "code",
    "id": "g7vjFNG2SUmE",
    "outputId": "c8bd7960-a25b-41d2-9b19-8662bef39507"
   },
   "outputs": [
    {
     "data": {
      "text/plain": [
       "' Multi-line comment used \\nprint(\"Python Comments\") '"
      ]
     },
     "execution_count": 59,
     "metadata": {
      "tags": []
     },
     "output_type": "execute_result"
    }
   ],
   "source": [
    "\"\"\" Multi-line comment used \n",
    "print(\"Python Comments\") \"\"\""
   ]
  },
  {
   "cell_type": "markdown",
   "metadata": {
    "colab_type": "text",
    "id": "5STi9KR-SUmL"
   },
   "source": [
    "## 3.3 Variables in python\n",
    "\n",
    "In any programming language, variable is nothing but just a name for identity. Like we all have our name and from our name people will recognize oneself and identify oneself.So Developers will use variables/ variable names to make the code more user-friendly , just like an english language so that no one will lost in the code.If any third person will see the code, they will be able to understand the code and the meaning behind it easily just by seeing useful variable names.\n",
    "\n",
    "In a more technical term,we can say that variables in python are the values that will vary.A variable is used to store a value. According to the requirement, this value of variable may change in future.\n",
    "\n",
    "In python, there is no need of declaring variable as soon as you assign something to a variable variable is called declared. explicitely we don't need any declaration."
   ]
  },
  {
   "cell_type": "markdown",
   "metadata": {
    "colab_type": "text",
    "id": "3arqVnU0SUmQ"
   },
   "source": [
    "### 3.1 Definining\n",
    "\n",
    "A variable in Python is defined through assignment. There is no concept of declaring a variable outside of that assignment."
   ]
  },
  {
   "cell_type": "code",
   "execution_count": null,
   "metadata": {
    "colab": {
     "base_uri": "https://localhost:8080/",
     "height": 34
    },
    "colab_type": "code",
    "executionInfo": {
     "elapsed": 2001,
     "status": "ok",
     "timestamp": 1597652355919,
     "user": {
      "displayName": "khushali shah",
      "photoUrl": "https://lh3.googleusercontent.com/a-/AOh14Gin-WGUtjrJSNaMWLlI-Wr_VJF7QMxCHLiP64LO=s64",
      "userId": "00155816219623022725"
     },
     "user_tz": -330
    },
    "id": "UlMfXiH6SUmT",
    "outputId": "717134f3-b6d6-4f30-dcac-cafb133711b1"
   },
   "outputs": [
    {
     "data": {
      "text/plain": [
       "10"
      ]
     },
     "execution_count": 9,
     "metadata": {
      "tags": []
     },
     "output_type": "execute_result"
    }
   ],
   "source": [
    "# Assigning value to variable and printing the variable\n",
    "tenth = 10\n",
    "tenth"
   ]
  },
  {
   "cell_type": "code",
   "execution_count": null,
   "metadata": {
    "colab": {
     "base_uri": "https://localhost:8080/",
     "height": 34
    },
    "colab_type": "code",
    "executionInfo": {
     "elapsed": 1373,
     "status": "ok",
     "timestamp": 1597649648353,
     "user": {
      "displayName": "khushali shah",
      "photoUrl": "https://lh3.googleusercontent.com/a-/AOh14Gin-WGUtjrJSNaMWLlI-Wr_VJF7QMxCHLiP64LO=s64",
      "userId": "00155816219623022725"
     },
     "user_tz": -330
    },
    "id": "U0FgqCIaSUmZ",
    "outputId": "7ae4bd24-06ca-462a-8234-99ecc7449ba2"
   },
   "outputs": [
    {
     "name": "stdout",
     "output_type": "stream",
     "text": [
      "5 10\n"
     ]
    }
   ],
   "source": [
    "X=5\n",
    "y = 10\n",
    "\n",
    "print(X,y)"
   ]
  },
  {
   "cell_type": "code",
   "execution_count": null,
   "metadata": {
    "colab": {},
    "colab_type": "code",
    "id": "j-EvqKzkSUme"
   },
   "outputs": [],
   "source": [
    "''' \n",
    "Here name is variable and assigning name ineuron to variable name then we dont need to declare and assign , \n",
    "we can directly assign hence it is declared. For example,\n",
    "'''\n",
    "\n",
    "# Correct variable assignment\n",
    "name = \"ineuron\"\n",
    "\n",
    "# Dont need below one\n",
    "name = \"\"\n",
    "name = \"ineuron\""
   ]
  },
  {
   "cell_type": "markdown",
   "metadata": {
    "colab_type": "text",
    "id": "o5oStywYSUmi"
   },
   "source": [
    "For variable-names, there are certain rules which we should follow as a best practice:-"
   ]
  },
  {
   "cell_type": "markdown",
   "metadata": {
    "colab_type": "text",
    "id": "LntXeVPPSUmj"
   },
   "source": [
    "**1)**  Variable name can't start with number"
   ]
  },
  {
   "cell_type": "code",
   "execution_count": null,
   "metadata": {
    "colab": {
     "base_uri": "https://localhost:8080/",
     "height": 129
    },
    "colab_type": "code",
    "executionInfo": {
     "elapsed": 1358,
     "status": "error",
     "timestamp": 1597649648370,
     "user": {
      "displayName": "khushali shah",
      "photoUrl": "https://lh3.googleusercontent.com/a-/AOh14Gin-WGUtjrJSNaMWLlI-Wr_VJF7QMxCHLiP64LO=s64",
      "userId": "00155816219623022725"
     },
     "user_tz": -330
    },
    "id": "BCrwNOJFSUmk",
    "outputId": "d0d58377-0e32-4c00-b8ca-75aa2309dff1"
   },
   "outputs": [
    {
     "ename": "SyntaxError",
     "evalue": "ignored",
     "output_type": "error",
     "traceback": [
      "\u001b[0;36m  File \u001b[0;32m\"<ipython-input-5-80fa2c45b22b>\"\u001b[0;36m, line \u001b[0;32m2\u001b[0m\n\u001b[0;31m    1a = \"ineuron\"\u001b[0m\n\u001b[0m     ^\u001b[0m\n\u001b[0;31mSyntaxError\u001b[0m\u001b[0;31m:\u001b[0m invalid syntax\n"
     ]
    }
   ],
   "source": [
    "# Wrong coding practice\n",
    "1a = \"ineuron\"\n",
    "1name = \"ineuron\""
   ]
  },
  {
   "cell_type": "code",
   "execution_count": null,
   "metadata": {
    "colab": {},
    "colab_type": "code",
    "id": "pVNOwcjjSUmp"
   },
   "outputs": [],
   "source": [
    "# correct one\n",
    "name1 = \"ineuron\""
   ]
  },
  {
   "cell_type": "markdown",
   "metadata": {
    "colab_type": "text",
    "id": "NMsGOHmHSUmu"
   },
   "source": [
    "**2)**  Variable name are case-sensitive."
   ]
  },
  {
   "cell_type": "code",
   "execution_count": null,
   "metadata": {
    "colab": {},
    "colab_type": "code",
    "id": "tTTQu1EXSUmv"
   },
   "outputs": [],
   "source": [
    "# here name and Name are two different variable, so they are case sensitive\n",
    "name = \"ineuron\"\n",
    "Name = \"ineuron_company\"\n",
    "\n",
    "print(name)\n",
    "print(Name)"
   ]
  },
  {
   "cell_type": "markdown",
   "metadata": {
    "colab_type": "text",
    "id": "YTWVXeATSUm0"
   },
   "source": [
    "**3)**  Don't use python in built function/ data-type as a variable name"
   ]
  },
  {
   "cell_type": "code",
   "execution_count": null,
   "metadata": {
    "colab": {},
    "colab_type": "code",
    "id": "PVCY432YSUm0"
   },
   "outputs": [],
   "source": [
    "# Wrong practice\n",
    "int = 1\n",
    "\n",
    "# correct practice\n",
    "number_1 = 1"
   ]
  },
  {
   "cell_type": "code",
   "execution_count": null,
   "metadata": {
    "colab": {},
    "colab_type": "code",
    "id": "gbJ9I-aQSUm6"
   },
   "outputs": [],
   "source": [
    "number_1"
   ]
  },
  {
   "cell_type": "markdown",
   "metadata": {
    "colab_type": "text",
    "id": "20KWxTQ7SUnA"
   },
   "source": [
    "**4)**  Variable name can only contain alpha-numeric characters and underscores (A-z, 0-9, and _ ). No other special characters are allowed."
   ]
  },
  {
   "cell_type": "code",
   "execution_count": null,
   "metadata": {
    "colab": {},
    "colab_type": "code",
    "id": "gRbqs3DgSUnB"
   },
   "outputs": [],
   "source": [
    "# wrong one\n",
    "name& = \"hi\""
   ]
  },
  {
   "cell_type": "code",
   "execution_count": null,
   "metadata": {
    "colab": {},
    "colab_type": "code",
    "id": "Zr7gJ9f4SUnF"
   },
   "outputs": [],
   "source": [
    "# correct one\n",
    "name_a = \"ineuron\""
   ]
  },
  {
   "cell_type": "code",
   "execution_count": null,
   "metadata": {
    "colab": {},
    "colab_type": "code",
    "id": "My5Udj0FSUnL"
   },
   "outputs": [],
   "source": [
    "# Basic understanding of variables through below image"
   ]
  },
  {
   "cell_type": "markdown",
   "metadata": {
    "colab_type": "text",
    "id": "j7Fome4pSUnO"
   },
   "source": [
    "<img src=\"img/pythonVar.png\">"
   ]
  },
  {
   "cell_type": "markdown",
   "metadata": {
    "colab_type": "text",
    "id": "sAP0b0-NSUnP"
   },
   "source": [
    "Now, we know how can we assign into variable. Let's check basic datatypes exist in python"
   ]
  },
  {
   "cell_type": "markdown",
   "metadata": {
    "colab_type": "text",
    "id": "XtUruOw2SUnQ"
   },
   "source": [
    "## 3.4 Fundamental data-types in python"
   ]
  },
  {
   "cell_type": "markdown",
   "metadata": {
    "colab_type": "text",
    "id": "Of5iiesjSUnS"
   },
   "source": [
    "### 3.4.1 Integers\n",
    "\n",
    "Integer literals are created by any number without a decimal or complex component. They can be represented as a whole number."
   ]
  },
  {
   "cell_type": "code",
   "execution_count": null,
   "metadata": {
    "colab": {},
    "colab_type": "code",
    "id": "_d4PU3NqSUnT",
    "outputId": "c153f4fd-df2f-454a-e92e-9659096e5118"
   },
   "outputs": [
    {
     "name": "stdout",
     "output_type": "stream",
     "text": [
      "7\n",
      "<class 'int'>\n"
     ]
    }
   ],
   "source": [
    "# integers\n",
    "a = 7\n",
    "print(a)\n",
    "\n",
    "# How to check type of variable\n",
    "print(type(a))"
   ]
  },
  {
   "cell_type": "markdown",
   "metadata": {
    "colab_type": "text",
    "id": "P3dCzTVYSUnX"
   },
   "source": [
    "### 3.4.2 Floats\n",
    "\n",
    "Float literals can be created by adding a decimal component to a number. When we need to display decimal points to a number, then we will use float number."
   ]
  },
  {
   "cell_type": "code",
   "execution_count": null,
   "metadata": {
    "colab": {},
    "colab_type": "code",
    "id": "N5e_A8hvSUnZ",
    "outputId": "c83112a0-abb9-4db4-ea9d-bafdb1c52c99"
   },
   "outputs": [
    {
     "name": "stdout",
     "output_type": "stream",
     "text": [
      "1.5\n",
      "<class 'float'>\n"
     ]
    }
   ],
   "source": [
    "# float\n",
    "x = 1.5\n",
    "print(x)\n",
    "\n",
    "# How to check type of variable\n",
    "print(type(x))"
   ]
  },
  {
   "cell_type": "markdown",
   "metadata": {
    "colab_type": "text",
    "id": "2-uBVQIkSUnd"
   },
   "source": [
    "But, if you write same number without decimal it will consider as integer number"
   ]
  },
  {
   "cell_type": "code",
   "execution_count": null,
   "metadata": {
    "colab": {},
    "colab_type": "code",
    "id": "rOxKLtvDSUnf",
    "outputId": "18591758-f38c-428e-cbb3-1be91f392336"
   },
   "outputs": [
    {
     "name": "stdout",
     "output_type": "stream",
     "text": [
      "1\n",
      "<class 'int'>\n"
     ]
    }
   ],
   "source": [
    "x= 1\n",
    "print(x)\n",
    "print(type(x))"
   ]
  },
  {
   "cell_type": "markdown",
   "metadata": {
    "colab_type": "text",
    "id": "UozQHKNESUnj"
   },
   "source": [
    "### 3.4.3 Boolean\n",
    "\n",
    "Boolean can be defined by typing True/False without quotes"
   ]
  },
  {
   "cell_type": "code",
   "execution_count": null,
   "metadata": {
    "colab": {},
    "colab_type": "code",
    "id": "doKU213OSUnl",
    "outputId": "fae7844c-5f3b-4e3e-b3de-ae9ca5f10177"
   },
   "outputs": [
    {
     "data": {
      "text/plain": [
       "bool"
      ]
     },
     "execution_count": 1,
     "metadata": {
      "tags": []
     },
     "output_type": "execute_result"
    }
   ],
   "source": [
    "# boolean\n",
    "b1 = True\n",
    "b2 = False\n",
    "\n",
    "type(b1)"
   ]
  },
  {
   "cell_type": "markdown",
   "metadata": {
    "colab_type": "text",
    "id": "fF-Ywe9MSUnr"
   },
   "source": [
    "### 3.4.4 Strings\n",
    "\n",
    "String literals can be defined with any of single quotes `'`, double quotes `\"` or triple quotes `'''` or `\"\"\"`. All give the same result with two important differences.\n",
    "\n",
    "If you quote with single quotes, you do not have to escape double quotes and vice-versa. If you quote with triple quotes, your string can span multiple lines."
   ]
  },
  {
   "cell_type": "code",
   "execution_count": null,
   "metadata": {
    "colab": {},
    "colab_type": "code",
    "id": "Jcccj-V9SUnt",
    "outputId": "24dbab80-883e-48aa-b069-c9f7aea5d843"
   },
   "outputs": [
    {
     "data": {
      "text/plain": [
       "'your name vvgafdasfasfasfa'"
      ]
     },
     "execution_count": 28,
     "metadata": {
      "tags": []
     },
     "output_type": "execute_result"
    }
   ],
   "source": [
    "# string with single quote\n",
    "name1 = 'your name vvgafdasfasfasfa'\n",
    "type(name1)\n",
    "name1"
   ]
  },
  {
   "cell_type": "code",
   "execution_count": null,
   "metadata": {
    "colab": {},
    "colab_type": "code",
    "id": "rralIm8kSUnw",
    "outputId": "85a6f8cc-9d8a-4f81-9471-4edb771af503"
   },
   "outputs": [
    {
     "data": {
      "text/plain": [
       "'your name vvgafdasfasfasfa'"
      ]
     },
     "execution_count": 29,
     "metadata": {
      "tags": []
     },
     "output_type": "execute_result"
    }
   ],
   "source": [
    "# string with double quote\n",
    "name1 = \"your name vvgafdasfasfasfa\"\n",
    "type(name1)\n",
    "name1"
   ]
  },
  {
   "cell_type": "code",
   "execution_count": null,
   "metadata": {
    "colab": {},
    "colab_type": "code",
    "id": "pIonMw5uSUn0",
    "outputId": "5afdbd04-8e73-40f3-927e-b25d5f050713"
   },
   "outputs": [
    {
     "data": {
      "text/plain": [
       "'\\nyour name vvgafdasfasfasfa.\\nyour name vvgafdasfasfasfa\\nyour name vvgafdasfasfasfa\\n'"
      ]
     },
     "execution_count": 31,
     "metadata": {
      "tags": []
     },
     "output_type": "execute_result"
    }
   ],
   "source": [
    "# string with triple quote\n",
    "name1 = '''\n",
    "your name vvgafdasfasfasfa.\n",
    "your name vvgafdasfasfasfa\n",
    "your name vvgafdasfasfasfa\n",
    "'''\n",
    "type(name1)\n",
    "name1"
   ]
  },
  {
   "cell_type": "markdown",
   "metadata": {
    "colab_type": "text",
    "id": "XxhglI3sSUn5"
   },
   "source": [
    "### 3.4.5 Complex"
   ]
  },
  {
   "cell_type": "markdown",
   "metadata": {
    "colab_type": "text",
    "id": "E0bTdbvpSUn6"
   },
   "source": [
    "Complex literals can be created by using the notation x + yj where x is the real component and y is the imaginary component."
   ]
  },
  {
   "cell_type": "code",
   "execution_count": null,
   "metadata": {
    "colab": {},
    "colab_type": "code",
    "id": "A1UsKqlfSUn7",
    "outputId": "7003c5f3-1762-4aa4-b855-c5b43a7d2e9e"
   },
   "outputs": [
    {
     "data": {
      "text/plain": [
       "(1-2j)"
      ]
     },
     "execution_count": 32,
     "metadata": {
      "tags": []
     },
     "output_type": "execute_result"
    }
   ],
   "source": [
    "#complex numbers: note the use of `j` to specify the imaginary part\n",
    "\n",
    "\n",
    "j = 1.0 - 2.0j\n",
    "\n",
    "j"
   ]
  },
  {
   "cell_type": "code",
   "execution_count": null,
   "metadata": {
    "colab": {},
    "colab_type": "code",
    "id": "MwQ_iTV8SUoA",
    "outputId": "b6594fcc-93ce-426e-948f-7fe59ea30da3"
   },
   "outputs": [
    {
     "data": {
      "text/plain": [
       "(1-2j)"
      ]
     },
     "execution_count": 34,
     "metadata": {
      "tags": []
     },
     "output_type": "execute_result"
    }
   ],
   "source": [
    "j"
   ]
  },
  {
   "cell_type": "code",
   "execution_count": null,
   "metadata": {
    "colab": {},
    "colab_type": "code",
    "id": "jCMttve8SUoF",
    "outputId": "339f3b18-f7dc-49b9-9dbd-539b33807af6"
   },
   "outputs": [
    {
     "name": "stdout",
     "output_type": "stream",
     "text": [
      "1.0 -2.0\n"
     ]
    }
   ],
   "source": [
    "print(j.real, j.imag)"
   ]
  },
  {
   "cell_type": "markdown",
   "metadata": {
    "colab_type": "text",
    "id": "BME8m_cZg5Mn"
   },
   "source": [
    "For more details about complex numbers, refer https://en.wikipedia.org/wiki/Complex_number"
   ]
  },
  {
   "cell_type": "markdown",
   "metadata": {
    "colab_type": "text",
    "id": "5ZGkG2n3SUoI"
   },
   "source": [
    "## 3.5 Dynamic Typing\n",
    "\n",
    "In Python, while the value that a variable points to has a type, the variable itself has no strict type in its definition. You can re-use the same variable to point to an object of a different type. It may be helpful to think of variables as \"labels\" associated with objects."
   ]
  },
  {
   "cell_type": "code",
   "execution_count": null,
   "metadata": {
    "colab": {},
    "colab_type": "code",
    "id": "J0IfQzZCSUoK",
    "outputId": "d899ac9e-23e8-40b1-9ab6-109f1654f99e"
   },
   "outputs": [
    {
     "data": {
      "text/plain": [
       "10"
      ]
     },
     "execution_count": 36,
     "metadata": {
      "tags": []
     },
     "output_type": "execute_result"
    }
   ],
   "source": [
    "ten = 10\n",
    "ten"
   ]
  },
  {
   "cell_type": "code",
   "execution_count": null,
   "metadata": {
    "colab": {},
    "colab_type": "code",
    "id": "ej7d5YsDSUoP",
    "outputId": "c339fb59-2e66-4706-d5a1-750c58423f53"
   },
   "outputs": [
    {
     "data": {
      "text/plain": [
       "'ten'"
      ]
     },
     "execution_count": 37,
     "metadata": {
      "tags": []
     },
     "output_type": "execute_result"
    }
   ],
   "source": [
    "ten = 'ten'\n",
    "ten"
   ]
  },
  {
   "cell_type": "markdown",
   "metadata": {
    "colab_type": "text",
    "id": "T2tD0tjwSUoT"
   },
   "source": [
    "## 3.6 Strong Typing\n",
    "\n",
    "While Python allows you to be very flexible with your types, you must still be aware of what those types are. Certain operations will require certain types as arguments."
   ]
  },
  {
   "cell_type": "code",
   "execution_count": null,
   "metadata": {
    "colab": {},
    "colab_type": "code",
    "id": "Ccs6VOTkSUoU",
    "outputId": "cf69adeb-5971-485c-ac12-9f0f5766b3c8"
   },
   "outputs": [
    {
     "data": {
      "text/plain": [
       "'Day 1'"
      ]
     },
     "execution_count": 41,
     "metadata": {
      "tags": []
     },
     "output_type": "execute_result"
    }
   ],
   "source": [
    "# Need to convert int to string for concatenate with string\n",
    "'Day ' +str(1)"
   ]
  },
  {
   "cell_type": "code",
   "execution_count": null,
   "metadata": {
    "colab": {},
    "colab_type": "code",
    "id": "ewgw9KLtSUoZ",
    "outputId": "9e4ab66a-7aa2-4b3f-dac4-3a6cba7f80fc"
   },
   "outputs": [
    {
     "ename": "TypeError",
     "evalue": "can only concatenate str (not \"int\") to str",
     "output_type": "error",
     "traceback": [
      "\u001b[1;31m---------------------------------------------------------------------------\u001b[0m",
      "\u001b[1;31mTypeError\u001b[0m                                 Traceback (most recent call last)",
      "\u001b[1;32m<ipython-input-40-cbc44c0774a4>\u001b[0m in \u001b[0;36m<module>\u001b[1;34m\u001b[0m\n\u001b[0;32m      1\u001b[0m \u001b[1;31m# can't concatenate string with integer however we will see concatenation and string comprehention in a later stage\u001b[0m\u001b[1;33m\u001b[0m\u001b[1;33m\u001b[0m\u001b[1;33m\u001b[0m\u001b[0m\n\u001b[1;32m----> 2\u001b[1;33m \u001b[1;34m'Day '\u001b[0m \u001b[1;33m+\u001b[0m \u001b[1;36m1\u001b[0m\u001b[1;33m\u001b[0m\u001b[1;33m\u001b[0m\u001b[0m\n\u001b[0m",
      "\u001b[1;31mTypeError\u001b[0m: can only concatenate str (not \"int\") to str"
     ]
    }
   ],
   "source": [
    "# can't concatenate string with integer however we will see concatenation and string comprehention in a later stage\n",
    "'Day ' + 1"
   ]
  },
  {
   "cell_type": "markdown",
   "metadata": {
    "colab_type": "text",
    "id": "nF_UlRwySUog"
   },
   "source": [
    "This behavior is different from some other loosely-typed languages. If you were to do the same thing in JavaScript, you would get a different result.\n",
    "\n",
    "In Python, however, it is possible to change the type of an object through builtin functions."
   ]
  },
  {
   "cell_type": "code",
   "execution_count": null,
   "metadata": {
    "colab": {},
    "colab_type": "code",
    "id": "dNebwid4SUog"
   },
   "outputs": [],
   "source": [
    "# Let's look for more use of variables"
   ]
  },
  {
   "cell_type": "code",
   "execution_count": null,
   "metadata": {
    "colab": {},
    "colab_type": "code",
    "id": "vAsR_8s-SUoj",
    "outputId": "26c06527-1225-407c-add9-b18d82221dcd"
   },
   "outputs": [
    {
     "name": "stdout",
     "output_type": "stream",
     "text": [
      "iNeuron has  100000  no. of students\n"
     ]
    }
   ],
   "source": [
    "students = 100000\n",
    "\n",
    "print(\"iNeuron has \", students , \" no. of students\")\n"
   ]
  },
  {
   "cell_type": "code",
   "execution_count": null,
   "metadata": {
    "colab": {},
    "colab_type": "code",
    "id": "F14BOUGTSUoo",
    "outputId": "ed0c408a-3cb8-45de-c448-9d280b9e3a66"
   },
   "outputs": [
    {
     "name": "stdout",
     "output_type": "stream",
     "text": [
      "iNeuron has 100000 no. of students\n"
     ]
    }
   ],
   "source": [
    "# If we want to print similar above example with concatenation , we need to convert int to string.\n",
    "print(\"iNeuron has \" + str(students) + \" no. of students\")"
   ]
  },
  {
   "cell_type": "code",
   "execution_count": null,
   "metadata": {
    "colab": {},
    "colab_type": "code",
    "id": "gMFgj0U7SUot",
    "outputId": "aff56e9a-737e-4c11-d466-faa3f68ca61b"
   },
   "outputs": [
    {
     "name": "stdout",
     "output_type": "stream",
     "text": [
      "Today Gold rate crosses  52000\n"
     ]
    }
   ],
   "source": [
    "gold_rate = 52000\n",
    "print(\"Today Gold rate crosses \" , gold_rate)"
   ]
  },
  {
   "cell_type": "code",
   "execution_count": null,
   "metadata": {
    "colab": {},
    "colab_type": "code",
    "id": "UDNgMmlHSUoy",
    "outputId": "bca09b9e-61ac-4a9f-cbae-e6fbfa033dc5"
   },
   "outputs": [
    {
     "name": "stdout",
     "output_type": "stream",
     "text": [
      "There are 10 cars available but only 5 drivers available to drive cars\n"
     ]
    }
   ],
   "source": [
    "no_of_cars = 10\n",
    "no_of_drivers = 5\n",
    "print(\"There are\", no_of_cars , \"cars available but only\", no_of_drivers, \"drivers available to drive cars\")"
   ]
  },
  {
   "cell_type": "code",
   "execution_count": null,
   "metadata": {
    "colab": {},
    "colab_type": "code",
    "id": "x8DdQgKHSUo2",
    "outputId": "bfea0691-67e1-4ef9-d63c-5babac239f0e"
   },
   "outputs": [
    {
     "name": "stdout",
     "output_type": "stream",
     "text": [
      "My weight is 55.6 kg\n"
     ]
    }
   ],
   "source": [
    "my_weight = 55.6\n",
    "print(\"My weight is\", my_weight,\"kg\")"
   ]
  },
  {
   "cell_type": "markdown",
   "metadata": {
    "colab_type": "text",
    "id": "3dzUGuytSUo_"
   },
   "source": [
    "## 3.7 String formatting"
   ]
  },
  {
   "cell_type": "code",
   "execution_count": null,
   "metadata": {
    "colab": {},
    "colab_type": "code",
    "id": "n7e6i82OSUpA",
    "outputId": "5e698c5f-1e6d-417d-85b7-fa66ec894e26"
   },
   "outputs": [
    {
     "name": "stdout",
     "output_type": "stream",
     "text": [
      "Greetings from ineuron! Have a good day\n"
     ]
    }
   ],
   "source": [
    "# For string formatting we can use as below. Generally this is widely used method. however alternatives are available:-\n",
    "print(\"Greetings from {}! Have a {} day\".format(\"ineuron\",\"good\"))"
   ]
  },
  {
   "cell_type": "code",
   "execution_count": null,
   "metadata": {
    "colab": {
     "base_uri": "https://localhost:8080/",
     "height": 34
    },
    "colab_type": "code",
    "executionInfo": {
     "elapsed": 1143,
     "status": "ok",
     "timestamp": 1597650850721,
     "user": {
      "displayName": "khushali shah",
      "photoUrl": "https://lh3.googleusercontent.com/a-/AOh14Gin-WGUtjrJSNaMWLlI-Wr_VJF7QMxCHLiP64LO=s64",
      "userId": "00155816219623022725"
     },
     "user_tz": -330
    },
    "id": "vdKohLnUZ8ew",
    "outputId": "bd08222b-4ade-499e-b5c5-9535a450787e"
   },
   "outputs": [
    {
     "name": "stdout",
     "output_type": "stream",
     "text": [
      "Greetings from ineuron! Have a good day\n"
     ]
    }
   ],
   "source": [
    "#Another way of doing formating using f string\n",
    "a = \"ineuron\"\n",
    "b = \"good\"\n",
    "print(f\"Greetings from {a}! Have a {b} day\")"
   ]
  },
  {
   "cell_type": "code",
   "execution_count": null,
   "metadata": {
    "colab": {},
    "colab_type": "code",
    "id": "zENuJqZ0SUpF",
    "outputId": "3d7640cd-c354-43eb-c4ed-0fd8df2f5c12"
   },
   "outputs": [
    {
     "data": {
      "text/plain": [
       "'Greetings, from, iNeuron'"
      ]
     },
     "execution_count": 4,
     "metadata": {
      "tags": []
     },
     "output_type": "execute_result"
    }
   ],
   "source": [
    "#Another way of doing formating using format\n",
    "'{0}, {1}, {2}'.format('Greetings', 'from', 'iNeuron')"
   ]
  },
  {
   "cell_type": "code",
   "execution_count": null,
   "metadata": {
    "colab": {},
    "colab_type": "code",
    "id": "OsolFaQOSUpM",
    "outputId": "82b0b947-38fa-46b8-fc13-dfa7e04128af"
   },
   "outputs": [
    {
     "data": {
      "text/plain": [
       "'Greetings, from, iNeuron'"
      ]
     },
     "execution_count": 5,
     "metadata": {
      "tags": []
     },
     "output_type": "execute_result"
    }
   ],
   "source": [
    "#Another way of doing formating using format\n",
    "'{2}, {1}, {0}'.format('iNeuron', 'from', 'Greetings')"
   ]
  },
  {
   "cell_type": "code",
   "execution_count": null,
   "metadata": {
    "colab": {},
    "colab_type": "code",
    "id": "r1nC9xqsSUpS",
    "outputId": "0cdd0dd9-3ba8-48fc-8a7b-7990e4cb3427"
   },
   "outputs": [
    {
     "name": "stdout",
     "output_type": "stream",
     "text": [
      "Greetings from ineuron! Have a good day\n"
     ]
    }
   ],
   "source": [
    "# There is another way of string formatting as below. For string we can use %s and for integer we can use %d\n",
    "print(\"Greetings from %s! Have a %s day\" % (\"ineuron\",\"good\"))"
   ]
  },
  {
   "cell_type": "code",
   "execution_count": null,
   "metadata": {
    "colab": {},
    "colab_type": "code",
    "id": "XXPOZeXnSUpW",
    "outputId": "5c5c0a31-5715-4a0f-e1d3-0fb4b084cc3f"
   },
   "outputs": [
    {
     "name": "stdout",
     "output_type": "stream",
     "text": [
      "Hey, i am 40 years old\n"
     ]
    }
   ],
   "source": [
    "print(\"Hey, i am %d years old\" % (40))"
   ]
  },
  {
   "cell_type": "code",
   "execution_count": null,
   "metadata": {
    "colab": {},
    "colab_type": "code",
    "id": "P1IlYiWqSUpd",
    "outputId": "6a7e3146-b0e3-4340-fbc9-318a815725c7"
   },
   "outputs": [
    {
     "name": "stdout",
     "output_type": "stream",
     "text": [
      "Hey,My weight is 55.500000 kg\n"
     ]
    }
   ],
   "source": [
    "# For float we can use %f\n",
    "print(\"Hey,My weight is %f kg\" % (55.5))"
   ]
  },
  {
   "cell_type": "markdown",
   "metadata": {
    "colab_type": "text",
    "id": "MAI8vxQ8SUpi"
   },
   "source": [
    "For more details about string formatting, refer below documents:-\n",
    "    \n",
    "https://docs.python.org/3.8/library/string.html"
   ]
  },
  {
   "cell_type": "markdown",
   "metadata": {
    "colab_type": "text",
    "id": "xGC466t3SUpj"
   },
   "source": [
    "## 3.8 Input from user"
   ]
  },
  {
   "cell_type": "markdown",
   "metadata": {
    "colab_type": "text",
    "id": "fmio4fauSUpj"
   },
   "source": [
    "If we want to ask something to user or want input from the user we can use input() function."
   ]
  },
  {
   "cell_type": "code",
   "execution_count": null,
   "metadata": {
    "colab": {},
    "colab_type": "code",
    "id": "aMrYv6AESUpk",
    "outputId": "c05c75f3-b4e2-45e8-aef4-ecdf787721ff"
   },
   "outputs": [
    {
     "name": "stdout",
     "output_type": "stream",
     "text": [
      "Enter your name:- iNeuron\n",
      "Your name is  iNeuron\n"
     ]
    }
   ],
   "source": [
    "# Lets say if we are asking user their name:-\n",
    "name = input(\"Enter your name:- \")\n",
    "print(\"Your name is \" ,name)"
   ]
  },
  {
   "cell_type": "markdown",
   "metadata": {
    "colab_type": "text",
    "id": "Mg40uOgHSUpq"
   },
   "source": [
    ">**Note:-** `input()` will always return as a string, if we want to use it as a int/float we need to convert into respective data-type.\n",
    "Let's check below example:-"
   ]
  },
  {
   "cell_type": "code",
   "execution_count": null,
   "metadata": {
    "colab": {},
    "colab_type": "code",
    "id": "YrCNVUgJSUpr",
    "outputId": "aaf44b89-2503-4c99-c97a-a1a873d77bcb"
   },
   "outputs": [
    {
     "name": "stdout",
     "output_type": "stream",
     "text": [
      "Enter your age:- 50\n",
      "50\n",
      "<class 'str'>\n"
     ]
    }
   ],
   "source": [
    "a = input(\"Enter your age:- \")\n",
    "print(a)\n",
    "print(type(a))"
   ]
  },
  {
   "cell_type": "code",
   "execution_count": null,
   "metadata": {
    "colab": {},
    "colab_type": "code",
    "id": "QqWrKOzASUp4",
    "outputId": "9c96b6c2-10c4-48f0-f7e7-cd18376fa65e"
   },
   "outputs": [
    {
     "name": "stdout",
     "output_type": "stream",
     "text": [
      "50\n",
      "<class 'int'>\n"
     ]
    }
   ],
   "source": [
    "# If we want to take it as an integer, we should convert to int before using it.\n",
    "a = int(a)\n",
    "print(a)\n",
    "print(type(a))"
   ]
  },
  {
   "cell_type": "code",
   "execution_count": null,
   "metadata": {
    "colab": {},
    "colab_type": "code",
    "id": "DMFBuJKGUpXg"
   },
   "outputs": [],
   "source": []
  }
 ],
 "metadata": {
  "colab": {
   "collapsed_sections": [],
   "name": "3. Python basic variables.ipynb",
   "provenance": [],
   "toc_visible": true
  },
  "kernelspec": {
   "display_name": "Python 3",
   "language": "python",
   "name": "python3"
  },
  "language_info": {
   "codemirror_mode": {
    "name": "ipython",
    "version": 3
   },
   "file_extension": ".py",
   "mimetype": "text/x-python",
   "name": "python",
   "nbconvert_exporter": "python",
   "pygments_lexer": "ipython3",
   "version": "3.8.5"
  }
 },
 "nbformat": 4,
 "nbformat_minor": 1
}
