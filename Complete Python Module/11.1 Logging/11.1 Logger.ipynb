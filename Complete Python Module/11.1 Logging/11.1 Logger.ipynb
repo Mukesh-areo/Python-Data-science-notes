{
 "cells": [
  {
   "cell_type": "markdown",
   "metadata": {
    "colab_type": "text",
    "id": "4Q0nGjEtD2O0"
   },
   "source": [
    "<img src=\"https://d24cdstip7q8pz.cloudfront.net/t/ineuron1/content/common/images/final%20logo.png\" height=60 alt-text=\"iNeuron.ai logo\">\n"
   ]
  },
  {
   "cell_type": "markdown",
   "metadata": {
    "colab_type": "text",
    "id": "yQ8L-IZ3zieC"
   },
   "source": [
    "## 11.1.1 Logging in Python\n",
    "\n",
    "Why do we do logging?\n",
    "\n",
    "\n",
    "Logging is an important part of coding process to keep a track of all the events happening when the code is run. \n",
    "By logging we can create custom messages/events to indicate different stages of the code. Logging makes it easier to monitor , troubleshoot and debug the code.\n",
    "\n",
    "The most simple way of doing logging is using a \"print\" function. But there are many disadvantages of using a \"print\" function and also there are many functionalities available with \"logger\" method in python. \"Print\" statement might let you debug the code in the case of error while the code is in development stage but once you deploy the code to production, using logger is the best practice.\n",
    "\n",
    "Logger provides different severity levels (warning, errors, critical, info etc.) to log different events.\n",
    "As per the official python document, below are the different severity levels and their description:\n",
    "\n",
    "**1)** DEBUG - Detailed information, typically of interest only when diagnosing problems.\n",
    "\n",
    "**2)** INFO -  Confirmation that things are working as expected.\n",
    "\n",
    "**3)** WARNING - .An indication that something unexpected happened, or indicative of some problem in the near future (e.g. ‘disk space low’). The software is still working as expected.\n",
    "\n",
    "**4)** ERROR - Due to a more serious problem, the software has not been able to perform some function.\n",
    "\n",
    "**5)** CRITICAL - A serious error, indicating that the program itself may be unable to continue running.\n",
    "\n",
    "\n",
    "Let's see how we can use Logging method in python."
   ]
  },
  {
   "cell_type": "code",
   "execution_count": 1,
   "metadata": {
    "colab": {},
    "colab_type": "code",
    "executionInfo": {
     "elapsed": 2499,
     "status": "ok",
     "timestamp": 1597657196137,
     "user": {
      "displayName": "khushali shah",
      "photoUrl": "https://lh3.googleusercontent.com/a-/AOh14Gin-WGUtjrJSNaMWLlI-Wr_VJF7QMxCHLiP64LO=s64",
      "userId": "00155816219623022725"
     },
     "user_tz": -330
    },
    "id": "bGDZUXh1zieH"
   },
   "outputs": [],
   "source": [
    "# We need to import logging python module\n",
    "import logging"
   ]
  },
  {
   "cell_type": "code",
   "execution_count": null,
   "metadata": {
    "colab": {},
    "colab_type": "code",
    "id": "TQUvOIFBzief"
   },
   "outputs": [],
   "source": [
    "# let's create a log file with name \"logger\" and set the severity level to \"info\"\n",
    "logging.basicConfig(filename='Logger1.log',level=logging.INFO)\n"
   ]
  },
  {
   "cell_type": "code",
   "execution_count": null,
   "metadata": {
    "colab": {},
    "colab_type": "code",
    "id": "3rUd0brcziew"
   },
   "outputs": [],
   "source": [
    "logging.info(\"Info message being logged!!\")\n",
    "logging.warning(\"Warning message being logged!!\")\n",
    "logging.error(\"Error!!\")"
   ]
  },
  {
   "cell_type": "markdown",
   "metadata": {
    "colab_type": "text",
    "id": "3UguKowXzie8"
   },
   "source": [
    "Let's open the log file created and see if the messages are logged.\n",
    "\n",
    "<img src=\"img/logger.png\">"
   ]
  },
  {
   "cell_type": "markdown",
   "metadata": {
    "colab_type": "text",
    "id": "D5nKrXFazie-"
   },
   "source": [
    "Great! the messages are getting logged!!"
   ]
  },
  {
   "cell_type": "code",
   "execution_count": null,
   "metadata": {
    "colab": {},
    "colab_type": "code",
    "id": "g31siVtJzifD"
   },
   "outputs": [],
   "source": [
    "logging.shutdown()"
   ]
  },
  {
   "cell_type": "markdown",
   "metadata": {
    "colab_type": "text",
    "id": "SiStyvMqzifh"
   },
   "source": [
    "We can add timestamps to our logs also. Let's see that in a new log"
   ]
  },
  {
   "cell_type": "code",
   "execution_count": null,
   "metadata": {
    "colab": {},
    "colab_type": "code",
    "id": "4JNOYHekzifi"
   },
   "outputs": [],
   "source": [
    "logging.basicConfig(filename='logger2.log',level=logging.DEBUG, \n",
    "                    format='%(asctime)s %(message)s') # here we have set our default level to info, so all levels after info will be displayed.\n"
   ]
  },
  {
   "cell_type": "code",
   "execution_count": null,
   "metadata": {
    "colab": {},
    "colab_type": "code",
    "id": "CBIgQAY8zifr"
   },
   "outputs": [],
   "source": [
    "logging.info(\"Info message being logged!!\")\n",
    "logging.warning(\"Warning message being logged!!\")\n",
    "logging.error(\"Error!!\")"
   ]
  },
  {
   "cell_type": "markdown",
   "metadata": {
    "colab_type": "text",
    "id": "NY9-YICizif0"
   },
   "source": [
    "Let's check how the messages are logged in our file.\n",
    "\n",
    "<img src=\"img/logger2.png\">\n",
    "\n",
    "Now, our messages are being logged with timestamps."
   ]
  },
  {
   "cell_type": "code",
   "execution_count": null,
   "metadata": {
    "colab": {},
    "colab_type": "code",
    "id": "PHKVo2Lmzif4"
   },
   "outputs": [],
   "source": [
    "logging.shutdown()"
   ]
  },
  {
   "cell_type": "code",
   "execution_count": null,
   "metadata": {
    "colab": {},
    "colab_type": "code",
    "id": "OqB5g6zGzigM"
   },
   "outputs": [],
   "source": [
    "logging.basicConfig(filename='main.log',level=logging.INFO, \n",
    "                    format='%(asctime)s %(message)s') # here we have set our default level to info, so all levels after info will be displayed.\n"
   ]
  },
  {
   "cell_type": "code",
   "execution_count": null,
   "metadata": {
    "colab": {},
    "colab_type": "code",
    "id": "B1aRDNY1zigT"
   },
   "outputs": [],
   "source": [
    "def divideNum(a,b):\n",
    "    logging.info(\"Numbers are %s and %s\", a,b) # Logging variables\n",
    "    try:\n",
    "        div = a/b\n",
    "        logging.info(\"Method completed!!\")\n",
    "        return div\n",
    "    except Exception as e:\n",
    "        print(\"Check logs for exception!\")\n",
    "        logging.error(\"Error occured!!\")\n",
    "        logging.exception(\"Exception occured : \" + (str(e)))\n",
    "        \n",
    "    "
   ]
  },
  {
   "cell_type": "code",
   "execution_count": null,
   "metadata": {
    "colab": {},
    "colab_type": "code",
    "id": "2YFo1WmRzigg",
    "outputId": "38c831ff-b10f-4670-fe45-4d77a8cf6166"
   },
   "outputs": [
    {
     "data": {
      "text/plain": [
       "2.0"
      ]
     },
     "execution_count": 10,
     "metadata": {
      "tags": []
     },
     "output_type": "execute_result"
    }
   ],
   "source": [
    "divideNum(4,2)"
   ]
  },
  {
   "cell_type": "code",
   "execution_count": null,
   "metadata": {
    "colab": {},
    "colab_type": "code",
    "id": "Xr9F03v7zigm",
    "outputId": "3b615b29-7570-4df5-ab86-cc6b3b7a6ad9"
   },
   "outputs": [
    {
     "name": "stdout",
     "output_type": "stream",
     "text": [
      "Check logs for exception!\n"
     ]
    }
   ],
   "source": [
    "divideNum(4,0)"
   ]
  },
  {
   "cell_type": "markdown",
   "metadata": {
    "colab_type": "text",
    "id": "WNarHQHZzihB"
   },
   "source": [
    "Let's check the \"main_log\":\n",
    "\n",
    "<img src=\"img/mainLog.png\">"
   ]
  },
  {
   "cell_type": "code",
   "execution_count": null,
   "metadata": {
    "colab": {},
    "colab_type": "code",
    "id": "gTNIntXqzihD"
   },
   "outputs": [],
   "source": [
    "logging.shutdown()"
   ]
  },
  {
   "cell_type": "code",
   "execution_count": null,
   "metadata": {
    "colab": {},
    "colab_type": "code",
    "id": "NuRPri7ozihH"
   },
   "outputs": [],
   "source": [
    "# Lets check different log level messages\n",
    "logging.debug('This is a debug message')\n",
    "logging.info('This is an info message')\n",
    "logging.warning('This is a warning message')\n",
    "logging.error('This is an error message')\n",
    "logging.critical('This is a critical message')"
   ]
  },
  {
   "cell_type": "markdown",
   "metadata": {
    "colab_type": "text",
    "id": "-qT7pcy-zihL"
   },
   "source": [
    "![image.png](attachment:image.png)"
   ]
  },
  {
   "cell_type": "markdown",
   "metadata": {
    "colab_type": "text",
    "id": "Q055iWHEzihM"
   },
   "source": [
    "This shows the log level before each message along side root, which is the name the logging module provides for its default logging. This configuration, which shows the level, name, and message isolated by a colon (:), is the default fromat.\n",
    "\n",
    ">**Notice:-** debug() and info() messages didn't get logged. This is on the grounds that, as a matter of course, the logging module logs the messages with a seriousness level of WARNING or above. You can change that by designing the logging module to log occasions everything being equal on the off chance that you need."
   ]
  },
  {
   "cell_type": "markdown",
   "metadata": {
    "colab_type": "text",
    "id": "P1rb2EqJzihN"
   },
   "source": [
    "### Capturing Stack Traces\n",
    "\n",
    "The logging module allows you to capture the full stack exception info and exception infor can be logged if the exc_info is passed as True in argument.\n",
    "Let us check below information."
   ]
  },
  {
   "cell_type": "code",
   "execution_count": null,
   "metadata": {
    "colab": {},
    "colab_type": "code",
    "id": "juh3apcDzihN"
   },
   "outputs": [],
   "source": [
    "# Trying to open the file which doesn't exist and log file not found exception in looger file.\n",
    "import logging\n",
    "\n",
    "try:\n",
    "  with open(\"file.csv\",\"r\"):\n",
    "    print(\"file read\")\n",
    "except Exception as e:\n",
    "  logging.error(\"Exception occurred\", exc_info=True)"
   ]
  },
  {
   "cell_type": "markdown",
   "metadata": {
    "colab_type": "text",
    "id": "mkLm76y1zihS"
   },
   "source": [
    "![image.png](attachment:image.png)"
   ]
  },
  {
   "cell_type": "code",
   "execution_count": null,
   "metadata": {
    "colab": {},
    "colab_type": "code",
    "id": "i5fCuuduzihS"
   },
   "outputs": [],
   "source": [
    "#Now, we can check same example without exc_info\n",
    "import logging\n",
    "\n",
    "try:\n",
    "  logging.info(\"Example started without using exc_info\")\n",
    "  with open(\"file.csv\",\"r\"):\n",
    "    print(\"file read\")\n",
    "except Exception as e:\n",
    "  logging.error(\"Exception occurred\")"
   ]
  },
  {
   "cell_type": "markdown",
   "metadata": {
    "colab_type": "text",
    "id": "ncKpXVmqzihY"
   },
   "source": [
    "![image.png](attachment:image.png)"
   ]
  },
  {
   "cell_type": "markdown",
   "metadata": {
    "colab_type": "text",
    "id": "YcwK-4WSzihY"
   },
   "source": [
    "Logging error with exc_info = true and logging_exception gives same result for logging an exception."
   ]
  },
  {
   "cell_type": "markdown",
   "metadata": {
    "colab_type": "text",
    "id": "RGjMpB1Vziha"
   },
   "source": [
    "### Logging to multiple destination\n",
    "\n",
    "Let’s say we want to log to console and file with different messages and in differing circumstances. Say you want to log messages with levels of DEBUG and higher to file, and those messages at level INFO and higher to the console. Let’s also assume that the file should contain timestamps, but the console messages should not. Here’s how you can achieve this:"
   ]
  },
  {
   "cell_type": "code",
   "execution_count": null,
   "metadata": {
    "colab": {},
    "colab_type": "code",
    "id": "waWRT8bhzihb",
    "outputId": "f8320264-4994-4d4c-a418-fc7dc8b03a14"
   },
   "outputs": [
    {
     "name": "stderr",
     "output_type": "stream",
     "text": [
      "root        : INFO     Logging to the root logger.\n",
      "root        : INFO     Logging to the root logger.\n",
      "logger1.area1: INFO     iNeuron is providing tremendous courses in different domains.\n",
      "logger1.area1: INFO     iNeuron is providing tremendous courses in different domains.\n",
      "logger2.area2: WARNING  This is a warning message.\n",
      "logger2.area2: WARNING  This is a warning message.\n",
      "logger2.area2: ERROR    This is an error message.\n",
      "logger2.area2: ERROR    This is an error message.\n"
     ]
    }
   ],
   "source": [
    "import logging\n",
    "\n",
    "# set up logging to file - see previous section for more details\n",
    "logging.basicConfig(level=logging.DEBUG,\n",
    "                    format='%(asctime)s %(name)-12s %(levelname)-8s %(message)s',\n",
    "                    datefmt='%m-%d %H:%M',\n",
    "                    filename='multiple.log',\n",
    "                    filemode='w')\n",
    "# define a Handler which writes INFO messages or higher to the sys.stderr\n",
    "console_log = logging.StreamHandler()\n",
    "console_log.setLevel(logging.INFO)\n",
    "# set a format which is simpler for console use\n",
    "formatter = logging.Formatter('%(name)-12s: %(levelname)-8s %(message)s')\n",
    "# tell the handler to use this format\n",
    "console_log.setFormatter(formatter)\n",
    "# add the handler to the root logger\n",
    "logging.getLogger('').addHandler(console_log)\n",
    "\n",
    "# Now, we can log to the root logger, or any other logger. First the root...\n",
    "logging.info('Logging to the root logger.')\n",
    "\n",
    "# Now, define a couple of other loggers which might represent areas in your\n",
    "# application:\n",
    "\n",
    "logger1 = logging.getLogger('logger1.area1')\n",
    "logger2 = logging.getLogger('logger2.area2')\n",
    "\n",
    "logger1.debug('Hello, greetings from iNeuron.')\n",
    "logger1.info('iNeuron is providing tremendous courses in different domains.')\n",
    "logger2.warning('This is a warning message.')\n",
    "logger2.error('This is an error message.')"
   ]
  },
  {
   "cell_type": "markdown",
   "metadata": {
    "colab_type": "text",
    "id": "bbfPqZrfzihi"
   },
   "source": [
    "Here we are consoling the output as well as we are logging in a file as shown in below image:-"
   ]
  },
  {
   "cell_type": "markdown",
   "metadata": {
    "colab_type": "text",
    "id": "gs3u16hHzihj"
   },
   "source": [
    "![image.png](attachment:image.png)"
   ]
  },
  {
   "cell_type": "markdown",
   "metadata": {
    "colab_type": "text",
    "id": "RQsE7l2rzihk"
   },
   "source": [
    " For more detailed explanation,\n",
    " >**Refer:-**  https://docs.python.org/3/howto/logging-cookbook.html"
   ]
  },
  {
   "cell_type": "code",
   "execution_count": null,
   "metadata": {
    "colab": {},
    "colab_type": "code",
    "id": "mUaA_-6nzihl",
    "outputId": "2afb789f-62d0-4455-f371-813d0087c02a"
   },
   "outputs": [
    {
     "name": "stderr",
     "output_type": "stream",
     "text": [
      "root        : INFO     square root of 3 is 2.23606797749979\n",
      "root        : INFO     square root of 3 is 2.23606797749979\n"
     ]
    }
   ],
   "source": [
    "# Lets check some example respective to logging.\n",
    "import logging\n",
    "import math\n",
    "logging.basicConfig(level=logging.INFO)\n",
    "\n",
    "def sqrt(a):\n",
    "    \"\"\"Compute the square root\"\"\"\n",
    "    return math.sqrt(a)\n",
    "\n",
    "logging.info(\"square root of {a} is {b}\".format(a=3, b=sqrt(a)))"
   ]
  },
  {
   "cell_type": "code",
   "execution_count": null,
   "metadata": {
    "colab": {},
    "colab_type": "code",
    "id": "JtnKVGJMziho"
   },
   "outputs": [],
   "source": []
  }
 ],
 "metadata": {
  "colab": {
   "collapsed_sections": [],
   "name": "11.1 Logger.ipynb",
   "provenance": [],
   "toc_visible": true
  },
  "kernelspec": {
   "display_name": "Python 3",
   "language": "python",
   "name": "python3"
  },
  "language_info": {
   "codemirror_mode": {
    "name": "ipython",
    "version": 3
   },
   "file_extension": ".py",
   "mimetype": "text/x-python",
   "name": "python",
   "nbconvert_exporter": "python",
   "pygments_lexer": "ipython3",
   "version": "3.8.5"
  }
 },
 "nbformat": 4,
 "nbformat_minor": 1
}
